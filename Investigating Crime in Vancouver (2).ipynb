{
 "cells": [
  {
   "cell_type": "code",
   "execution_count": null,
   "id": "ff57d85e-7b19-4aba-9e30-3c53e33767d7",
   "metadata": {},
   "outputs": [],
   "source": []
  },
  {
   "cell_type": "code",
   "execution_count": null,
   "id": "d26ffaa9-ffe1-4cfb-8d1f-0ecd5d4a88a4",
   "metadata": {},
   "outputs": [],
   "source": []
  },
  {
   "cell_type": "code",
   "execution_count": null,
   "id": "562e2b55-29d1-4e56-a4f7-168ff82cba09",
   "metadata": {},
   "outputs": [],
   "source": []
  },
  {
   "cell_type": "markdown",
   "id": "9a714527-085b-4365-8651-d57920e78351",
   "metadata": {},
   "source": [
    "## Preliminary Results"
   ]
  },
  {
   "cell_type": "markdown",
   "id": "a6ddce53-b13d-486b-a85e-19ccd0ec4854",
   "metadata": {},
   "source": [
    "#### Read Data from the Web"
   ]
  },
  {
   "cell_type": "code",
   "execution_count": 1,
   "id": "8a42797e-21ca-469f-a808-ab51714ad337",
   "metadata": {
    "tags": []
   },
   "outputs": [
    {
     "name": "stderr",
     "output_type": "stream",
     "text": [
      "── \u001b[1mAttaching core tidyverse packages\u001b[22m ──────────────────────── tidyverse 2.0.0 ──\n",
      "\u001b[32m✔\u001b[39m \u001b[34mdplyr    \u001b[39m 1.1.3     \u001b[32m✔\u001b[39m \u001b[34mreadr    \u001b[39m 2.1.4\n",
      "\u001b[32m✔\u001b[39m \u001b[34mforcats  \u001b[39m 1.0.0     \u001b[32m✔\u001b[39m \u001b[34mstringr  \u001b[39m 1.5.0\n",
      "\u001b[32m✔\u001b[39m \u001b[34mggplot2  \u001b[39m 3.4.3     \u001b[32m✔\u001b[39m \u001b[34mtibble   \u001b[39m 3.2.1\n",
      "\u001b[32m✔\u001b[39m \u001b[34mlubridate\u001b[39m 1.9.2     \u001b[32m✔\u001b[39m \u001b[34mtidyr    \u001b[39m 1.3.0\n",
      "\u001b[32m✔\u001b[39m \u001b[34mpurrr    \u001b[39m 1.0.1     \n",
      "── \u001b[1mConflicts\u001b[22m ────────────────────────────────────────── tidyverse_conflicts() ──\n",
      "\u001b[31m✖\u001b[39m \u001b[34mdplyr\u001b[39m::\u001b[32mcombine()\u001b[39m   masks \u001b[34mgridExtra\u001b[39m::combine()\n",
      "\u001b[31m✖\u001b[39m \u001b[34mdplyr\u001b[39m::\u001b[32mfilter()\u001b[39m    masks \u001b[34mstats\u001b[39m::filter()\n",
      "\u001b[31m✖\u001b[39m \u001b[34mdplyr\u001b[39m::\u001b[32mlag()\u001b[39m       masks \u001b[34mstats\u001b[39m::lag()\n",
      "\u001b[31m✖\u001b[39m \u001b[34mlubridate\u001b[39m::\u001b[32mstamp()\u001b[39m masks \u001b[34mcowplot\u001b[39m::stamp()\n",
      "\u001b[36mℹ\u001b[39m Use the conflicted package (\u001b[3m\u001b[34m<http://conflicted.r-lib.org/>\u001b[39m\u001b[23m) to force all conflicts to become errors\n"
     ]
    }
   ],
   "source": [
    "# Loads the packages used in the data analysis\n",
    "library(cowplot)\n",
    "library(digest)\n",
    "library(gridExtra)\n",
    "library(infer)\n",
    "library(repr)\n",
    "library(tidyverse)\n",
    "library(datateachr)"
   ]
  },
  {
   "cell_type": "code",
   "execution_count": 2,
   "id": "f1a680b7-6e56-46d1-bc6b-7344724d3400",
   "metadata": {
    "tags": []
   },
   "outputs": [
    {
     "data": {
      "text/html": [
       "'Table 1 - First Six Columns of the Dataset'"
      ],
      "text/latex": [
       "'Table 1 - First Six Columns of the Dataset'"
      ],
      "text/markdown": [
       "'Table 1 - First Six Columns of the Dataset'"
      ],
      "text/plain": [
       "[1] \"Table 1 - First Six Columns of the Dataset\""
      ]
     },
     "metadata": {},
     "output_type": "display_data"
    },
    {
     "data": {
      "text/html": [
       "<table class=\"dataframe\">\n",
       "<caption>A data.frame: 6 × 10</caption>\n",
       "<thead>\n",
       "\t<tr><th></th><th scope=col>TYPE</th><th scope=col>YEAR</th><th scope=col>MONTH</th><th scope=col>DAY</th><th scope=col>HOUR</th><th scope=col>MINUTE</th><th scope=col>HUNDRED_BLOCK</th><th scope=col>NEIGHBOURHOOD</th><th scope=col>X</th><th scope=col>Y</th></tr>\n",
       "\t<tr><th></th><th scope=col>&lt;chr&gt;</th><th scope=col>&lt;int&gt;</th><th scope=col>&lt;int&gt;</th><th scope=col>&lt;int&gt;</th><th scope=col>&lt;int&gt;</th><th scope=col>&lt;int&gt;</th><th scope=col>&lt;chr&gt;</th><th scope=col>&lt;chr&gt;</th><th scope=col>&lt;dbl&gt;</th><th scope=col>&lt;dbl&gt;</th></tr>\n",
       "</thead>\n",
       "<tbody>\n",
       "\t<tr><th scope=row>1</th><td>Break and Enter Commercial</td><td>2012</td><td>12</td><td>14</td><td> 8</td><td>52</td><td>               </td><td>Oakridge</td><td>491285.0</td><td>5453433</td></tr>\n",
       "\t<tr><th scope=row>2</th><td>Break and Enter Commercial</td><td>2019</td><td> 3</td><td> 7</td><td> 2</td><td> 6</td><td>10XX SITKA SQ  </td><td>Fairview</td><td>490613.0</td><td>5457110</td></tr>\n",
       "\t<tr><th scope=row>3</th><td>Break and Enter Commercial</td><td>2019</td><td> 8</td><td>27</td><td> 4</td><td>12</td><td>10XX ALBERNI ST</td><td>West End</td><td>491007.8</td><td>5459174</td></tr>\n",
       "\t<tr><th scope=row>4</th><td>Break and Enter Commercial</td><td>2021</td><td> 4</td><td>26</td><td> 4</td><td>44</td><td>10XX ALBERNI ST</td><td>West End</td><td>491007.8</td><td>5459174</td></tr>\n",
       "\t<tr><th scope=row>5</th><td>Break and Enter Commercial</td><td>2014</td><td> 8</td><td> 8</td><td> 5</td><td>13</td><td>10XX ALBERNI ST</td><td>West End</td><td>491015.9</td><td>5459166</td></tr>\n",
       "\t<tr><th scope=row>6</th><td>Break and Enter Commercial</td><td>2020</td><td> 7</td><td>28</td><td>19</td><td>12</td><td>10XX ALBERNI ST</td><td>West End</td><td>491015.9</td><td>5459166</td></tr>\n",
       "</tbody>\n",
       "</table>\n"
      ],
      "text/latex": [
       "A data.frame: 6 × 10\n",
       "\\begin{tabular}{r|llllllllll}\n",
       "  & TYPE & YEAR & MONTH & DAY & HOUR & MINUTE & HUNDRED\\_BLOCK & NEIGHBOURHOOD & X & Y\\\\\n",
       "  & <chr> & <int> & <int> & <int> & <int> & <int> & <chr> & <chr> & <dbl> & <dbl>\\\\\n",
       "\\hline\n",
       "\t1 & Break and Enter Commercial & 2012 & 12 & 14 &  8 & 52 &                 & Oakridge & 491285.0 & 5453433\\\\\n",
       "\t2 & Break and Enter Commercial & 2019 &  3 &  7 &  2 &  6 & 10XX SITKA SQ   & Fairview & 490613.0 & 5457110\\\\\n",
       "\t3 & Break and Enter Commercial & 2019 &  8 & 27 &  4 & 12 & 10XX ALBERNI ST & West End & 491007.8 & 5459174\\\\\n",
       "\t4 & Break and Enter Commercial & 2021 &  4 & 26 &  4 & 44 & 10XX ALBERNI ST & West End & 491007.8 & 5459174\\\\\n",
       "\t5 & Break and Enter Commercial & 2014 &  8 &  8 &  5 & 13 & 10XX ALBERNI ST & West End & 491015.9 & 5459166\\\\\n",
       "\t6 & Break and Enter Commercial & 2020 &  7 & 28 & 19 & 12 & 10XX ALBERNI ST & West End & 491015.9 & 5459166\\\\\n",
       "\\end{tabular}\n"
      ],
      "text/markdown": [
       "\n",
       "A data.frame: 6 × 10\n",
       "\n",
       "| <!--/--> | TYPE &lt;chr&gt; | YEAR &lt;int&gt; | MONTH &lt;int&gt; | DAY &lt;int&gt; | HOUR &lt;int&gt; | MINUTE &lt;int&gt; | HUNDRED_BLOCK &lt;chr&gt; | NEIGHBOURHOOD &lt;chr&gt; | X &lt;dbl&gt; | Y &lt;dbl&gt; |\n",
       "|---|---|---|---|---|---|---|---|---|---|---|\n",
       "| 1 | Break and Enter Commercial | 2012 | 12 | 14 |  8 | 52 | <!----> | Oakridge | 491285.0 | 5453433 |\n",
       "| 2 | Break and Enter Commercial | 2019 |  3 |  7 |  2 |  6 | 10XX SITKA SQ   | Fairview | 490613.0 | 5457110 |\n",
       "| 3 | Break and Enter Commercial | 2019 |  8 | 27 |  4 | 12 | 10XX ALBERNI ST | West End | 491007.8 | 5459174 |\n",
       "| 4 | Break and Enter Commercial | 2021 |  4 | 26 |  4 | 44 | 10XX ALBERNI ST | West End | 491007.8 | 5459174 |\n",
       "| 5 | Break and Enter Commercial | 2014 |  8 |  8 |  5 | 13 | 10XX ALBERNI ST | West End | 491015.9 | 5459166 |\n",
       "| 6 | Break and Enter Commercial | 2020 |  7 | 28 | 19 | 12 | 10XX ALBERNI ST | West End | 491015.9 | 5459166 |\n",
       "\n"
      ],
      "text/plain": [
       "  TYPE                       YEAR MONTH DAY HOUR MINUTE HUNDRED_BLOCK  \n",
       "1 Break and Enter Commercial 2012 12    14   8   52                    \n",
       "2 Break and Enter Commercial 2019  3     7   2    6     10XX SITKA SQ  \n",
       "3 Break and Enter Commercial 2019  8    27   4   12     10XX ALBERNI ST\n",
       "4 Break and Enter Commercial 2021  4    26   4   44     10XX ALBERNI ST\n",
       "5 Break and Enter Commercial 2014  8     8   5   13     10XX ALBERNI ST\n",
       "6 Break and Enter Commercial 2020  7    28  19   12     10XX ALBERNI ST\n",
       "  NEIGHBOURHOOD X        Y      \n",
       "1 Oakridge      491285.0 5453433\n",
       "2 Fairview      490613.0 5457110\n",
       "3 West End      491007.8 5459174\n",
       "4 West End      491007.8 5459174\n",
       "5 West End      491015.9 5459166\n",
       "6 West End      491015.9 5459166"
      ]
     },
     "metadata": {},
     "output_type": "display_data"
    },
    {
     "data": {
      "text/html": [
       "'Table 2 - Last Six Columns of the Dataset'"
      ],
      "text/latex": [
       "'Table 2 - Last Six Columns of the Dataset'"
      ],
      "text/markdown": [
       "'Table 2 - Last Six Columns of the Dataset'"
      ],
      "text/plain": [
       "[1] \"Table 2 - Last Six Columns of the Dataset\""
      ]
     },
     "metadata": {},
     "output_type": "display_data"
    },
    {
     "data": {
      "text/html": [
       "<table class=\"dataframe\">\n",
       "<caption>A data.frame: 6 × 10</caption>\n",
       "<thead>\n",
       "\t<tr><th></th><th scope=col>TYPE</th><th scope=col>YEAR</th><th scope=col>MONTH</th><th scope=col>DAY</th><th scope=col>HOUR</th><th scope=col>MINUTE</th><th scope=col>HUNDRED_BLOCK</th><th scope=col>NEIGHBOURHOOD</th><th scope=col>X</th><th scope=col>Y</th></tr>\n",
       "\t<tr><th></th><th scope=col>&lt;chr&gt;</th><th scope=col>&lt;int&gt;</th><th scope=col>&lt;int&gt;</th><th scope=col>&lt;int&gt;</th><th scope=col>&lt;int&gt;</th><th scope=col>&lt;int&gt;</th><th scope=col>&lt;chr&gt;</th><th scope=col>&lt;chr&gt;</th><th scope=col>&lt;dbl&gt;</th><th scope=col>&lt;dbl&gt;</th></tr>\n",
       "</thead>\n",
       "<tbody>\n",
       "\t<tr><th scope=row>877874</th><td>Vehicle Collision or Pedestrian Struck (with Injury)</td><td>2023</td><td> 2</td><td>22</td><td>12</td><td>12</td><td>YUKON ST / W BROADWAY AVE   </td><td>Mount Pleasant</td><td>491786</td><td>5456719</td></tr>\n",
       "\t<tr><th scope=row>877875</th><td>Vehicle Collision or Pedestrian Struck (with Injury)</td><td>2003</td><td> 9</td><td> 1</td><td>20</td><td>45</td><td>YUKON ST / W KING EDWARD AVE</td><td>Riley Park    </td><td>491786</td><td>5455143</td></tr>\n",
       "\t<tr><th scope=row>877876</th><td>Vehicle Collision or Pedestrian Struck (with Injury)</td><td>2005</td><td> 7</td><td>20</td><td>18</td><td>57</td><td>YUKON ST / W KING EDWARD AVE</td><td>Riley Park    </td><td>491786</td><td>5455143</td></tr>\n",
       "\t<tr><th scope=row>877877</th><td>Vehicle Collision or Pedestrian Struck (with Injury)</td><td>2016</td><td> 6</td><td>20</td><td>18</td><td>11</td><td>YUKON ST / W KING EDWARD AVE</td><td>Riley Park    </td><td>491786</td><td>5455143</td></tr>\n",
       "\t<tr><th scope=row>877878</th><td>Vehicle Collision or Pedestrian Struck (with Injury)</td><td>2013</td><td>12</td><td> 3</td><td> 9</td><td>49</td><td>YUKON ST / W KING EDWARD AVE</td><td>Riley Park    </td><td>491835</td><td>5455126</td></tr>\n",
       "\t<tr><th scope=row>877879</th><td>Vehicle Collision or Pedestrian Struck (with Injury)</td><td>2013</td><td>12</td><td>27</td><td>14</td><td>40</td><td>YUKON ST / W KING EDWARD AVE</td><td>Riley Park    </td><td>491835</td><td>5455126</td></tr>\n",
       "</tbody>\n",
       "</table>\n"
      ],
      "text/latex": [
       "A data.frame: 6 × 10\n",
       "\\begin{tabular}{r|llllllllll}\n",
       "  & TYPE & YEAR & MONTH & DAY & HOUR & MINUTE & HUNDRED\\_BLOCK & NEIGHBOURHOOD & X & Y\\\\\n",
       "  & <chr> & <int> & <int> & <int> & <int> & <int> & <chr> & <chr> & <dbl> & <dbl>\\\\\n",
       "\\hline\n",
       "\t877874 & Vehicle Collision or Pedestrian Struck (with Injury) & 2023 &  2 & 22 & 12 & 12 & YUKON ST / W BROADWAY AVE    & Mount Pleasant & 491786 & 5456719\\\\\n",
       "\t877875 & Vehicle Collision or Pedestrian Struck (with Injury) & 2003 &  9 &  1 & 20 & 45 & YUKON ST / W KING EDWARD AVE & Riley Park     & 491786 & 5455143\\\\\n",
       "\t877876 & Vehicle Collision or Pedestrian Struck (with Injury) & 2005 &  7 & 20 & 18 & 57 & YUKON ST / W KING EDWARD AVE & Riley Park     & 491786 & 5455143\\\\\n",
       "\t877877 & Vehicle Collision or Pedestrian Struck (with Injury) & 2016 &  6 & 20 & 18 & 11 & YUKON ST / W KING EDWARD AVE & Riley Park     & 491786 & 5455143\\\\\n",
       "\t877878 & Vehicle Collision or Pedestrian Struck (with Injury) & 2013 & 12 &  3 &  9 & 49 & YUKON ST / W KING EDWARD AVE & Riley Park     & 491835 & 5455126\\\\\n",
       "\t877879 & Vehicle Collision or Pedestrian Struck (with Injury) & 2013 & 12 & 27 & 14 & 40 & YUKON ST / W KING EDWARD AVE & Riley Park     & 491835 & 5455126\\\\\n",
       "\\end{tabular}\n"
      ],
      "text/markdown": [
       "\n",
       "A data.frame: 6 × 10\n",
       "\n",
       "| <!--/--> | TYPE &lt;chr&gt; | YEAR &lt;int&gt; | MONTH &lt;int&gt; | DAY &lt;int&gt; | HOUR &lt;int&gt; | MINUTE &lt;int&gt; | HUNDRED_BLOCK &lt;chr&gt; | NEIGHBOURHOOD &lt;chr&gt; | X &lt;dbl&gt; | Y &lt;dbl&gt; |\n",
       "|---|---|---|---|---|---|---|---|---|---|---|\n",
       "| 877874 | Vehicle Collision or Pedestrian Struck (with Injury) | 2023 |  2 | 22 | 12 | 12 | YUKON ST / W BROADWAY AVE    | Mount Pleasant | 491786 | 5456719 |\n",
       "| 877875 | Vehicle Collision or Pedestrian Struck (with Injury) | 2003 |  9 |  1 | 20 | 45 | YUKON ST / W KING EDWARD AVE | Riley Park     | 491786 | 5455143 |\n",
       "| 877876 | Vehicle Collision or Pedestrian Struck (with Injury) | 2005 |  7 | 20 | 18 | 57 | YUKON ST / W KING EDWARD AVE | Riley Park     | 491786 | 5455143 |\n",
       "| 877877 | Vehicle Collision or Pedestrian Struck (with Injury) | 2016 |  6 | 20 | 18 | 11 | YUKON ST / W KING EDWARD AVE | Riley Park     | 491786 | 5455143 |\n",
       "| 877878 | Vehicle Collision or Pedestrian Struck (with Injury) | 2013 | 12 |  3 |  9 | 49 | YUKON ST / W KING EDWARD AVE | Riley Park     | 491835 | 5455126 |\n",
       "| 877879 | Vehicle Collision or Pedestrian Struck (with Injury) | 2013 | 12 | 27 | 14 | 40 | YUKON ST / W KING EDWARD AVE | Riley Park     | 491835 | 5455126 |\n",
       "\n"
      ],
      "text/plain": [
       "       TYPE                                                 YEAR MONTH DAY HOUR\n",
       "877874 Vehicle Collision or Pedestrian Struck (with Injury) 2023  2    22  12  \n",
       "877875 Vehicle Collision or Pedestrian Struck (with Injury) 2003  9     1  20  \n",
       "877876 Vehicle Collision or Pedestrian Struck (with Injury) 2005  7    20  18  \n",
       "877877 Vehicle Collision or Pedestrian Struck (with Injury) 2016  6    20  18  \n",
       "877878 Vehicle Collision or Pedestrian Struck (with Injury) 2013 12     3   9  \n",
       "877879 Vehicle Collision or Pedestrian Struck (with Injury) 2013 12    27  14  \n",
       "       MINUTE HUNDRED_BLOCK                NEIGHBOURHOOD  X      Y      \n",
       "877874 12     YUKON ST / W BROADWAY AVE    Mount Pleasant 491786 5456719\n",
       "877875 45     YUKON ST / W KING EDWARD AVE Riley Park     491786 5455143\n",
       "877876 57     YUKON ST / W KING EDWARD AVE Riley Park     491786 5455143\n",
       "877877 11     YUKON ST / W KING EDWARD AVE Riley Park     491786 5455143\n",
       "877878 49     YUKON ST / W KING EDWARD AVE Riley Park     491835 5455126\n",
       "877879 40     YUKON ST / W KING EDWARD AVE Riley Park     491835 5455126"
      ]
     },
     "metadata": {},
     "output_type": "display_data"
    }
   ],
   "source": [
    "# Loads the dataset from the web\n",
    "dataset <- read.csv(url(\"https://docs.google.com/spreadsheets/d/1SXkE_T-CmZzd1kPAIArQOLg9GQa_ftnmVMAI30sVDqo/export?gid=277724310&format=csv\")) \n",
    "\n",
    "# Prints the first 6 rows of the dataset\n",
    "table_1 <- \"Table 1 - First Six Columns of the Dataset\"\n",
    "table_1\n",
    "head(dataset)\n",
    "\n",
    "# Prints the last 6 rows of the dataset\n",
    "table_2 <- \"Table 2 - Last Six Columns of the Dataset\"\n",
    "table_2\n",
    "tail(dataset)"
   ]
  },
  {
   "cell_type": "markdown",
   "id": "0c0527fa-9789-4651-8ccf-6b6c9e7708f9",
   "metadata": {},
   "source": [
    "#### Cleaning and Wrangling"
   ]
  },
  {
   "cell_type": "code",
   "execution_count": 3,
   "id": "d2ae8edf-529c-4546-a27c-907554567e38",
   "metadata": {
    "tags": []
   },
   "outputs": [
    {
     "data": {
      "text/html": [
       "'Table 3 - First Six Columns of the Tidy Dataset'"
      ],
      "text/latex": [
       "'Table 3 - First Six Columns of the Tidy Dataset'"
      ],
      "text/markdown": [
       "'Table 3 - First Six Columns of the Tidy Dataset'"
      ],
      "text/plain": [
       "[1] \"Table 3 - First Six Columns of the Tidy Dataset\""
      ]
     },
     "metadata": {},
     "output_type": "display_data"
    },
    {
     "data": {
      "text/html": [
       "<table class=\"dataframe\">\n",
       "<caption>A data.frame: 6 × 8</caption>\n",
       "<thead>\n",
       "\t<tr><th></th><th scope=col>TYPE</th><th scope=col>YEAR</th><th scope=col>MONTH</th><th scope=col>DAY</th><th scope=col>HOUR</th><th scope=col>MINUTE</th><th scope=col>HUNDRED_BLOCK</th><th scope=col>NEIGHBOURHOOD</th></tr>\n",
       "\t<tr><th></th><th scope=col>&lt;chr&gt;</th><th scope=col>&lt;int&gt;</th><th scope=col>&lt;int&gt;</th><th scope=col>&lt;int&gt;</th><th scope=col>&lt;int&gt;</th><th scope=col>&lt;int&gt;</th><th scope=col>&lt;chr&gt;</th><th scope=col>&lt;chr&gt;</th></tr>\n",
       "</thead>\n",
       "<tbody>\n",
       "\t<tr><th scope=row>1</th><td>Break and Enter Commercial</td><td>2012</td><td>12</td><td>14</td><td> 8</td><td>52</td><td>               </td><td>Oakridge</td></tr>\n",
       "\t<tr><th scope=row>2</th><td>Break and Enter Commercial</td><td>2019</td><td> 3</td><td> 7</td><td> 2</td><td> 6</td><td>10XX SITKA SQ  </td><td>Fairview</td></tr>\n",
       "\t<tr><th scope=row>3</th><td>Break and Enter Commercial</td><td>2019</td><td> 8</td><td>27</td><td> 4</td><td>12</td><td>10XX ALBERNI ST</td><td>West End</td></tr>\n",
       "\t<tr><th scope=row>4</th><td>Break and Enter Commercial</td><td>2021</td><td> 4</td><td>26</td><td> 4</td><td>44</td><td>10XX ALBERNI ST</td><td>West End</td></tr>\n",
       "\t<tr><th scope=row>5</th><td>Break and Enter Commercial</td><td>2014</td><td> 8</td><td> 8</td><td> 5</td><td>13</td><td>10XX ALBERNI ST</td><td>West End</td></tr>\n",
       "\t<tr><th scope=row>6</th><td>Break and Enter Commercial</td><td>2020</td><td> 7</td><td>28</td><td>19</td><td>12</td><td>10XX ALBERNI ST</td><td>West End</td></tr>\n",
       "</tbody>\n",
       "</table>\n"
      ],
      "text/latex": [
       "A data.frame: 6 × 8\n",
       "\\begin{tabular}{r|llllllll}\n",
       "  & TYPE & YEAR & MONTH & DAY & HOUR & MINUTE & HUNDRED\\_BLOCK & NEIGHBOURHOOD\\\\\n",
       "  & <chr> & <int> & <int> & <int> & <int> & <int> & <chr> & <chr>\\\\\n",
       "\\hline\n",
       "\t1 & Break and Enter Commercial & 2012 & 12 & 14 &  8 & 52 &                 & Oakridge\\\\\n",
       "\t2 & Break and Enter Commercial & 2019 &  3 &  7 &  2 &  6 & 10XX SITKA SQ   & Fairview\\\\\n",
       "\t3 & Break and Enter Commercial & 2019 &  8 & 27 &  4 & 12 & 10XX ALBERNI ST & West End\\\\\n",
       "\t4 & Break and Enter Commercial & 2021 &  4 & 26 &  4 & 44 & 10XX ALBERNI ST & West End\\\\\n",
       "\t5 & Break and Enter Commercial & 2014 &  8 &  8 &  5 & 13 & 10XX ALBERNI ST & West End\\\\\n",
       "\t6 & Break and Enter Commercial & 2020 &  7 & 28 & 19 & 12 & 10XX ALBERNI ST & West End\\\\\n",
       "\\end{tabular}\n"
      ],
      "text/markdown": [
       "\n",
       "A data.frame: 6 × 8\n",
       "\n",
       "| <!--/--> | TYPE &lt;chr&gt; | YEAR &lt;int&gt; | MONTH &lt;int&gt; | DAY &lt;int&gt; | HOUR &lt;int&gt; | MINUTE &lt;int&gt; | HUNDRED_BLOCK &lt;chr&gt; | NEIGHBOURHOOD &lt;chr&gt; |\n",
       "|---|---|---|---|---|---|---|---|---|\n",
       "| 1 | Break and Enter Commercial | 2012 | 12 | 14 |  8 | 52 | <!----> | Oakridge |\n",
       "| 2 | Break and Enter Commercial | 2019 |  3 |  7 |  2 |  6 | 10XX SITKA SQ   | Fairview |\n",
       "| 3 | Break and Enter Commercial | 2019 |  8 | 27 |  4 | 12 | 10XX ALBERNI ST | West End |\n",
       "| 4 | Break and Enter Commercial | 2021 |  4 | 26 |  4 | 44 | 10XX ALBERNI ST | West End |\n",
       "| 5 | Break and Enter Commercial | 2014 |  8 |  8 |  5 | 13 | 10XX ALBERNI ST | West End |\n",
       "| 6 | Break and Enter Commercial | 2020 |  7 | 28 | 19 | 12 | 10XX ALBERNI ST | West End |\n",
       "\n"
      ],
      "text/plain": [
       "  TYPE                       YEAR MONTH DAY HOUR MINUTE HUNDRED_BLOCK  \n",
       "1 Break and Enter Commercial 2012 12    14   8   52                    \n",
       "2 Break and Enter Commercial 2019  3     7   2    6     10XX SITKA SQ  \n",
       "3 Break and Enter Commercial 2019  8    27   4   12     10XX ALBERNI ST\n",
       "4 Break and Enter Commercial 2021  4    26   4   44     10XX ALBERNI ST\n",
       "5 Break and Enter Commercial 2014  8     8   5   13     10XX ALBERNI ST\n",
       "6 Break and Enter Commercial 2020  7    28  19   12     10XX ALBERNI ST\n",
       "  NEIGHBOURHOOD\n",
       "1 Oakridge     \n",
       "2 Fairview     \n",
       "3 West End     \n",
       "4 West End     \n",
       "5 West End     \n",
       "6 West End     "
      ]
     },
     "metadata": {},
     "output_type": "display_data"
    },
    {
     "data": {
      "text/html": [
       "'Table 4 - Last Six Columns of the Tidy Dataset'"
      ],
      "text/latex": [
       "'Table 4 - Last Six Columns of the Tidy Dataset'"
      ],
      "text/markdown": [
       "'Table 4 - Last Six Columns of the Tidy Dataset'"
      ],
      "text/plain": [
       "[1] \"Table 4 - Last Six Columns of the Tidy Dataset\""
      ]
     },
     "metadata": {},
     "output_type": "display_data"
    },
    {
     "data": {
      "text/html": [
       "<table class=\"dataframe\">\n",
       "<caption>A data.frame: 6 × 8</caption>\n",
       "<thead>\n",
       "\t<tr><th></th><th scope=col>TYPE</th><th scope=col>YEAR</th><th scope=col>MONTH</th><th scope=col>DAY</th><th scope=col>HOUR</th><th scope=col>MINUTE</th><th scope=col>HUNDRED_BLOCK</th><th scope=col>NEIGHBOURHOOD</th></tr>\n",
       "\t<tr><th></th><th scope=col>&lt;chr&gt;</th><th scope=col>&lt;int&gt;</th><th scope=col>&lt;int&gt;</th><th scope=col>&lt;int&gt;</th><th scope=col>&lt;int&gt;</th><th scope=col>&lt;int&gt;</th><th scope=col>&lt;chr&gt;</th><th scope=col>&lt;chr&gt;</th></tr>\n",
       "</thead>\n",
       "<tbody>\n",
       "\t<tr><th scope=row>877874</th><td>Vehicle Collision or Pedestrian Struck (with Injury)</td><td>2023</td><td> 2</td><td>22</td><td>12</td><td>12</td><td>YUKON ST / W BROADWAY AVE   </td><td>Mount Pleasant</td></tr>\n",
       "\t<tr><th scope=row>877875</th><td>Vehicle Collision or Pedestrian Struck (with Injury)</td><td>2003</td><td> 9</td><td> 1</td><td>20</td><td>45</td><td>YUKON ST / W KING EDWARD AVE</td><td>Riley Park    </td></tr>\n",
       "\t<tr><th scope=row>877876</th><td>Vehicle Collision or Pedestrian Struck (with Injury)</td><td>2005</td><td> 7</td><td>20</td><td>18</td><td>57</td><td>YUKON ST / W KING EDWARD AVE</td><td>Riley Park    </td></tr>\n",
       "\t<tr><th scope=row>877877</th><td>Vehicle Collision or Pedestrian Struck (with Injury)</td><td>2016</td><td> 6</td><td>20</td><td>18</td><td>11</td><td>YUKON ST / W KING EDWARD AVE</td><td>Riley Park    </td></tr>\n",
       "\t<tr><th scope=row>877878</th><td>Vehicle Collision or Pedestrian Struck (with Injury)</td><td>2013</td><td>12</td><td> 3</td><td> 9</td><td>49</td><td>YUKON ST / W KING EDWARD AVE</td><td>Riley Park    </td></tr>\n",
       "\t<tr><th scope=row>877879</th><td>Vehicle Collision or Pedestrian Struck (with Injury)</td><td>2013</td><td>12</td><td>27</td><td>14</td><td>40</td><td>YUKON ST / W KING EDWARD AVE</td><td>Riley Park    </td></tr>\n",
       "</tbody>\n",
       "</table>\n"
      ],
      "text/latex": [
       "A data.frame: 6 × 8\n",
       "\\begin{tabular}{r|llllllll}\n",
       "  & TYPE & YEAR & MONTH & DAY & HOUR & MINUTE & HUNDRED\\_BLOCK & NEIGHBOURHOOD\\\\\n",
       "  & <chr> & <int> & <int> & <int> & <int> & <int> & <chr> & <chr>\\\\\n",
       "\\hline\n",
       "\t877874 & Vehicle Collision or Pedestrian Struck (with Injury) & 2023 &  2 & 22 & 12 & 12 & YUKON ST / W BROADWAY AVE    & Mount Pleasant\\\\\n",
       "\t877875 & Vehicle Collision or Pedestrian Struck (with Injury) & 2003 &  9 &  1 & 20 & 45 & YUKON ST / W KING EDWARD AVE & Riley Park    \\\\\n",
       "\t877876 & Vehicle Collision or Pedestrian Struck (with Injury) & 2005 &  7 & 20 & 18 & 57 & YUKON ST / W KING EDWARD AVE & Riley Park    \\\\\n",
       "\t877877 & Vehicle Collision or Pedestrian Struck (with Injury) & 2016 &  6 & 20 & 18 & 11 & YUKON ST / W KING EDWARD AVE & Riley Park    \\\\\n",
       "\t877878 & Vehicle Collision or Pedestrian Struck (with Injury) & 2013 & 12 &  3 &  9 & 49 & YUKON ST / W KING EDWARD AVE & Riley Park    \\\\\n",
       "\t877879 & Vehicle Collision or Pedestrian Struck (with Injury) & 2013 & 12 & 27 & 14 & 40 & YUKON ST / W KING EDWARD AVE & Riley Park    \\\\\n",
       "\\end{tabular}\n"
      ],
      "text/markdown": [
       "\n",
       "A data.frame: 6 × 8\n",
       "\n",
       "| <!--/--> | TYPE &lt;chr&gt; | YEAR &lt;int&gt; | MONTH &lt;int&gt; | DAY &lt;int&gt; | HOUR &lt;int&gt; | MINUTE &lt;int&gt; | HUNDRED_BLOCK &lt;chr&gt; | NEIGHBOURHOOD &lt;chr&gt; |\n",
       "|---|---|---|---|---|---|---|---|---|\n",
       "| 877874 | Vehicle Collision or Pedestrian Struck (with Injury) | 2023 |  2 | 22 | 12 | 12 | YUKON ST / W BROADWAY AVE    | Mount Pleasant |\n",
       "| 877875 | Vehicle Collision or Pedestrian Struck (with Injury) | 2003 |  9 |  1 | 20 | 45 | YUKON ST / W KING EDWARD AVE | Riley Park     |\n",
       "| 877876 | Vehicle Collision or Pedestrian Struck (with Injury) | 2005 |  7 | 20 | 18 | 57 | YUKON ST / W KING EDWARD AVE | Riley Park     |\n",
       "| 877877 | Vehicle Collision or Pedestrian Struck (with Injury) | 2016 |  6 | 20 | 18 | 11 | YUKON ST / W KING EDWARD AVE | Riley Park     |\n",
       "| 877878 | Vehicle Collision or Pedestrian Struck (with Injury) | 2013 | 12 |  3 |  9 | 49 | YUKON ST / W KING EDWARD AVE | Riley Park     |\n",
       "| 877879 | Vehicle Collision or Pedestrian Struck (with Injury) | 2013 | 12 | 27 | 14 | 40 | YUKON ST / W KING EDWARD AVE | Riley Park     |\n",
       "\n"
      ],
      "text/plain": [
       "       TYPE                                                 YEAR MONTH DAY HOUR\n",
       "877874 Vehicle Collision or Pedestrian Struck (with Injury) 2023  2    22  12  \n",
       "877875 Vehicle Collision or Pedestrian Struck (with Injury) 2003  9     1  20  \n",
       "877876 Vehicle Collision or Pedestrian Struck (with Injury) 2005  7    20  18  \n",
       "877877 Vehicle Collision or Pedestrian Struck (with Injury) 2016  6    20  18  \n",
       "877878 Vehicle Collision or Pedestrian Struck (with Injury) 2013 12     3   9  \n",
       "877879 Vehicle Collision or Pedestrian Struck (with Injury) 2013 12    27  14  \n",
       "       MINUTE HUNDRED_BLOCK                NEIGHBOURHOOD \n",
       "877874 12     YUKON ST / W BROADWAY AVE    Mount Pleasant\n",
       "877875 45     YUKON ST / W KING EDWARD AVE Riley Park    \n",
       "877876 57     YUKON ST / W KING EDWARD AVE Riley Park    \n",
       "877877 11     YUKON ST / W KING EDWARD AVE Riley Park    \n",
       "877878 49     YUKON ST / W KING EDWARD AVE Riley Park    \n",
       "877879 40     YUKON ST / W KING EDWARD AVE Riley Park    "
      ]
     },
     "metadata": {},
     "output_type": "display_data"
    }
   ],
   "source": [
    "# Removes the X and Y columns as well as inaccurate data\n",
    "tidy_dataset <- dataset |>\n",
    "    select(-X, -Y) |>\n",
    "    na.omit()\n",
    "\n",
    "# Prints the first 6 rows of the dataset\n",
    "table_3 <- \"Table 3 - First Six Columns of the Tidy Dataset\"\n",
    "table_3\n",
    "head(tidy_dataset)\n",
    "\n",
    "# Prints the last 6 rows of the dataset\n",
    "table_4 <- \"Table 4 - Last Six Columns of the Tidy Dataset\"\n",
    "table_4\n",
    "tail(tidy_dataset)"
   ]
  },
  {
   "cell_type": "markdown",
   "id": "7353ce99-61f5-43c8-9af1-8c77985f0e4c",
   "metadata": {},
   "source": [
    "#### Plotting the Raw Data"
   ]
  },
  {
   "cell_type": "markdown",
   "id": "748451a1-f89f-4cd1-adcb-f98876930e80",
   "metadata": {},
   "source": [
    "We will start by plotting the population data to visualize the number of other thefts and break and enters, out of the total number of crimes between 2004-2008 and 2018-2022."
   ]
  },
  {
   "cell_type": "code",
   "execution_count": 4,
   "id": "0591942a-1818-4cd9-9add-1ecebe019501",
   "metadata": {
    "tags": []
   },
   "outputs": [
    {
     "name": "stderr",
     "output_type": "stream",
     "text": [
      "\u001b[1m\u001b[22m`summarise()` has grouped output by 'TYPE'. You can override using the\n",
      "`.groups` argument.\n"
     ]
    }
   ],
   "source": [
    "# Filters the dataset for crimes during 2004 - 2008 and 2018 - 2022\n",
    "\n",
    "raw_data <- tidy_dataset |>\n",
    "    filter(YEAR %in% (2004:2008) | YEAR %in% (2018:2022)) |>\n",
    "    select(TYPE, YEAR) |>\n",
    "    group_by(TYPE, YEAR) |>\n",
    "    summarize(n = n()) |>\n",
    "    mutate(ranges = cut(YEAR, c(2004, 2008, 2017, 2022),\n",
    "                        labels = c(\"[2004, 2008]\",\"NA\", \"[2018, 2022]\"), include.lowest = TRUE)) "
   ]
  },
  {
   "cell_type": "code",
   "execution_count": 7,
   "id": "fbc61378-39b8-4e90-9559-ef51860662d8",
   "metadata": {
    "tags": []
   },
   "outputs": [
    {
     "data": {
      "text/html": [
       "'Table 5 - Types of Crimes in Year Range'"
      ],
      "text/latex": [
       "'Table 5 - Types of Crimes in Year Range'"
      ],
      "text/markdown": [
       "'Table 5 - Types of Crimes in Year Range'"
      ],
      "text/plain": [
       "[1] \"Table 5 - Types of Crimes in Year Range\""
      ]
     },
     "metadata": {},
     "output_type": "display_data"
    },
    {
     "data": {
      "text/html": [
       "<table class=\"dataframe\">\n",
       "<caption>A tibble: 6 × 3</caption>\n",
       "<thead>\n",
       "\t<tr><th scope=col>labels</th><th scope=col>years</th><th scope=col>crimes</th></tr>\n",
       "\t<tr><th scope=col>&lt;chr&gt;</th><th scope=col>&lt;chr&gt;</th><th scope=col>&lt;dbl&gt;</th></tr>\n",
       "</thead>\n",
       "<tbody>\n",
       "\t<tr><td>Break and Enters</td><td>2004-2008</td><td> 40591</td></tr>\n",
       "\t<tr><td>Other Thefts    </td><td>2004-2008</td><td> 52281</td></tr>\n",
       "\t<tr><td>All Crimes      </td><td>2004-2008</td><td>247250</td></tr>\n",
       "\t<tr><td>Break and Enters</td><td>2018-2022</td><td> 20861</td></tr>\n",
       "\t<tr><td>Other Thefts    </td><td>2018-2022</td><td> 51555</td></tr>\n",
       "\t<tr><td>All Crimes      </td><td>2018-2022</td><td>196376</td></tr>\n",
       "</tbody>\n",
       "</table>\n"
      ],
      "text/latex": [
       "A tibble: 6 × 3\n",
       "\\begin{tabular}{lll}\n",
       " labels & years & crimes\\\\\n",
       " <chr> & <chr> & <dbl>\\\\\n",
       "\\hline\n",
       "\t Break and Enters & 2004-2008 &  40591\\\\\n",
       "\t Other Thefts     & 2004-2008 &  52281\\\\\n",
       "\t All Crimes       & 2004-2008 & 247250\\\\\n",
       "\t Break and Enters & 2018-2022 &  20861\\\\\n",
       "\t Other Thefts     & 2018-2022 &  51555\\\\\n",
       "\t All Crimes       & 2018-2022 & 196376\\\\\n",
       "\\end{tabular}\n"
      ],
      "text/markdown": [
       "\n",
       "A tibble: 6 × 3\n",
       "\n",
       "| labels &lt;chr&gt; | years &lt;chr&gt; | crimes &lt;dbl&gt; |\n",
       "|---|---|---|\n",
       "| Break and Enters | 2004-2008 |  40591 |\n",
       "| Other Thefts     | 2004-2008 |  52281 |\n",
       "| All Crimes       | 2004-2008 | 247250 |\n",
       "| Break and Enters | 2018-2022 |  20861 |\n",
       "| Other Thefts     | 2018-2022 |  51555 |\n",
       "| All Crimes       | 2018-2022 | 196376 |\n",
       "\n"
      ],
      "text/plain": [
       "  labels           years     crimes\n",
       "1 Break and Enters 2004-2008  40591\n",
       "2 Other Thefts     2004-2008  52281\n",
       "3 All Crimes       2004-2008 247250\n",
       "4 Break and Enters 2018-2022  20861\n",
       "5 Other Thefts     2018-2022  51555\n",
       "6 All Crimes       2018-2022 196376"
      ]
     },
     "metadata": {},
     "output_type": "display_data"
    }
   ],
   "source": [
    "# Calculates the sum of each crime\n",
    "\n",
    "pop_1 = raw_data |>\n",
    "    filter(ranges == \"[2004, 2008]\") |>\n",
    "    summarize(n = sum(n))\n",
    "\n",
    "# Number of crimes from 2004 - 2008\n",
    "pop_1_total_crime = pop_1 |>\n",
    "    summarize(n = sum(n)) |>\n",
    "    as.numeric()\n",
    "\n",
    "# Number of other thefts from 2004 - 2008\n",
    "pop_1_other_thefts = pop_1 |>\n",
    "    filter(TYPE == \"Other Theft\") |>\n",
    "    summarize(n = sum(n)) |>\n",
    "    as.numeric()\n",
    "\n",
    "# Number of break and enters from 2004 - 2008\n",
    "pop_1_bne = pop_1 |>\n",
    "    filter(TYPE == \"Break and Enter Commercial\" | TYPE == \"Break and Enter Residential/Other\") |>\n",
    "    summarize(n = sum(n)) |>\n",
    "    as.numeric()\n",
    "\n",
    "pop_2 = raw_data |>\n",
    "    filter(ranges == \"[2018, 2022]\") |>\n",
    "    summarize(n = sum(n))\n",
    "\n",
    "# Number of crimes from 2018 - 2022\n",
    "pop_2_total_crime = pop_2 |>\n",
    "    summarize(n = sum(n)) |>\n",
    "    as.numeric()\n",
    "\n",
    "# Number of other thefts from 2018 - 2022\n",
    "pop_2_other_thefts = pop_2 |>\n",
    "    filter(TYPE == \"Other Theft\") |>\n",
    "    summarize(n = sum(n)) |>\n",
    "    as.numeric()\n",
    "\n",
    "# Number of break and enters from 2018 - 2022\n",
    "pop_2_bne = pop_2 |>\n",
    "    filter(TYPE == \"Break and Enter Commercial\" | TYPE == \"Break and Enter Residential/Other\") |>\n",
    "    summarize(n = sum(n)) |>\n",
    "    as.numeric()\n",
    "\n",
    "crimes <- c(pop_1_bne, pop_1_other_thefts, pop_1_total_crime, pop_2_bne, pop_2_other_thefts, pop_2_total_crime)\n",
    "\n",
    "labels <- c(\"Break and Enters\", \"Other Thefts\", \"All Crimes\",\"Break and Enters\", \"Other Thefts\", \"All Crimes\")\n",
    "\n",
    "years <- c(\"2004-2008\",\"2004-2008\",\"2004-2008\",\"2018-2022\",\"2018-2022\",\"2018-2022\")\n",
    "\n",
    "# Creates the table of the number of crimes in each year\n",
    "crimes_table <- tibble(labels, years, crimes)\n",
    "\n",
    "comment(table) <- \"Table 5 - Types of Crimes in Year Range\"\n",
    "\n",
    "comment(table)\n",
    "crimes_table"
   ]
  },
  {
   "cell_type": "code",
   "execution_count": 9,
   "id": "6aebf8c8-7d24-488f-9b6c-0e9114090678",
   "metadata": {
    "tags": []
   },
   "outputs": [
    {
     "data": {
      "application/pdf": "[encoded data removed]",
      "image/jpeg": "[encoded data removed]",
      "image/png": "[encoded data removed]",
      "image/svg+xml": [
       "<?xml version=\"1.0\" encoding=\"UTF-8\"?>\n",
       "<svg xmlns=\"http://www.w3.org/2000/svg\" xmlns:xlink=\"http://www.w3.org/1999/xlink\" width=\"504pt\" height=\"504pt\" viewBox=\"0 0 504 504\" version=\"1.1\">\n",
       "<defs>\n",
       "<g>\n",
       "<symbol overflow=\"visible\" id=\"glyph0-0\">\n",
       "<path style=\"stroke:none;\" d=\"M 0.40625 0 L 0.40625 -8 L 3.59375 -8 L 3.59375 0 Z M 0.796875 -0.40625 L 3.1875 -0.40625 L 3.1875 -7.59375 L 0.796875 -7.59375 Z M 0.796875 -0.40625 \"/>\n",
       "</symbol>\n",
       "<symbol overflow=\"visible\" id=\"glyph0-1\">\n",
       "<path style=\"stroke:none;\" d=\"M 6.203125 -4.125 C 6.203125 -3.332031 6.125 -2.664062 5.96875 -2.125 C 5.820312 -1.582031 5.617188 -1.144531 5.359375 -0.8125 C 5.097656 -0.476562 4.789062 -0.238281 4.4375 -0.09375 C 4.09375 0.0507812 3.722656 0.125 3.328125 0.125 C 2.921875 0.125 2.539062 0.0507812 2.1875 -0.09375 C 1.84375 -0.238281 1.539062 -0.476562 1.28125 -0.8125 C 1.03125 -1.144531 0.832031 -1.582031 0.6875 -2.125 C 0.539062 -2.664062 0.46875 -3.332031 0.46875 -4.125 C 0.46875 -4.957031 0.539062 -5.644531 0.6875 -6.1875 C 0.832031 -6.738281 1.035156 -7.175781 1.296875 -7.5 C 1.554688 -7.820312 1.859375 -8.046875 2.203125 -8.171875 C 2.554688 -8.304688 2.941406 -8.375 3.359375 -8.375 C 3.753906 -8.375 4.125 -8.304688 4.46875 -8.171875 C 4.8125 -8.046875 5.113281 -7.820312 5.375 -7.5 C 5.632812 -7.175781 5.835938 -6.738281 5.984375 -6.1875 C 6.128906 -5.644531 6.203125 -4.957031 6.203125 -4.125 Z M 5.140625 -4.125 C 5.140625 -4.78125 5.097656 -5.328125 5.015625 -5.765625 C 4.941406 -6.203125 4.828125 -6.550781 4.671875 -6.8125 C 4.515625 -7.070312 4.328125 -7.253906 4.109375 -7.359375 C 3.890625 -7.472656 3.640625 -7.53125 3.359375 -7.53125 C 3.054688 -7.53125 2.789062 -7.472656 2.5625 -7.359375 C 2.34375 -7.253906 2.15625 -7.070312 2 -6.8125 C 1.84375 -6.550781 1.722656 -6.203125 1.640625 -5.765625 C 1.566406 -5.328125 1.53125 -4.78125 1.53125 -4.125 C 1.53125 -3.5 1.570312 -2.96875 1.65625 -2.53125 C 1.738281 -2.09375 1.851562 -1.742188 2 -1.484375 C 2.15625 -1.222656 2.34375 -1.035156 2.5625 -0.921875 C 2.789062 -0.804688 3.046875 -0.75 3.328125 -0.75 C 3.609375 -0.75 3.859375 -0.804688 4.078125 -0.921875 C 4.304688 -1.035156 4.492188 -1.222656 4.640625 -1.484375 C 4.796875 -1.742188 4.914062 -2.09375 5 -2.53125 C 5.09375 -2.96875 5.140625 -3.5 5.140625 -4.125 Z M 5.140625 -4.125 \"/>\n",
       "</symbol>\n",
       "<symbol overflow=\"visible\" id=\"glyph0-2\">\n",
       "<path style=\"stroke:none;\" d=\"M 6.171875 -2.6875 C 6.171875 -2.269531 6.109375 -1.890625 5.984375 -1.546875 C 5.859375 -1.203125 5.671875 -0.90625 5.421875 -0.65625 C 5.179688 -0.414062 4.878906 -0.222656 4.515625 -0.078125 C 4.148438 0.0546875 3.722656 0.125 3.234375 0.125 C 2.804688 0.125 2.429688 0.0703125 2.109375 -0.03125 C 1.785156 -0.132812 1.507812 -0.273438 1.28125 -0.453125 C 1.0625 -0.628906 0.882812 -0.835938 0.75 -1.078125 C 0.625 -1.316406 0.535156 -1.570312 0.484375 -1.84375 L 1.546875 -1.96875 C 1.585938 -1.8125 1.644531 -1.660156 1.71875 -1.515625 C 1.800781 -1.367188 1.910156 -1.238281 2.046875 -1.125 C 2.179688 -1.007812 2.347656 -0.914062 2.546875 -0.84375 C 2.742188 -0.78125 2.984375 -0.75 3.265625 -0.75 C 3.535156 -0.75 3.78125 -0.789062 4 -0.875 C 4.226562 -0.957031 4.421875 -1.078125 4.578125 -1.234375 C 4.734375 -1.398438 4.851562 -1.601562 4.9375 -1.84375 C 5.03125 -2.082031 5.078125 -2.359375 5.078125 -2.671875 C 5.078125 -2.921875 5.035156 -3.148438 4.953125 -3.359375 C 4.867188 -3.578125 4.75 -3.765625 4.59375 -3.921875 C 4.445312 -4.078125 4.257812 -4.195312 4.03125 -4.28125 C 3.8125 -4.363281 3.5625 -4.40625 3.28125 -4.40625 C 3.113281 -4.40625 2.953125 -4.390625 2.796875 -4.359375 C 2.648438 -4.328125 2.515625 -4.285156 2.390625 -4.234375 C 2.265625 -4.179688 2.148438 -4.117188 2.046875 -4.046875 C 1.941406 -3.972656 1.84375 -3.894531 1.75 -3.8125 L 0.71875 -3.8125 L 1 -8.25 L 5.6875 -8.25 L 5.6875 -7.359375 L 1.953125 -7.359375 L 1.796875 -4.734375 C 1.984375 -4.878906 2.21875 -5.003906 2.5 -5.109375 C 2.78125 -5.210938 3.113281 -5.265625 3.5 -5.265625 C 3.914062 -5.265625 4.285156 -5.203125 4.609375 -5.078125 C 4.941406 -4.953125 5.222656 -4.773438 5.453125 -4.546875 C 5.679688 -4.316406 5.859375 -4.046875 5.984375 -3.734375 C 6.109375 -3.421875 6.171875 -3.070312 6.171875 -2.6875 Z M 6.171875 -2.6875 \"/>\n",
       "</symbol>\n",
       "<symbol overflow=\"visible\" id=\"glyph0-3\">\n",
       "<path style=\"stroke:none;\" d=\"M 0.921875 0 L 0.921875 -0.890625 L 3.015625 -0.890625 L 3.015625 -7.25 L 1.15625 -5.921875 L 1.15625 -6.921875 L 3.109375 -8.25 L 4.078125 -8.25 L 4.078125 -0.890625 L 6.09375 -0.890625 L 6.09375 0 Z M 0.921875 0 \"/>\n",
       "</symbol>\n",
       "<symbol overflow=\"visible\" id=\"glyph0-4\">\n",
       "<path style=\"stroke:none;\" d=\"M 0.609375 0 L 0.609375 -0.75 C 0.804688 -1.207031 1.046875 -1.609375 1.328125 -1.953125 C 1.617188 -2.304688 1.921875 -2.625 2.234375 -2.90625 C 2.554688 -3.1875 2.867188 -3.445312 3.171875 -3.6875 C 3.484375 -3.9375 3.765625 -4.179688 4.015625 -4.421875 C 4.265625 -4.660156 4.46875 -4.910156 4.625 -5.171875 C 4.78125 -5.441406 4.859375 -5.742188 4.859375 -6.078125 C 4.859375 -6.316406 4.820312 -6.523438 4.75 -6.703125 C 4.675781 -6.878906 4.570312 -7.023438 4.4375 -7.140625 C 4.3125 -7.265625 4.15625 -7.359375 3.96875 -7.421875 C 3.78125 -7.484375 3.578125 -7.515625 3.359375 -7.515625 C 3.140625 -7.515625 2.9375 -7.484375 2.75 -7.421875 C 2.570312 -7.367188 2.410156 -7.28125 2.265625 -7.15625 C 2.117188 -7.039062 2 -6.894531 1.90625 -6.71875 C 1.8125 -6.550781 1.753906 -6.351562 1.734375 -6.125 L 0.65625 -6.21875 C 0.6875 -6.507812 0.765625 -6.785156 0.890625 -7.046875 C 1.023438 -7.316406 1.203125 -7.550781 1.421875 -7.75 C 1.648438 -7.945312 1.921875 -8.097656 2.234375 -8.203125 C 2.554688 -8.316406 2.929688 -8.375 3.359375 -8.375 C 3.765625 -8.375 4.125 -8.328125 4.4375 -8.234375 C 4.757812 -8.140625 5.03125 -7.992188 5.25 -7.796875 C 5.476562 -7.609375 5.648438 -7.375 5.765625 -7.09375 C 5.878906 -6.8125 5.9375 -6.488281 5.9375 -6.125 C 5.9375 -5.84375 5.882812 -5.578125 5.78125 -5.328125 C 5.6875 -5.078125 5.554688 -4.835938 5.390625 -4.609375 C 5.222656 -4.378906 5.03125 -4.160156 4.8125 -3.953125 C 4.59375 -3.742188 4.363281 -3.535156 4.125 -3.328125 C 3.894531 -3.128906 3.65625 -2.929688 3.40625 -2.734375 C 3.164062 -2.535156 2.9375 -2.335938 2.71875 -2.140625 C 2.507812 -1.941406 2.320312 -1.738281 2.15625 -1.53125 C 1.988281 -1.332031 1.859375 -1.117188 1.765625 -0.890625 L 6.078125 -0.890625 L 6.078125 0 Z M 0.609375 0 \"/>\n",
       "</symbol>\n",
       "<symbol overflow=\"visible\" id=\"glyph0-5\">\n",
       "<path style=\"stroke:none;\" d=\"M 5.15625 -1.875 L 5.15625 0 L 4.171875 0 L 4.171875 -1.875 L 0.28125 -1.875 L 0.28125 -2.6875 L 4.0625 -8.25 L 5.15625 -8.25 L 5.15625 -2.703125 L 6.328125 -2.703125 L 6.328125 -1.875 Z M 4.171875 -7.0625 C 4.160156 -7.039062 4.140625 -7.003906 4.109375 -6.953125 C 4.078125 -6.898438 4.039062 -6.835938 4 -6.765625 C 3.957031 -6.691406 3.914062 -6.617188 3.875 -6.546875 C 3.84375 -6.472656 3.8125 -6.414062 3.78125 -6.375 L 1.65625 -3.25 C 1.632812 -3.21875 1.601562 -3.175781 1.5625 -3.125 C 1.53125 -3.070312 1.492188 -3.019531 1.453125 -2.96875 C 1.421875 -2.914062 1.382812 -2.863281 1.34375 -2.8125 C 1.300781 -2.769531 1.269531 -2.734375 1.25 -2.703125 L 4.171875 -2.703125 Z M 4.171875 -7.0625 \"/>\n",
       "</symbol>\n",
       "<symbol overflow=\"visible\" id=\"glyph0-6\">\n",
       "<path style=\"stroke:none;\" d=\"M 0.53125 -2.71875 L 0.53125 -3.65625 L 3.46875 -3.65625 L 3.46875 -2.71875 Z M 0.53125 -2.71875 \"/>\n",
       "</symbol>\n",
       "<symbol overflow=\"visible\" id=\"glyph0-7\">\n",
       "<path style=\"stroke:none;\" d=\"M 6.15625 -2.296875 C 6.15625 -1.953125 6.097656 -1.628906 5.984375 -1.328125 C 5.867188 -1.035156 5.695312 -0.78125 5.46875 -0.5625 C 5.25 -0.351562 4.957031 -0.1875 4.59375 -0.0625 C 4.238281 0.0625 3.820312 0.125 3.34375 0.125 C 2.851562 0.125 2.429688 0.0625 2.078125 -0.0625 C 1.722656 -0.1875 1.429688 -0.351562 1.203125 -0.5625 C 0.972656 -0.78125 0.800781 -1.035156 0.6875 -1.328125 C 0.570312 -1.617188 0.515625 -1.941406 0.515625 -2.296875 C 0.515625 -2.597656 0.5625 -2.863281 0.65625 -3.09375 C 0.75 -3.332031 0.875 -3.535156 1.03125 -3.703125 C 1.1875 -3.867188 1.363281 -4.003906 1.5625 -4.109375 C 1.757812 -4.210938 1.960938 -4.28125 2.171875 -4.3125 L 2.171875 -4.34375 C 1.941406 -4.394531 1.734375 -4.476562 1.546875 -4.59375 C 1.367188 -4.71875 1.21875 -4.863281 1.09375 -5.03125 C 0.96875 -5.207031 0.875 -5.398438 0.8125 -5.609375 C 0.75 -5.816406 0.71875 -6.035156 0.71875 -6.265625 C 0.71875 -6.554688 0.769531 -6.828125 0.875 -7.078125 C 0.988281 -7.335938 1.15625 -7.5625 1.375 -7.75 C 1.59375 -7.945312 1.863281 -8.097656 2.1875 -8.203125 C 2.507812 -8.316406 2.882812 -8.375 3.3125 -8.375 C 3.757812 -8.375 4.148438 -8.316406 4.484375 -8.203125 C 4.816406 -8.097656 5.085938 -7.945312 5.296875 -7.75 C 5.515625 -7.550781 5.675781 -7.320312 5.78125 -7.0625 C 5.894531 -6.8125 5.953125 -6.539062 5.953125 -6.25 C 5.953125 -6.019531 5.914062 -5.800781 5.84375 -5.59375 C 5.78125 -5.394531 5.6875 -5.207031 5.5625 -5.03125 C 5.445312 -4.863281 5.296875 -4.71875 5.109375 -4.59375 C 4.929688 -4.476562 4.722656 -4.398438 4.484375 -4.359375 L 4.484375 -4.328125 C 4.722656 -4.285156 4.941406 -4.210938 5.140625 -4.109375 C 5.347656 -4.015625 5.523438 -3.878906 5.671875 -3.703125 C 5.816406 -3.535156 5.929688 -3.332031 6.015625 -3.09375 C 6.109375 -2.863281 6.15625 -2.597656 6.15625 -2.296875 Z M 4.859375 -6.1875 C 4.859375 -6.394531 4.828125 -6.582031 4.765625 -6.75 C 4.710938 -6.925781 4.625 -7.078125 4.5 -7.203125 C 4.382812 -7.328125 4.226562 -7.421875 4.03125 -7.484375 C 3.84375 -7.554688 3.601562 -7.59375 3.3125 -7.59375 C 3.039062 -7.59375 2.804688 -7.554688 2.609375 -7.484375 C 2.421875 -7.421875 2.265625 -7.328125 2.140625 -7.203125 C 2.015625 -7.078125 1.925781 -6.925781 1.875 -6.75 C 1.820312 -6.582031 1.796875 -6.394531 1.796875 -6.1875 C 1.796875 -6.03125 1.816406 -5.863281 1.859375 -5.6875 C 1.898438 -5.519531 1.976562 -5.363281 2.09375 -5.21875 C 2.207031 -5.082031 2.363281 -4.96875 2.5625 -4.875 C 2.757812 -4.78125 3.015625 -4.734375 3.328125 -4.734375 C 3.660156 -4.734375 3.925781 -4.78125 4.125 -4.875 C 4.332031 -4.96875 4.488281 -5.082031 4.59375 -5.21875 C 4.695312 -5.363281 4.765625 -5.519531 4.796875 -5.6875 C 4.835938 -5.863281 4.859375 -6.03125 4.859375 -6.1875 Z M 5.0625 -2.40625 C 5.0625 -2.601562 5.03125 -2.796875 4.96875 -2.984375 C 4.914062 -3.171875 4.820312 -3.332031 4.6875 -3.46875 C 4.5625 -3.613281 4.382812 -3.726562 4.15625 -3.8125 C 3.9375 -3.90625 3.65625 -3.953125 3.3125 -3.953125 C 3.007812 -3.953125 2.75 -3.90625 2.53125 -3.8125 C 2.3125 -3.726562 2.132812 -3.613281 2 -3.46875 C 1.863281 -3.320312 1.765625 -3.15625 1.703125 -2.96875 C 1.640625 -2.78125 1.609375 -2.582031 1.609375 -2.375 C 1.609375 -2.125 1.640625 -1.894531 1.703125 -1.6875 C 1.765625 -1.476562 1.863281 -1.296875 2 -1.140625 C 2.132812 -0.992188 2.3125 -0.878906 2.53125 -0.796875 C 2.757812 -0.710938 3.035156 -0.671875 3.359375 -0.671875 C 3.671875 -0.671875 3.9375 -0.710938 4.15625 -0.796875 C 4.375 -0.878906 4.550781 -0.992188 4.6875 -1.140625 C 4.820312 -1.296875 4.914062 -1.476562 4.96875 -1.6875 C 5.03125 -1.90625 5.0625 -2.144531 5.0625 -2.40625 Z M 5.0625 -2.40625 \"/>\n",
       "</symbol>\n",
       "<symbol overflow=\"visible\" id=\"glyph1-0\">\n",
       "<path style=\"stroke:none;\" d=\"M 0.40625 0 L 0.40625 -8 L 3.59375 -8 L 3.59375 0 Z M 0.796875 -0.40625 L 3.1875 -0.40625 L 3.1875 -7.59375 L 0.796875 -7.59375 Z M 0.796875 -0.40625 \"/>\n",
       "</symbol>\n",
       "<symbol overflow=\"visible\" id=\"glyph1-1\">\n",
       "<path style=\"stroke:none;\" d=\"M 4.875 -3.390625 L 4.875 0 L 3.140625 0 L 3.140625 -3.390625 L 0.203125 -8.25 L 2.015625 -8.25 L 4 -4.765625 L 6 -8.25 L 7.8125 -8.25 Z M 4.875 -3.390625 \"/>\n",
       "</symbol>\n",
       "<symbol overflow=\"visible\" id=\"glyph1-2\">\n",
       "<path style=\"stroke:none;\" d=\"M 3.4375 0.125 C 2.976562 0.125 2.566406 0.0546875 2.203125 -0.078125 C 1.835938 -0.210938 1.523438 -0.414062 1.265625 -0.6875 C 1.003906 -0.96875 0.804688 -1.316406 0.671875 -1.734375 C 0.535156 -2.148438 0.46875 -2.640625 0.46875 -3.203125 C 0.46875 -3.804688 0.546875 -4.3125 0.703125 -4.71875 C 0.867188 -5.132812 1.085938 -5.472656 1.359375 -5.734375 C 1.640625 -5.992188 1.957031 -6.175781 2.3125 -6.28125 C 2.675781 -6.394531 3.054688 -6.453125 3.453125 -6.453125 C 3.953125 -6.453125 4.378906 -6.363281 4.734375 -6.1875 C 5.085938 -6.019531 5.378906 -5.78125 5.609375 -5.46875 C 5.835938 -5.15625 6.003906 -4.78125 6.109375 -4.34375 C 6.210938 -3.90625 6.265625 -3.425781 6.265625 -2.90625 L 6.265625 -2.859375 L 2.203125 -2.859375 C 2.203125 -2.585938 2.222656 -2.335938 2.265625 -2.109375 C 2.316406 -1.878906 2.394531 -1.679688 2.5 -1.515625 C 2.601562 -1.347656 2.738281 -1.21875 2.90625 -1.125 C 3.070312 -1.03125 3.273438 -0.984375 3.515625 -0.984375 C 3.804688 -0.984375 4.039062 -1.046875 4.21875 -1.171875 C 4.40625 -1.296875 4.539062 -1.484375 4.625 -1.734375 L 6.171875 -1.609375 C 6.097656 -1.429688 6 -1.238281 5.875 -1.03125 C 5.75 -0.832031 5.578125 -0.644531 5.359375 -0.46875 C 5.148438 -0.300781 4.890625 -0.160156 4.578125 -0.046875 C 4.265625 0.0664062 3.882812 0.125 3.4375 0.125 Z M 3.4375 -5.421875 C 3.269531 -5.421875 3.113281 -5.390625 2.96875 -5.328125 C 2.820312 -5.273438 2.691406 -5.1875 2.578125 -5.0625 C 2.472656 -4.9375 2.382812 -4.773438 2.3125 -4.578125 C 2.25 -4.390625 2.210938 -4.160156 2.203125 -3.890625 L 4.671875 -3.890625 C 4.640625 -4.398438 4.515625 -4.78125 4.296875 -5.03125 C 4.085938 -5.289062 3.800781 -5.421875 3.4375 -5.421875 Z M 3.4375 -5.421875 \"/>\n",
       "</symbol>\n",
       "<symbol overflow=\"visible\" id=\"glyph1-3\">\n",
       "<path style=\"stroke:none;\" d=\"M 2.296875 0.125 C 1.992188 0.125 1.722656 0.0820312 1.484375 0 C 1.242188 -0.09375 1.039062 -0.21875 0.875 -0.375 C 0.707031 -0.539062 0.578125 -0.742188 0.484375 -0.984375 C 0.398438 -1.222656 0.359375 -1.492188 0.359375 -1.796875 C 0.359375 -2.171875 0.421875 -2.484375 0.546875 -2.734375 C 0.679688 -2.992188 0.859375 -3.203125 1.078125 -3.359375 C 1.304688 -3.515625 1.570312 -3.628906 1.875 -3.703125 C 2.1875 -3.773438 2.515625 -3.816406 2.859375 -3.828125 L 4.21875 -3.84375 L 4.21875 -4.171875 C 4.21875 -4.398438 4.195312 -4.585938 4.15625 -4.734375 C 4.113281 -4.890625 4.050781 -5.015625 3.96875 -5.109375 C 3.894531 -5.210938 3.800781 -5.285156 3.6875 -5.328125 C 3.570312 -5.367188 3.441406 -5.390625 3.296875 -5.390625 C 3.160156 -5.390625 3.035156 -5.375 2.921875 -5.34375 C 2.816406 -5.320312 2.722656 -5.273438 2.640625 -5.203125 C 2.566406 -5.140625 2.503906 -5.050781 2.453125 -4.9375 C 2.410156 -4.820312 2.378906 -4.675781 2.359375 -4.5 L 0.640625 -4.578125 C 0.679688 -4.859375 0.765625 -5.109375 0.890625 -5.328125 C 1.015625 -5.554688 1.1875 -5.753906 1.40625 -5.921875 C 1.632812 -6.097656 1.910156 -6.226562 2.234375 -6.3125 C 2.554688 -6.40625 2.929688 -6.453125 3.359375 -6.453125 C 3.753906 -6.453125 4.101562 -6.40625 4.40625 -6.3125 C 4.71875 -6.21875 4.984375 -6.070312 5.203125 -5.875 C 5.421875 -5.675781 5.582031 -5.4375 5.6875 -5.15625 C 5.800781 -4.875 5.859375 -4.550781 5.859375 -4.1875 L 5.859375 -1.875 C 5.859375 -1.726562 5.863281 -1.59375 5.875 -1.46875 C 5.894531 -1.351562 5.921875 -1.253906 5.953125 -1.171875 C 5.992188 -1.097656 6.046875 -1.039062 6.109375 -1 C 6.179688 -0.957031 6.273438 -0.9375 6.390625 -0.9375 C 6.515625 -0.9375 6.632812 -0.945312 6.75 -0.96875 L 6.75 -0.078125 C 6.65625 -0.0546875 6.566406 -0.0351562 6.484375 -0.015625 C 6.410156 0.00390625 6.332031 0.0195312 6.25 0.03125 C 6.175781 0.0390625 6.09375 0.0507812 6 0.0625 C 5.914062 0.0703125 5.816406 0.078125 5.703125 0.078125 C 5.285156 0.078125 4.976562 -0.0234375 4.78125 -0.234375 C 4.582031 -0.441406 4.460938 -0.738281 4.421875 -1.125 L 4.390625 -1.125 C 4.171875 -0.738281 3.890625 -0.429688 3.546875 -0.203125 C 3.203125 0.015625 2.785156 0.125 2.296875 0.125 Z M 4.21875 -2.9375 L 3.375 -2.921875 C 3.195312 -2.910156 3.03125 -2.894531 2.875 -2.875 C 2.71875 -2.851562 2.578125 -2.804688 2.453125 -2.734375 C 2.335938 -2.671875 2.242188 -2.570312 2.171875 -2.4375 C 2.097656 -2.3125 2.0625 -2.140625 2.0625 -1.921875 C 2.0625 -1.617188 2.128906 -1.394531 2.265625 -1.25 C 2.410156 -1.101562 2.597656 -1.03125 2.828125 -1.03125 C 3.035156 -1.03125 3.222656 -1.070312 3.390625 -1.15625 C 3.566406 -1.25 3.710938 -1.367188 3.828125 -1.515625 C 3.953125 -1.660156 4.046875 -1.828125 4.109375 -2.015625 C 4.179688 -2.210938 4.21875 -2.410156 4.21875 -2.609375 Z M 4.21875 -2.9375 \"/>\n",
       "</symbol>\n",
       "<symbol overflow=\"visible\" id=\"glyph1-4\">\n",
       "<path style=\"stroke:none;\" d=\"M 0.84375 0 L 0.84375 -4.859375 C 0.84375 -4.992188 0.835938 -5.132812 0.828125 -5.28125 C 0.828125 -5.4375 0.820312 -5.582031 0.8125 -5.71875 C 0.8125 -5.863281 0.804688 -5.988281 0.796875 -6.09375 C 0.796875 -6.207031 0.796875 -6.289062 0.796875 -6.34375 L 2.359375 -6.34375 C 2.367188 -6.289062 2.375 -6.207031 2.375 -6.09375 C 2.382812 -5.976562 2.394531 -5.851562 2.40625 -5.71875 C 2.414062 -5.582031 2.421875 -5.445312 2.421875 -5.3125 C 2.429688 -5.175781 2.4375 -5.066406 2.4375 -4.984375 L 2.46875 -4.984375 C 2.539062 -5.210938 2.617188 -5.414062 2.703125 -5.59375 C 2.785156 -5.78125 2.882812 -5.9375 3 -6.0625 C 3.113281 -6.195312 3.25 -6.296875 3.40625 -6.359375 C 3.5625 -6.429688 3.753906 -6.46875 3.984375 -6.46875 C 4.078125 -6.46875 4.171875 -6.457031 4.265625 -6.4375 C 4.359375 -6.414062 4.429688 -6.394531 4.484375 -6.375 L 4.484375 -5 C 4.378906 -5.019531 4.273438 -5.039062 4.171875 -5.0625 C 4.066406 -5.082031 3.9375 -5.09375 3.78125 -5.09375 C 3.375 -5.09375 3.054688 -4.925781 2.828125 -4.59375 C 2.597656 -4.257812 2.484375 -3.765625 2.484375 -3.109375 L 2.484375 0 Z M 0.84375 0 \"/>\n",
       "</symbol>\n",
       "<symbol overflow=\"visible\" id=\"glyph1-5\">\n",
       "<path style=\"stroke:none;\" d=\"\"/>\n",
       "</symbol>\n",
       "<symbol overflow=\"visible\" id=\"glyph1-6\">\n",
       "<path style=\"stroke:none;\" d=\"M 6.46875 0 L 4.5625 -3.140625 L 2.53125 -3.140625 L 2.53125 0 L 0.796875 0 L 0.796875 -8.25 L 4.921875 -8.25 C 5.441406 -8.25 5.894531 -8.191406 6.28125 -8.078125 C 6.664062 -7.960938 6.984375 -7.796875 7.234375 -7.578125 C 7.492188 -7.367188 7.6875 -7.113281 7.8125 -6.8125 C 7.945312 -6.507812 8.015625 -6.171875 8.015625 -5.796875 C 8.015625 -5.484375 7.96875 -5.195312 7.875 -4.9375 C 7.78125 -4.6875 7.648438 -4.460938 7.484375 -4.265625 C 7.328125 -4.066406 7.132812 -3.898438 6.90625 -3.765625 C 6.6875 -3.628906 6.445312 -3.53125 6.1875 -3.46875 L 8.421875 0 Z M 6.265625 -5.71875 C 6.265625 -6.125 6.132812 -6.425781 5.875 -6.625 C 5.613281 -6.820312 5.238281 -6.921875 4.75 -6.921875 L 2.53125 -6.921875 L 2.53125 -4.484375 L 4.796875 -4.484375 C 5.054688 -4.484375 5.273438 -4.507812 5.453125 -4.5625 C 5.640625 -4.625 5.789062 -4.710938 5.90625 -4.828125 C 6.03125 -4.941406 6.117188 -5.070312 6.171875 -5.21875 C 6.234375 -5.375 6.265625 -5.539062 6.265625 -5.71875 Z M 6.265625 -5.71875 \"/>\n",
       "</symbol>\n",
       "<symbol overflow=\"visible\" id=\"glyph1-7\">\n",
       "<path style=\"stroke:none;\" d=\"M 4.953125 0 L 4.953125 -3.5625 C 4.953125 -3.800781 4.929688 -4.023438 4.890625 -4.234375 C 4.847656 -4.441406 4.78125 -4.617188 4.6875 -4.765625 C 4.601562 -4.910156 4.488281 -5.023438 4.34375 -5.109375 C 4.195312 -5.191406 4.019531 -5.234375 3.8125 -5.234375 C 3.613281 -5.234375 3.429688 -5.1875 3.265625 -5.09375 C 3.109375 -5.007812 2.96875 -4.882812 2.84375 -4.71875 C 2.726562 -4.5625 2.640625 -4.367188 2.578125 -4.140625 C 2.515625 -3.910156 2.484375 -3.664062 2.484375 -3.40625 L 2.484375 0 L 0.84375 0 L 0.84375 -4.921875 C 0.84375 -5.054688 0.835938 -5.195312 0.828125 -5.34375 C 0.828125 -5.488281 0.820312 -5.625 0.8125 -5.75 C 0.8125 -5.882812 0.804688 -6.003906 0.796875 -6.109375 C 0.796875 -6.210938 0.796875 -6.289062 0.796875 -6.34375 L 2.359375 -6.34375 C 2.367188 -6.289062 2.375 -6.210938 2.375 -6.109375 C 2.382812 -6.003906 2.394531 -5.890625 2.40625 -5.765625 C 2.414062 -5.640625 2.421875 -5.515625 2.421875 -5.390625 C 2.429688 -5.265625 2.4375 -5.160156 2.4375 -5.078125 L 2.46875 -5.078125 C 2.6875 -5.566406 2.960938 -5.921875 3.296875 -6.140625 C 3.628906 -6.359375 4.03125 -6.46875 4.5 -6.46875 C 4.882812 -6.46875 5.207031 -6.40625 5.46875 -6.28125 C 5.726562 -6.15625 5.941406 -5.984375 6.109375 -5.765625 C 6.273438 -5.546875 6.394531 -5.285156 6.46875 -4.984375 C 6.550781 -4.691406 6.59375 -4.375 6.59375 -4.03125 L 6.59375 0 Z M 4.953125 0 \"/>\n",
       "</symbol>\n",
       "<symbol overflow=\"visible\" id=\"glyph1-8\">\n",
       "<path style=\"stroke:none;\" d=\"M 3.5 2.546875 C 3.070312 2.546875 2.695312 2.503906 2.375 2.421875 C 2.0625 2.335938 1.789062 2.21875 1.5625 2.0625 C 1.34375 1.914062 1.164062 1.738281 1.03125 1.53125 C 0.894531 1.320312 0.800781 1.09375 0.75 0.84375 L 2.40625 0.640625 C 2.457031 0.898438 2.582031 1.097656 2.78125 1.234375 C 2.976562 1.378906 3.234375 1.453125 3.546875 1.453125 C 3.734375 1.453125 3.90625 1.425781 4.0625 1.375 C 4.226562 1.320312 4.367188 1.226562 4.484375 1.09375 C 4.609375 0.96875 4.703125 0.796875 4.765625 0.578125 C 4.828125 0.367188 4.859375 0.101562 4.859375 -0.21875 C 4.859375 -0.320312 4.859375 -0.429688 4.859375 -0.546875 C 4.859375 -0.660156 4.859375 -0.765625 4.859375 -0.859375 C 4.867188 -0.972656 4.875 -1.078125 4.875 -1.171875 L 4.859375 -1.171875 C 4.671875 -0.765625 4.398438 -0.46875 4.046875 -0.28125 C 3.703125 -0.101562 3.289062 -0.015625 2.8125 -0.015625 C 2.414062 -0.015625 2.070312 -0.09375 1.78125 -0.25 C 1.488281 -0.40625 1.242188 -0.625 1.046875 -0.90625 C 0.859375 -1.195312 0.71875 -1.535156 0.625 -1.921875 C 0.539062 -2.316406 0.5 -2.75 0.5 -3.21875 C 0.5 -3.707031 0.546875 -4.148438 0.640625 -4.546875 C 0.734375 -4.941406 0.878906 -5.28125 1.078125 -5.5625 C 1.285156 -5.851562 1.539062 -6.078125 1.84375 -6.234375 C 2.15625 -6.390625 2.519531 -6.46875 2.9375 -6.46875 C 3.363281 -6.46875 3.742188 -6.375 4.078125 -6.1875 C 4.410156 -6.007812 4.671875 -5.722656 4.859375 -5.328125 L 4.890625 -5.328125 C 4.890625 -5.398438 4.890625 -5.488281 4.890625 -5.59375 C 4.898438 -5.707031 4.90625 -5.8125 4.90625 -5.90625 C 4.914062 -6.007812 4.925781 -6.097656 4.9375 -6.171875 C 4.945312 -6.253906 4.957031 -6.3125 4.96875 -6.34375 L 6.53125 -6.34375 C 6.519531 -6.195312 6.507812 -6 6.5 -5.75 C 6.5 -5.5 6.5 -5.207031 6.5 -4.875 L 6.5 -0.1875 C 6.5 0.269531 6.429688 0.671875 6.296875 1.015625 C 6.160156 1.359375 5.960938 1.640625 5.703125 1.859375 C 5.453125 2.085938 5.140625 2.257812 4.765625 2.375 C 4.390625 2.488281 3.96875 2.546875 3.5 2.546875 Z M 4.875 -3.265625 C 4.875 -3.660156 4.832031 -3.988281 4.75 -4.25 C 4.675781 -4.519531 4.578125 -4.734375 4.453125 -4.890625 C 4.328125 -5.054688 4.179688 -5.171875 4.015625 -5.234375 C 3.859375 -5.296875 3.695312 -5.328125 3.53125 -5.328125 C 3.320312 -5.328125 3.132812 -5.285156 2.96875 -5.203125 C 2.800781 -5.128906 2.660156 -5.003906 2.546875 -4.828125 C 2.441406 -4.660156 2.359375 -4.441406 2.296875 -4.171875 C 2.234375 -3.910156 2.203125 -3.59375 2.203125 -3.21875 C 2.203125 -2.539062 2.3125 -2.023438 2.53125 -1.671875 C 2.75 -1.328125 3.078125 -1.15625 3.515625 -1.15625 C 3.679688 -1.15625 3.84375 -1.1875 4 -1.25 C 4.164062 -1.3125 4.3125 -1.421875 4.4375 -1.578125 C 4.570312 -1.742188 4.675781 -1.960938 4.75 -2.234375 C 4.832031 -2.503906 4.875 -2.847656 4.875 -3.265625 Z M 4.875 -3.265625 \"/>\n",
       "</symbol>\n",
       "<symbol overflow=\"visible\" id=\"glyph2-0\">\n",
       "<path style=\"stroke:none;\" d=\"M 0 -0.40625 L -8 -0.40625 L -8 -3.59375 L 0 -3.59375 Z M -0.40625 -0.796875 L -0.40625 -3.1875 L -7.59375 -3.1875 L -7.59375 -0.796875 Z M -0.40625 -0.796875 \"/>\n",
       "</symbol>\n",
       "<symbol overflow=\"visible\" id=\"glyph2-1\">\n",
       "<path style=\"stroke:none;\" d=\"M -1.25 -4.65625 C -1.25 -4.976562 -1.289062 -5.257812 -1.375 -5.5 C -1.46875 -5.738281 -1.585938 -5.941406 -1.734375 -6.109375 C -1.890625 -6.285156 -2.0625 -6.429688 -2.25 -6.546875 C -2.4375 -6.660156 -2.625 -6.753906 -2.8125 -6.828125 L -2.25 -8.34375 C -1.945312 -8.21875 -1.648438 -8.054688 -1.359375 -7.859375 C -1.078125 -7.671875 -0.828125 -7.425781 -0.609375 -7.125 C -0.390625 -6.832031 -0.210938 -6.484375 -0.078125 -6.078125 C 0.0546875 -5.679688 0.125 -5.207031 0.125 -4.65625 C 0.125 -3.945312 0.0195312 -3.328125 -0.1875 -2.796875 C -0.40625 -2.273438 -0.707031 -1.84375 -1.09375 -1.5 C -1.476562 -1.15625 -1.929688 -0.898438 -2.453125 -0.734375 C -2.972656 -0.578125 -3.546875 -0.5 -4.171875 -0.5 C -4.816406 -0.5 -5.394531 -0.578125 -5.90625 -0.734375 C -6.425781 -0.898438 -6.867188 -1.148438 -7.234375 -1.484375 C -7.597656 -1.828125 -7.878906 -2.253906 -8.078125 -2.765625 C -8.273438 -3.285156 -8.375 -3.890625 -8.375 -4.578125 C -8.375 -5.117188 -8.316406 -5.59375 -8.203125 -6 C -8.097656 -6.40625 -7.941406 -6.753906 -7.734375 -7.046875 C -7.523438 -7.335938 -7.28125 -7.578125 -7 -7.765625 C -6.726562 -7.960938 -6.421875 -8.117188 -6.078125 -8.234375 L -5.671875 -6.703125 C -5.847656 -6.648438 -6.015625 -6.566406 -6.171875 -6.453125 C -6.335938 -6.335938 -6.484375 -6.191406 -6.609375 -6.015625 C -6.734375 -5.847656 -6.832031 -5.644531 -6.90625 -5.40625 C -6.976562 -5.175781 -7.015625 -4.914062 -7.015625 -4.625 C -7.015625 -4.195312 -6.945312 -3.832031 -6.8125 -3.53125 C -6.675781 -3.238281 -6.484375 -2.992188 -6.234375 -2.796875 C -5.984375 -2.609375 -5.679688 -2.46875 -5.328125 -2.375 C -4.984375 -2.28125 -4.597656 -2.234375 -4.171875 -2.234375 C -3.734375 -2.234375 -3.335938 -2.28125 -2.984375 -2.375 C -2.628906 -2.46875 -2.320312 -2.609375 -2.0625 -2.796875 C -1.800781 -2.992188 -1.597656 -3.242188 -1.453125 -3.546875 C -1.316406 -3.859375 -1.25 -4.226562 -1.25 -4.65625 Z M -1.25 -4.65625 \"/>\n",
       "</symbol>\n",
       "<symbol overflow=\"visible\" id=\"glyph2-2\">\n",
       "<path style=\"stroke:none;\" d=\"M 0 -0.84375 L -4.859375 -0.84375 C -4.992188 -0.84375 -5.132812 -0.835938 -5.28125 -0.828125 C -5.4375 -0.828125 -5.582031 -0.820312 -5.71875 -0.8125 C -5.863281 -0.8125 -5.988281 -0.804688 -6.09375 -0.796875 C -6.207031 -0.796875 -6.289062 -0.796875 -6.34375 -0.796875 L -6.34375 -2.359375 C -6.289062 -2.367188 -6.207031 -2.375 -6.09375 -2.375 C -5.976562 -2.382812 -5.851562 -2.394531 -5.71875 -2.40625 C -5.582031 -2.414062 -5.445312 -2.421875 -5.3125 -2.421875 C -5.175781 -2.429688 -5.066406 -2.4375 -4.984375 -2.4375 L -4.984375 -2.46875 C -5.210938 -2.539062 -5.414062 -2.617188 -5.59375 -2.703125 C -5.78125 -2.785156 -5.9375 -2.882812 -6.0625 -3 C -6.195312 -3.113281 -6.296875 -3.25 -6.359375 -3.40625 C -6.429688 -3.5625 -6.46875 -3.753906 -6.46875 -3.984375 C -6.46875 -4.078125 -6.457031 -4.171875 -6.4375 -4.265625 C -6.414062 -4.359375 -6.394531 -4.429688 -6.375 -4.484375 L -5 -4.484375 C -5.019531 -4.378906 -5.039062 -4.273438 -5.0625 -4.171875 C -5.082031 -4.066406 -5.09375 -3.9375 -5.09375 -3.78125 C -5.09375 -3.375 -4.925781 -3.054688 -4.59375 -2.828125 C -4.257812 -2.597656 -3.765625 -2.484375 -3.109375 -2.484375 L 0 -2.484375 Z M 0 -0.84375 \"/>\n",
       "</symbol>\n",
       "<symbol overflow=\"visible\" id=\"glyph2-3\">\n",
       "<path style=\"stroke:none;\" d=\"M -7.484375 -0.84375 L -8.703125 -0.84375 L -8.703125 -2.484375 L -7.484375 -2.484375 Z M 0 -0.84375 L -6.34375 -0.84375 L -6.34375 -2.484375 L 0 -2.484375 Z M 0 -0.84375 \"/>\n",
       "</symbol>\n",
       "<symbol overflow=\"visible\" id=\"glyph2-4\">\n",
       "<path style=\"stroke:none;\" d=\"M 0 -4.578125 L -3.5625 -4.578125 C -3.800781 -4.578125 -4.023438 -4.554688 -4.234375 -4.515625 C -4.441406 -4.484375 -4.617188 -4.429688 -4.765625 -4.359375 C -4.910156 -4.285156 -5.023438 -4.1875 -5.109375 -4.0625 C -5.191406 -3.9375 -5.234375 -3.785156 -5.234375 -3.609375 C -5.234375 -3.441406 -5.1875 -3.289062 -5.09375 -3.15625 C -5.007812 -3.019531 -4.882812 -2.898438 -4.71875 -2.796875 C -4.5625 -2.703125 -4.367188 -2.625 -4.140625 -2.5625 C -3.910156 -2.507812 -3.664062 -2.484375 -3.40625 -2.484375 L 0 -2.484375 L 0 -0.84375 L -4.921875 -0.84375 C -5.054688 -0.84375 -5.195312 -0.835938 -5.34375 -0.828125 C -5.488281 -0.828125 -5.625 -0.820312 -5.75 -0.8125 C -5.882812 -0.8125 -6.003906 -0.804688 -6.109375 -0.796875 C -6.210938 -0.796875 -6.289062 -0.796875 -6.34375 -0.796875 L -6.34375 -2.359375 C -6.289062 -2.367188 -6.210938 -2.375 -6.109375 -2.375 C -6.003906 -2.382812 -5.890625 -2.394531 -5.765625 -2.40625 C -5.640625 -2.414062 -5.515625 -2.421875 -5.390625 -2.421875 C -5.265625 -2.429688 -5.160156 -2.4375 -5.078125 -2.4375 L -5.078125 -2.46875 C -5.566406 -2.664062 -5.921875 -2.914062 -6.140625 -3.21875 C -6.359375 -3.519531 -6.46875 -3.882812 -6.46875 -4.3125 C -6.46875 -4.789062 -6.347656 -5.175781 -6.109375 -5.46875 C -5.867188 -5.769531 -5.523438 -5.972656 -5.078125 -6.078125 L -5.078125 -6.109375 C -5.335938 -6.222656 -5.554688 -6.34375 -5.734375 -6.46875 C -5.910156 -6.601562 -6.050781 -6.75 -6.15625 -6.90625 C -6.269531 -7.0625 -6.347656 -7.234375 -6.390625 -7.421875 C -6.441406 -7.609375 -6.46875 -7.8125 -6.46875 -8.03125 C -6.46875 -8.375 -6.40625 -8.664062 -6.28125 -8.90625 C -6.15625 -9.144531 -5.984375 -9.335938 -5.765625 -9.484375 C -5.546875 -9.640625 -5.285156 -9.75 -4.984375 -9.8125 C -4.691406 -9.882812 -4.375 -9.921875 -4.03125 -9.921875 L 0 -9.921875 L 0 -8.296875 L -3.5625 -8.296875 C -3.800781 -8.296875 -4.023438 -8.273438 -4.234375 -8.234375 C -4.441406 -8.203125 -4.617188 -8.148438 -4.765625 -8.078125 C -4.910156 -8.003906 -5.023438 -7.90625 -5.109375 -7.78125 C -5.191406 -7.65625 -5.234375 -7.503906 -5.234375 -7.328125 C -5.234375 -7.160156 -5.1875 -7.007812 -5.09375 -6.875 C -5.007812 -6.75 -4.890625 -6.632812 -4.734375 -6.53125 C -4.585938 -6.425781 -4.40625 -6.347656 -4.1875 -6.296875 C -3.976562 -6.242188 -3.738281 -6.210938 -3.46875 -6.203125 L 0 -6.203125 Z M 0 -4.578125 \"/>\n",
       "</symbol>\n",
       "<symbol overflow=\"visible\" id=\"glyph2-5\">\n",
       "<path style=\"stroke:none;\" d=\"M 0.125 -3.4375 C 0.125 -2.976562 0.0546875 -2.566406 -0.078125 -2.203125 C -0.210938 -1.835938 -0.414062 -1.523438 -0.6875 -1.265625 C -0.96875 -1.003906 -1.316406 -0.804688 -1.734375 -0.671875 C -2.148438 -0.535156 -2.640625 -0.46875 -3.203125 -0.46875 C -3.804688 -0.46875 -4.3125 -0.546875 -4.71875 -0.703125 C -5.132812 -0.867188 -5.472656 -1.085938 -5.734375 -1.359375 C -5.992188 -1.640625 -6.175781 -1.957031 -6.28125 -2.3125 C -6.394531 -2.675781 -6.453125 -3.054688 -6.453125 -3.453125 C -6.453125 -3.953125 -6.363281 -4.378906 -6.1875 -4.734375 C -6.019531 -5.085938 -5.78125 -5.378906 -5.46875 -5.609375 C -5.15625 -5.835938 -4.78125 -6.003906 -4.34375 -6.109375 C -3.90625 -6.210938 -3.425781 -6.265625 -2.90625 -6.265625 L -2.859375 -6.265625 L -2.859375 -2.203125 C -2.585938 -2.203125 -2.335938 -2.222656 -2.109375 -2.265625 C -1.878906 -2.316406 -1.679688 -2.394531 -1.515625 -2.5 C -1.347656 -2.601562 -1.21875 -2.738281 -1.125 -2.90625 C -1.03125 -3.070312 -0.984375 -3.273438 -0.984375 -3.515625 C -0.984375 -3.804688 -1.046875 -4.039062 -1.171875 -4.21875 C -1.296875 -4.40625 -1.484375 -4.539062 -1.734375 -4.625 L -1.609375 -6.171875 C -1.429688 -6.097656 -1.238281 -6 -1.03125 -5.875 C -0.832031 -5.75 -0.644531 -5.578125 -0.46875 -5.359375 C -0.300781 -5.148438 -0.160156 -4.890625 -0.046875 -4.578125 C 0.0664062 -4.265625 0.125 -3.882812 0.125 -3.4375 Z M -5.421875 -3.4375 C -5.421875 -3.269531 -5.390625 -3.113281 -5.328125 -2.96875 C -5.273438 -2.820312 -5.1875 -2.691406 -5.0625 -2.578125 C -4.9375 -2.472656 -4.773438 -2.382812 -4.578125 -2.3125 C -4.390625 -2.25 -4.160156 -2.210938 -3.890625 -2.203125 L -3.890625 -4.671875 C -4.398438 -4.640625 -4.78125 -4.515625 -5.03125 -4.296875 C -5.289062 -4.085938 -5.421875 -3.800781 -5.421875 -3.4375 Z M -5.421875 -3.4375 \"/>\n",
       "</symbol>\n",
       "<symbol overflow=\"visible\" id=\"glyph2-6\">\n",
       "<path style=\"stroke:none;\" d=\"M -1.859375 -6.1875 C -1.546875 -6.1875 -1.269531 -6.117188 -1.03125 -5.984375 C -0.789062 -5.859375 -0.582031 -5.675781 -0.40625 -5.4375 C -0.238281 -5.195312 -0.109375 -4.898438 -0.015625 -4.546875 C 0.078125 -4.191406 0.125 -3.789062 0.125 -3.34375 C 0.125 -2.945312 0.09375 -2.582031 0.03125 -2.25 C -0.03125 -1.925781 -0.128906 -1.640625 -0.265625 -1.390625 C -0.398438 -1.148438 -0.570312 -0.945312 -0.78125 -0.78125 C -1 -0.625 -1.265625 -0.503906 -1.578125 -0.421875 L -1.796875 -1.875 C -1.617188 -1.914062 -1.472656 -1.976562 -1.359375 -2.0625 C -1.253906 -2.144531 -1.171875 -2.242188 -1.109375 -2.359375 C -1.054688 -2.484375 -1.019531 -2.625 -1 -2.78125 C -0.976562 -2.945312 -0.96875 -3.132812 -0.96875 -3.34375 C -0.96875 -3.53125 -0.976562 -3.703125 -1 -3.859375 C -1.019531 -4.023438 -1.054688 -4.164062 -1.109375 -4.28125 C -1.171875 -4.40625 -1.25 -4.5 -1.34375 -4.5625 C -1.4375 -4.632812 -1.554688 -4.671875 -1.703125 -4.671875 C -1.867188 -4.671875 -2 -4.625 -2.09375 -4.53125 C -2.1875 -4.4375 -2.265625 -4.304688 -2.328125 -4.140625 C -2.390625 -3.972656 -2.441406 -3.773438 -2.484375 -3.546875 C -2.523438 -3.328125 -2.578125 -3.085938 -2.640625 -2.828125 C -2.691406 -2.566406 -2.757812 -2.304688 -2.84375 -2.046875 C -2.925781 -1.785156 -3.035156 -1.550781 -3.171875 -1.34375 C -3.316406 -1.144531 -3.5 -0.984375 -3.71875 -0.859375 C -3.9375 -0.734375 -4.210938 -0.671875 -4.546875 -0.671875 C -4.847656 -0.671875 -5.113281 -0.726562 -5.34375 -0.84375 C -5.582031 -0.96875 -5.785156 -1.140625 -5.953125 -1.359375 C -6.117188 -1.585938 -6.242188 -1.867188 -6.328125 -2.203125 C -6.421875 -2.535156 -6.46875 -2.921875 -6.46875 -3.359375 C -6.46875 -3.703125 -6.429688 -4.019531 -6.359375 -4.3125 C -6.296875 -4.613281 -6.195312 -4.878906 -6.0625 -5.109375 C -5.925781 -5.347656 -5.75 -5.546875 -5.53125 -5.703125 C -5.3125 -5.859375 -5.050781 -5.96875 -4.75 -6.03125 L -4.59375 -4.578125 C -4.75 -4.546875 -4.875 -4.492188 -4.96875 -4.421875 C -5.070312 -4.359375 -5.148438 -4.273438 -5.203125 -4.171875 C -5.265625 -4.066406 -5.304688 -3.945312 -5.328125 -3.8125 C -5.359375 -3.675781 -5.375 -3.523438 -5.375 -3.359375 C -5.375 -2.960938 -5.320312 -2.664062 -5.21875 -2.46875 C -5.113281 -2.28125 -4.945312 -2.1875 -4.71875 -2.1875 C -4.570312 -2.1875 -4.457031 -2.222656 -4.375 -2.296875 C -4.289062 -2.378906 -4.21875 -2.492188 -4.15625 -2.640625 C -4.101562 -2.785156 -4.054688 -2.957031 -4.015625 -3.15625 C -3.972656 -3.363281 -3.921875 -3.585938 -3.859375 -3.828125 C -3.796875 -4.117188 -3.722656 -4.40625 -3.640625 -4.6875 C -3.554688 -4.96875 -3.441406 -5.21875 -3.296875 -5.4375 C -3.148438 -5.664062 -2.960938 -5.847656 -2.734375 -5.984375 C -2.503906 -6.117188 -2.210938 -6.1875 -1.859375 -6.1875 Z M -1.859375 -6.1875 \"/>\n",
       "</symbol>\n",
       "<symbol overflow=\"visible\" id=\"glyph2-7\">\n",
       "<path style=\"stroke:none;\" d=\"\"/>\n",
       "</symbol>\n",
       "<symbol overflow=\"visible\" id=\"glyph2-8\">\n",
       "<path style=\"stroke:none;\" d=\"M 2.484375 -2.34375 C 2.054688 -2.039062 1.625 -1.78125 1.1875 -1.5625 C 0.757812 -1.34375 0.320312 -1.160156 -0.125 -1.015625 C -0.582031 -0.867188 -1.054688 -0.757812 -1.546875 -0.6875 C -2.035156 -0.625 -2.554688 -0.59375 -3.109375 -0.59375 C -3.671875 -0.59375 -4.191406 -0.625 -4.671875 -0.6875 C -5.160156 -0.757812 -5.628906 -0.867188 -6.078125 -1.015625 C -6.535156 -1.160156 -6.976562 -1.34375 -7.40625 -1.5625 C -7.832031 -1.78125 -8.265625 -2.039062 -8.703125 -2.34375 L -8.703125 -3.984375 C -8.242188 -3.671875 -7.789062 -3.398438 -7.34375 -3.171875 C -6.90625 -2.953125 -6.457031 -2.769531 -6 -2.625 C -5.550781 -2.488281 -5.085938 -2.382812 -4.609375 -2.3125 C -4.128906 -2.25 -3.628906 -2.21875 -3.109375 -2.21875 C -2.578125 -2.21875 -2.070312 -2.25 -1.59375 -2.3125 C -1.113281 -2.382812 -0.644531 -2.488281 -0.1875 -2.625 C 0.257812 -2.769531 0.703125 -2.953125 1.140625 -3.171875 C 1.585938 -3.398438 2.035156 -3.671875 2.484375 -3.984375 Z M 2.484375 -2.34375 \"/>\n",
       "</symbol>\n",
       "<symbol overflow=\"visible\" id=\"glyph2-9\">\n",
       "<path style=\"stroke:none;\" d=\"M 0 -4.796875 L -2.296875 -3.328125 L 0 -1.828125 L 0 -0.078125 L -3.28125 -2.40625 L -6.34375 -0.1875 L -6.34375 -1.96875 L -4.265625 -3.328125 L -6.34375 -4.671875 L -6.34375 -6.453125 L -3.296875 -4.25 L 0 -6.59375 Z M 0 -4.796875 \"/>\n",
       "</symbol>\n",
       "<symbol overflow=\"visible\" id=\"glyph2-10\">\n",
       "<path style=\"stroke:none;\" d=\"M 0 -0.75 L -1.21875 -0.75 L -1.21875 -2.796875 L -6.859375 -2.796875 L -5.625 -0.828125 L -6.921875 -0.828125 L -8.25 -2.890625 L -8.25 -4.453125 L -1.21875 -4.453125 L -1.21875 -6.34375 L 0 -6.34375 Z M 0 -0.75 \"/>\n",
       "</symbol>\n",
       "<symbol overflow=\"visible\" id=\"glyph2-11\">\n",
       "<path style=\"stroke:none;\" d=\"M -4.125 -6.1875 C -3.34375 -6.1875 -2.679688 -6.113281 -2.140625 -5.96875 C -1.597656 -5.820312 -1.160156 -5.617188 -0.828125 -5.359375 C -0.492188 -5.109375 -0.25 -4.804688 -0.09375 -4.453125 C 0.0507812 -4.109375 0.125 -3.726562 0.125 -3.3125 C 0.125 -2.894531 0.0507812 -2.507812 -0.09375 -2.15625 C -0.238281 -1.8125 -0.476562 -1.515625 -0.8125 -1.265625 C -1.144531 -1.015625 -1.582031 -0.816406 -2.125 -0.671875 C -2.664062 -0.535156 -3.332031 -0.46875 -4.125 -0.46875 C -4.957031 -0.46875 -5.644531 -0.535156 -6.1875 -0.671875 C -6.738281 -0.816406 -7.175781 -1.015625 -7.5 -1.265625 C -7.820312 -1.523438 -8.046875 -1.832031 -8.171875 -2.1875 C -8.304688 -2.539062 -8.375 -2.929688 -8.375 -3.359375 C -8.375 -3.765625 -8.304688 -4.140625 -8.171875 -4.484375 C -8.046875 -4.828125 -7.820312 -5.125 -7.5 -5.375 C -7.175781 -5.625 -6.738281 -5.820312 -6.1875 -5.96875 C -5.644531 -6.113281 -4.957031 -6.1875 -4.125 -6.1875 Z M -4.125 -4.53125 C -4.707031 -4.53125 -5.1875 -4.507812 -5.5625 -4.46875 C -5.945312 -4.425781 -6.253906 -4.359375 -6.484375 -4.265625 C -6.710938 -4.171875 -6.867188 -4.046875 -6.953125 -3.890625 C -7.046875 -3.742188 -7.09375 -3.5625 -7.09375 -3.34375 C -7.09375 -3.113281 -7.046875 -2.921875 -6.953125 -2.765625 C -6.859375 -2.609375 -6.695312 -2.484375 -6.46875 -2.390625 C -6.25 -2.296875 -5.945312 -2.226562 -5.5625 -2.1875 C -5.1875 -2.144531 -4.707031 -2.125 -4.125 -2.125 C -3.5625 -2.125 -3.085938 -2.144531 -2.703125 -2.1875 C -2.328125 -2.226562 -2.023438 -2.296875 -1.796875 -2.390625 C -1.566406 -2.484375 -1.40625 -2.601562 -1.3125 -2.75 C -1.21875 -2.90625 -1.171875 -3.097656 -1.171875 -3.328125 C -1.171875 -3.535156 -1.21875 -3.71875 -1.3125 -3.875 C -1.40625 -4.03125 -1.566406 -4.15625 -1.796875 -4.25 C -2.023438 -4.34375 -2.328125 -4.410156 -2.703125 -4.453125 C -3.085938 -4.503906 -3.5625 -4.53125 -4.125 -4.53125 Z M -4.125 -4.53125 \"/>\n",
       "</symbol>\n",
       "<symbol overflow=\"visible\" id=\"glyph2-12\">\n",
       "<path style=\"stroke:none;\" d=\"M 2.484375 -0.015625 C 2.035156 -0.328125 1.585938 -0.59375 1.140625 -0.8125 C 0.703125 -1.039062 0.257812 -1.222656 -0.1875 -1.359375 C -0.644531 -1.503906 -1.113281 -1.609375 -1.59375 -1.671875 C -2.070312 -1.742188 -2.578125 -1.78125 -3.109375 -1.78125 C -3.628906 -1.78125 -4.128906 -1.742188 -4.609375 -1.671875 C -5.085938 -1.609375 -5.550781 -1.503906 -6 -1.359375 C -6.457031 -1.222656 -6.90625 -1.039062 -7.34375 -0.8125 C -7.789062 -0.59375 -8.242188 -0.328125 -8.703125 -0.015625 L -8.703125 -1.65625 C -8.265625 -1.957031 -7.832031 -2.21875 -7.40625 -2.4375 C -6.976562 -2.65625 -6.535156 -2.832031 -6.078125 -2.96875 C -5.628906 -3.113281 -5.160156 -3.222656 -4.671875 -3.296875 C -4.191406 -3.367188 -3.671875 -3.40625 -3.109375 -3.40625 C -2.554688 -3.40625 -2.035156 -3.367188 -1.546875 -3.296875 C -1.054688 -3.222656 -0.582031 -3.113281 -0.125 -2.96875 C 0.320312 -2.832031 0.757812 -2.65625 1.1875 -2.4375 C 1.625 -2.21875 2.054688 -1.957031 2.484375 -1.65625 Z M 2.484375 -0.015625 \"/>\n",
       "</symbol>\n",
       "<symbol overflow=\"visible\" id=\"glyph3-0\">\n",
       "<path style=\"stroke:none;\" d=\"M 0.359375 0 L 0.359375 -7.328125 L 3.28125 -7.328125 L 3.28125 0 Z M 0.734375 -0.359375 L 2.921875 -0.359375 L 2.921875 -6.96875 L 0.734375 -6.96875 Z M 0.734375 -0.359375 \"/>\n",
       "</symbol>\n",
       "<symbol overflow=\"visible\" id=\"glyph3-1\">\n",
       "<path style=\"stroke:none;\" d=\"M 4.25 -6.84375 C 3.820312 -6.84375 3.441406 -6.769531 3.109375 -6.625 C 2.773438 -6.476562 2.492188 -6.273438 2.265625 -6.015625 C 2.046875 -5.753906 1.878906 -5.4375 1.765625 -5.0625 C 1.648438 -4.6875 1.59375 -4.269531 1.59375 -3.8125 C 1.59375 -3.363281 1.65625 -2.945312 1.78125 -2.5625 C 1.90625 -2.1875 2.082031 -1.863281 2.3125 -1.59375 C 2.550781 -1.320312 2.835938 -1.109375 3.171875 -0.953125 C 3.503906 -0.804688 3.878906 -0.734375 4.296875 -0.734375 C 4.585938 -0.734375 4.851562 -0.769531 5.09375 -0.84375 C 5.34375 -0.925781 5.5625 -1.035156 5.75 -1.171875 C 5.945312 -1.316406 6.125 -1.484375 6.28125 -1.671875 C 6.4375 -1.859375 6.570312 -2.070312 6.6875 -2.3125 L 7.53125 -1.890625 C 7.394531 -1.609375 7.222656 -1.34375 7.015625 -1.09375 C 6.816406 -0.851562 6.582031 -0.644531 6.3125 -0.46875 C 6.039062 -0.289062 5.734375 -0.148438 5.390625 -0.046875 C 5.046875 0.0546875 4.664062 0.109375 4.25 0.109375 C 3.632812 0.109375 3.097656 0.0078125 2.640625 -0.1875 C 2.179688 -0.382812 1.796875 -0.65625 1.484375 -1 C 1.171875 -1.351562 0.9375 -1.769531 0.78125 -2.25 C 0.632812 -2.726562 0.5625 -3.25 0.5625 -3.8125 C 0.5625 -4.40625 0.640625 -4.941406 0.796875 -5.421875 C 0.960938 -5.898438 1.203125 -6.304688 1.515625 -6.640625 C 1.828125 -6.972656 2.210938 -7.226562 2.671875 -7.40625 C 3.128906 -7.59375 3.65625 -7.6875 4.25 -7.6875 C 5.050781 -7.6875 5.722656 -7.523438 6.265625 -7.203125 C 6.804688 -6.890625 7.203125 -6.425781 7.453125 -5.8125 L 6.484375 -5.484375 C 6.410156 -5.660156 6.3125 -5.828125 6.1875 -5.984375 C 6.070312 -6.148438 5.921875 -6.296875 5.734375 -6.421875 C 5.554688 -6.554688 5.34375 -6.660156 5.09375 -6.734375 C 4.851562 -6.804688 4.570312 -6.84375 4.25 -6.84375 Z M 4.25 -6.84375 \"/>\n",
       "</symbol>\n",
       "<symbol overflow=\"visible\" id=\"glyph3-2\">\n",
       "<path style=\"stroke:none;\" d=\"M 0.765625 0 L 0.765625 -4.453125 C 0.765625 -4.578125 0.757812 -4.703125 0.75 -4.828125 C 0.75 -4.953125 0.75 -5.070312 0.75 -5.1875 C 0.75 -5.3125 0.742188 -5.425781 0.734375 -5.53125 C 0.734375 -5.632812 0.734375 -5.726562 0.734375 -5.8125 L 1.640625 -5.8125 C 1.648438 -5.726562 1.65625 -5.632812 1.65625 -5.53125 C 1.664062 -5.425781 1.671875 -5.316406 1.671875 -5.203125 C 1.679688 -5.085938 1.6875 -4.976562 1.6875 -4.875 C 1.6875 -4.78125 1.6875 -4.695312 1.6875 -4.625 L 1.703125 -4.625 C 1.773438 -4.84375 1.847656 -5.035156 1.921875 -5.203125 C 2.003906 -5.367188 2.097656 -5.503906 2.203125 -5.609375 C 2.304688 -5.710938 2.425781 -5.789062 2.5625 -5.84375 C 2.707031 -5.894531 2.882812 -5.921875 3.09375 -5.921875 C 3.164062 -5.921875 3.238281 -5.910156 3.3125 -5.890625 C 3.382812 -5.878906 3.441406 -5.867188 3.484375 -5.859375 L 3.484375 -4.984375 C 3.421875 -4.992188 3.34375 -5.003906 3.25 -5.015625 C 3.164062 -5.023438 3.070312 -5.03125 2.96875 -5.03125 C 2.738281 -5.03125 2.546875 -4.976562 2.390625 -4.875 C 2.242188 -4.78125 2.117188 -4.644531 2.015625 -4.46875 C 1.921875 -4.289062 1.847656 -4.078125 1.796875 -3.828125 C 1.753906 -3.585938 1.734375 -3.320312 1.734375 -3.03125 L 1.734375 0 Z M 0.765625 0 \"/>\n",
       "</symbol>\n",
       "<symbol overflow=\"visible\" id=\"glyph3-3\">\n",
       "<path style=\"stroke:none;\" d=\"M 0.734375 -7.046875 L 0.734375 -7.96875 L 1.703125 -7.96875 L 1.703125 -7.046875 Z M 0.734375 0 L 0.734375 -5.8125 L 1.703125 -5.8125 L 1.703125 0 Z M 0.734375 0 \"/>\n",
       "</symbol>\n",
       "<symbol overflow=\"visible\" id=\"glyph3-4\">\n",
       "<path style=\"stroke:none;\" d=\"M 4.125 0 L 4.125 -3.6875 C 4.125 -3.96875 4.101562 -4.203125 4.0625 -4.390625 C 4.03125 -4.578125 3.972656 -4.726562 3.890625 -4.84375 C 3.804688 -4.96875 3.695312 -5.050781 3.5625 -5.09375 C 3.425781 -5.144531 3.257812 -5.171875 3.0625 -5.171875 C 2.851562 -5.171875 2.664062 -5.128906 2.5 -5.046875 C 2.34375 -4.972656 2.203125 -4.859375 2.078125 -4.703125 C 1.960938 -4.546875 1.875 -4.351562 1.8125 -4.125 C 1.75 -3.90625 1.71875 -3.65625 1.71875 -3.375 L 1.71875 0 L 0.765625 0 L 0.765625 -4.578125 C 0.765625 -4.691406 0.757812 -4.816406 0.75 -4.953125 C 0.75 -5.085938 0.75 -5.210938 0.75 -5.328125 C 0.75 -5.453125 0.742188 -5.554688 0.734375 -5.640625 C 0.734375 -5.734375 0.734375 -5.789062 0.734375 -5.8125 L 1.640625 -5.8125 C 1.648438 -5.789062 1.65625 -5.738281 1.65625 -5.65625 C 1.65625 -5.582031 1.65625 -5.492188 1.65625 -5.390625 C 1.664062 -5.296875 1.671875 -5.191406 1.671875 -5.078125 C 1.679688 -4.972656 1.6875 -4.882812 1.6875 -4.8125 L 1.703125 -4.8125 C 1.785156 -4.988281 1.875 -5.144531 1.96875 -5.28125 C 2.070312 -5.414062 2.191406 -5.53125 2.328125 -5.625 C 2.460938 -5.71875 2.617188 -5.789062 2.796875 -5.84375 C 2.972656 -5.894531 3.175781 -5.921875 3.40625 -5.921875 C 3.84375 -5.921875 4.1875 -5.832031 4.4375 -5.65625 C 4.695312 -5.476562 4.878906 -5.195312 4.984375 -4.8125 L 5 -4.8125 C 5.082031 -4.988281 5.175781 -5.144531 5.28125 -5.28125 C 5.394531 -5.414062 5.519531 -5.53125 5.65625 -5.625 C 5.800781 -5.71875 5.960938 -5.789062 6.140625 -5.84375 C 6.316406 -5.894531 6.519531 -5.921875 6.75 -5.921875 C 7.050781 -5.921875 7.304688 -5.878906 7.515625 -5.796875 C 7.734375 -5.722656 7.910156 -5.601562 8.046875 -5.4375 C 8.179688 -5.269531 8.28125 -5.054688 8.34375 -4.796875 C 8.40625 -4.535156 8.4375 -4.226562 8.4375 -3.875 L 8.4375 0 L 7.484375 0 L 7.484375 -3.6875 C 7.484375 -3.96875 7.460938 -4.203125 7.421875 -4.390625 C 7.390625 -4.578125 7.332031 -4.726562 7.25 -4.84375 C 7.164062 -4.96875 7.054688 -5.050781 6.921875 -5.09375 C 6.785156 -5.144531 6.617188 -5.171875 6.421875 -5.171875 C 6.210938 -5.171875 6.023438 -5.128906 5.859375 -5.046875 C 5.703125 -4.972656 5.5625 -4.859375 5.4375 -4.703125 C 5.320312 -4.554688 5.234375 -4.367188 5.171875 -4.140625 C 5.109375 -3.921875 5.078125 -3.664062 5.078125 -3.375 L 5.078125 0 Z M 4.125 0 \"/>\n",
       "</symbol>\n",
       "<symbol overflow=\"visible\" id=\"glyph3-5\">\n",
       "<path style=\"stroke:none;\" d=\"M 1.484375 -2.703125 C 1.484375 -2.398438 1.515625 -2.117188 1.578125 -1.859375 C 1.640625 -1.609375 1.734375 -1.390625 1.859375 -1.203125 C 1.992188 -1.015625 2.160156 -0.867188 2.359375 -0.765625 C 2.566406 -0.671875 2.816406 -0.625 3.109375 -0.625 C 3.523438 -0.625 3.859375 -0.707031 4.109375 -0.875 C 4.359375 -1.039062 4.53125 -1.253906 4.625 -1.515625 L 5.46875 -1.265625 C 5.40625 -1.109375 5.316406 -0.945312 5.203125 -0.78125 C 5.097656 -0.613281 4.953125 -0.460938 4.765625 -0.328125 C 4.585938 -0.203125 4.363281 -0.0976562 4.09375 -0.015625 C 3.820312 0.0664062 3.492188 0.109375 3.109375 0.109375 C 2.242188 0.109375 1.585938 -0.144531 1.140625 -0.65625 C 0.691406 -1.164062 0.46875 -1.925781 0.46875 -2.9375 C 0.46875 -3.488281 0.535156 -3.953125 0.671875 -4.328125 C 0.804688 -4.703125 0.988281 -5.007812 1.21875 -5.25 C 1.457031 -5.488281 1.734375 -5.660156 2.046875 -5.765625 C 2.367188 -5.867188 2.707031 -5.921875 3.0625 -5.921875 C 3.550781 -5.921875 3.957031 -5.84375 4.28125 -5.6875 C 4.613281 -5.53125 4.878906 -5.3125 5.078125 -5.03125 C 5.273438 -4.75 5.414062 -4.421875 5.5 -4.046875 C 5.582031 -3.671875 5.625 -3.265625 5.625 -2.828125 L 5.625 -2.703125 Z M 4.625 -3.4375 C 4.570312 -4.050781 4.414062 -4.5 4.15625 -4.78125 C 3.90625 -5.0625 3.535156 -5.203125 3.046875 -5.203125 C 2.890625 -5.203125 2.722656 -5.175781 2.546875 -5.125 C 2.367188 -5.070312 2.203125 -4.976562 2.046875 -4.84375 C 1.898438 -4.71875 1.773438 -4.539062 1.671875 -4.3125 C 1.566406 -4.082031 1.507812 -3.789062 1.5 -3.4375 Z M 4.625 -3.4375 \"/>\n",
       "</symbol>\n",
       "<symbol overflow=\"visible\" id=\"glyph3-6\">\n",
       "<path style=\"stroke:none;\" d=\"\"/>\n",
       "</symbol>\n",
       "<symbol overflow=\"visible\" id=\"glyph3-7\">\n",
       "<path style=\"stroke:none;\" d=\"M 3.875 -6.734375 L 3.875 0 L 2.84375 0 L 2.84375 -6.734375 L 0.25 -6.734375 L 0.25 -7.5625 L 6.46875 -7.5625 L 6.46875 -6.734375 Z M 3.875 -6.734375 \"/>\n",
       "</symbol>\n",
       "<symbol overflow=\"visible\" id=\"glyph3-8\">\n",
       "<path style=\"stroke:none;\" d=\"M 3.25 0 C 3.113281 0.351562 2.972656 0.671875 2.828125 0.953125 C 2.679688 1.234375 2.519531 1.472656 2.34375 1.671875 C 2.175781 1.867188 1.984375 2.019531 1.765625 2.125 C 1.546875 2.226562 1.300781 2.28125 1.03125 2.28125 C 0.90625 2.28125 0.789062 2.273438 0.6875 2.265625 C 0.582031 2.265625 0.472656 2.25 0.359375 2.21875 L 0.359375 1.5 C 0.429688 1.507812 0.507812 1.515625 0.59375 1.515625 C 0.675781 1.523438 0.75 1.53125 0.8125 1.53125 C 1.09375 1.53125 1.351562 1.421875 1.59375 1.203125 C 1.84375 0.992188 2.054688 0.660156 2.234375 0.203125 L 2.328125 -0.03125 L 0.03125 -5.8125 L 1.0625 -5.8125 L 2.28125 -2.59375 C 2.320312 -2.5 2.367188 -2.367188 2.421875 -2.203125 C 2.472656 -2.046875 2.523438 -1.882812 2.578125 -1.71875 C 2.640625 -1.5625 2.691406 -1.414062 2.734375 -1.28125 C 2.773438 -1.15625 2.800781 -1.078125 2.8125 -1.046875 C 2.820312 -1.085938 2.847656 -1.164062 2.890625 -1.28125 C 2.929688 -1.40625 2.976562 -1.535156 3.03125 -1.671875 C 3.082031 -1.816406 3.132812 -1.960938 3.1875 -2.109375 C 3.238281 -2.253906 3.28125 -2.382812 3.3125 -2.5 L 4.453125 -5.8125 L 5.484375 -5.8125 Z M 3.25 0 \"/>\n",
       "</symbol>\n",
       "<symbol overflow=\"visible\" id=\"glyph3-9\">\n",
       "<path style=\"stroke:none;\" d=\"M 5.65625 -2.9375 C 5.65625 -2.488281 5.617188 -2.078125 5.546875 -1.703125 C 5.472656 -1.335938 5.351562 -1.019531 5.1875 -0.75 C 5.019531 -0.476562 4.800781 -0.265625 4.53125 -0.109375 C 4.257812 0.0351562 3.921875 0.109375 3.515625 0.109375 C 3.097656 0.109375 2.734375 0.03125 2.421875 -0.125 C 2.109375 -0.28125 1.875 -0.539062 1.71875 -0.90625 L 1.6875 -0.90625 C 1.6875 -0.894531 1.6875 -0.859375 1.6875 -0.796875 C 1.695312 -0.742188 1.703125 -0.675781 1.703125 -0.59375 C 1.703125 -0.507812 1.703125 -0.410156 1.703125 -0.296875 C 1.703125 -0.191406 1.703125 -0.0859375 1.703125 0.015625 L 1.703125 2.28125 L 0.734375 2.28125 L 0.734375 -4.625 C 0.734375 -4.757812 0.734375 -4.890625 0.734375 -5.015625 C 0.734375 -5.148438 0.726562 -5.269531 0.71875 -5.375 C 0.71875 -5.476562 0.71875 -5.566406 0.71875 -5.640625 C 0.71875 -5.722656 0.710938 -5.78125 0.703125 -5.8125 L 1.640625 -5.8125 C 1.648438 -5.800781 1.65625 -5.765625 1.65625 -5.703125 C 1.664062 -5.640625 1.671875 -5.5625 1.671875 -5.46875 C 1.679688 -5.375 1.6875 -5.273438 1.6875 -5.171875 C 1.695312 -5.066406 1.703125 -4.96875 1.703125 -4.875 L 1.71875 -4.875 C 1.8125 -5.0625 1.914062 -5.21875 2.03125 -5.34375 C 2.144531 -5.476562 2.273438 -5.585938 2.421875 -5.671875 C 2.566406 -5.753906 2.726562 -5.8125 2.90625 -5.84375 C 3.09375 -5.882812 3.296875 -5.90625 3.515625 -5.90625 C 3.921875 -5.90625 4.257812 -5.832031 4.53125 -5.6875 C 4.800781 -5.550781 5.019531 -5.351562 5.1875 -5.09375 C 5.351562 -4.832031 5.472656 -4.519531 5.546875 -4.15625 C 5.617188 -3.789062 5.65625 -3.382812 5.65625 -2.9375 Z M 4.640625 -2.90625 C 4.640625 -3.269531 4.617188 -3.585938 4.578125 -3.859375 C 4.535156 -4.140625 4.457031 -4.375 4.34375 -4.5625 C 4.238281 -4.757812 4.097656 -4.910156 3.921875 -5.015625 C 3.753906 -5.117188 3.535156 -5.171875 3.265625 -5.171875 C 3.054688 -5.171875 2.851562 -5.140625 2.65625 -5.078125 C 2.46875 -5.015625 2.300781 -4.894531 2.15625 -4.71875 C 2.019531 -4.550781 1.910156 -4.316406 1.828125 -4.015625 C 1.742188 -3.710938 1.703125 -3.320312 1.703125 -2.84375 C 1.703125 -2.425781 1.734375 -2.070312 1.796875 -1.78125 C 1.867188 -1.5 1.96875 -1.269531 2.09375 -1.09375 C 2.226562 -0.925781 2.394531 -0.800781 2.59375 -0.71875 C 2.789062 -0.644531 3.015625 -0.609375 3.265625 -0.609375 C 3.523438 -0.609375 3.742188 -0.660156 3.921875 -0.765625 C 4.097656 -0.867188 4.238281 -1.019531 4.34375 -1.21875 C 4.457031 -1.414062 4.535156 -1.65625 4.578125 -1.9375 C 4.617188 -2.21875 4.640625 -2.539062 4.640625 -2.90625 Z M 4.640625 -2.90625 \"/>\n",
       "</symbol>\n",
       "<symbol overflow=\"visible\" id=\"glyph4-0\">\n",
       "<path style=\"stroke:none;\" d=\"M 0.296875 0 L 0.296875 -5.859375 L 2.625 -5.859375 L 2.625 0 Z M 0.578125 -0.296875 L 2.34375 -0.296875 L 2.34375 -5.578125 L 0.578125 -5.578125 Z M 0.578125 -0.296875 \"/>\n",
       "</symbol>\n",
       "<symbol overflow=\"visible\" id=\"glyph4-1\">\n",
       "<path style=\"stroke:none;\" d=\"M 5.015625 0 L 4.328125 -1.765625 L 1.5625 -1.765625 L 0.875 0 L 0.015625 0 L 2.484375 -6.046875 L 3.421875 -6.046875 L 5.84375 0 Z M 3.296875 -4.40625 C 3.253906 -4.519531 3.210938 -4.632812 3.171875 -4.75 C 3.128906 -4.875 3.09375 -4.984375 3.0625 -5.078125 C 3.03125 -5.171875 3.003906 -5.25 2.984375 -5.3125 C 2.960938 -5.375 2.945312 -5.414062 2.9375 -5.4375 C 2.9375 -5.414062 2.925781 -5.375 2.90625 -5.3125 C 2.882812 -5.25 2.859375 -5.164062 2.828125 -5.0625 C 2.796875 -4.96875 2.757812 -4.859375 2.71875 -4.734375 C 2.675781 -4.617188 2.628906 -4.507812 2.578125 -4.40625 L 1.8125 -2.40625 L 4.078125 -2.40625 Z M 3.296875 -4.40625 \"/>\n",
       "</symbol>\n",
       "<symbol overflow=\"visible\" id=\"glyph4-2\">\n",
       "<path style=\"stroke:none;\" d=\"M 0.59375 0 L 0.59375 -6.375 L 1.359375 -6.375 L 1.359375 0 Z M 0.59375 0 \"/>\n",
       "</symbol>\n",
       "<symbol overflow=\"visible\" id=\"glyph4-3\">\n",
       "<path style=\"stroke:none;\" d=\"\"/>\n",
       "</symbol>\n",
       "<symbol overflow=\"visible\" id=\"glyph4-4\">\n",
       "<path style=\"stroke:none;\" d=\"M 3.40625 -5.46875 C 3.0625 -5.46875 2.753906 -5.410156 2.484375 -5.296875 C 2.222656 -5.179688 2.003906 -5.019531 1.828125 -4.8125 C 1.648438 -4.601562 1.515625 -4.347656 1.421875 -4.046875 C 1.328125 -3.742188 1.28125 -3.410156 1.28125 -3.046875 C 1.28125 -2.691406 1.328125 -2.363281 1.421875 -2.0625 C 1.523438 -1.757812 1.664062 -1.5 1.84375 -1.28125 C 2.03125 -1.0625 2.257812 -0.890625 2.53125 -0.765625 C 2.800781 -0.648438 3.101562 -0.59375 3.4375 -0.59375 C 3.664062 -0.59375 3.878906 -0.617188 4.078125 -0.671875 C 4.273438 -0.734375 4.453125 -0.820312 4.609375 -0.9375 C 4.765625 -1.050781 4.898438 -1.179688 5.015625 -1.328125 C 5.140625 -1.484375 5.25 -1.65625 5.34375 -1.84375 L 6.015625 -1.515625 C 5.910156 -1.285156 5.773438 -1.070312 5.609375 -0.875 C 5.453125 -0.6875 5.265625 -0.519531 5.046875 -0.375 C 4.828125 -0.226562 4.582031 -0.113281 4.3125 -0.03125 C 4.039062 0.0390625 3.734375 0.078125 3.390625 0.078125 C 2.898438 0.078125 2.472656 0.00390625 2.109375 -0.140625 C 1.742188 -0.296875 1.4375 -0.515625 1.1875 -0.796875 C 0.9375 -1.078125 0.75 -1.410156 0.625 -1.796875 C 0.507812 -2.179688 0.453125 -2.597656 0.453125 -3.046875 C 0.453125 -3.523438 0.515625 -3.953125 0.640625 -4.328125 C 0.773438 -4.710938 0.96875 -5.035156 1.21875 -5.296875 C 1.46875 -5.566406 1.773438 -5.773438 2.140625 -5.921875 C 2.503906 -6.066406 2.921875 -6.140625 3.390625 -6.140625 C 4.035156 -6.140625 4.570312 -6.015625 5 -5.765625 C 5.4375 -5.515625 5.757812 -5.140625 5.96875 -4.640625 L 5.1875 -4.390625 C 5.125 -4.523438 5.046875 -4.65625 4.953125 -4.78125 C 4.859375 -4.914062 4.738281 -5.035156 4.59375 -5.140625 C 4.445312 -5.242188 4.273438 -5.320312 4.078125 -5.375 C 3.878906 -5.4375 3.65625 -5.46875 3.40625 -5.46875 Z M 3.40625 -5.46875 \"/>\n",
       "</symbol>\n",
       "<symbol overflow=\"visible\" id=\"glyph4-5\">\n",
       "<path style=\"stroke:none;\" d=\"M 0.609375 0 L 0.609375 -3.5625 C 0.609375 -3.664062 0.609375 -3.765625 0.609375 -3.859375 C 0.609375 -3.960938 0.601562 -4.0625 0.59375 -4.15625 C 0.59375 -4.25 0.59375 -4.335938 0.59375 -4.421875 C 0.59375 -4.503906 0.585938 -4.578125 0.578125 -4.640625 L 1.3125 -4.640625 C 1.3125 -4.578125 1.3125 -4.503906 1.3125 -4.421875 C 1.320312 -4.335938 1.328125 -4.25 1.328125 -4.15625 C 1.335938 -4.070312 1.34375 -3.988281 1.34375 -3.90625 C 1.34375 -3.820312 1.34375 -3.753906 1.34375 -3.703125 L 1.359375 -3.703125 C 1.421875 -3.878906 1.476562 -4.03125 1.53125 -4.15625 C 1.59375 -4.289062 1.664062 -4.398438 1.75 -4.484375 C 1.832031 -4.566406 1.929688 -4.628906 2.046875 -4.671875 C 2.160156 -4.710938 2.300781 -4.734375 2.46875 -4.734375 C 2.53125 -4.734375 2.585938 -4.726562 2.640625 -4.71875 C 2.703125 -4.707031 2.75 -4.695312 2.78125 -4.6875 L 2.78125 -3.984375 C 2.726562 -3.992188 2.664062 -4.003906 2.59375 -4.015625 C 2.53125 -4.023438 2.457031 -4.03125 2.375 -4.03125 C 2.195312 -4.03125 2.046875 -3.988281 1.921875 -3.90625 C 1.796875 -3.820312 1.691406 -3.707031 1.609375 -3.5625 C 1.535156 -3.425781 1.476562 -3.257812 1.4375 -3.0625 C 1.40625 -2.863281 1.390625 -2.648438 1.390625 -2.421875 L 1.390625 0 Z M 0.609375 0 \"/>\n",
       "</symbol>\n",
       "<symbol overflow=\"visible\" id=\"glyph4-6\">\n",
       "<path style=\"stroke:none;\" d=\"M 0.59375 -5.640625 L 0.59375 -6.375 L 1.359375 -6.375 L 1.359375 -5.640625 Z M 0.59375 0 L 0.59375 -4.640625 L 1.359375 -4.640625 L 1.359375 0 Z M 0.59375 0 \"/>\n",
       "</symbol>\n",
       "<symbol overflow=\"visible\" id=\"glyph4-7\">\n",
       "<path style=\"stroke:none;\" d=\"M 3.296875 0 L 3.296875 -2.953125 C 3.296875 -3.171875 3.28125 -3.351562 3.25 -3.5 C 3.226562 -3.65625 3.179688 -3.78125 3.109375 -3.875 C 3.046875 -3.96875 2.957031 -4.035156 2.84375 -4.078125 C 2.738281 -4.117188 2.609375 -4.140625 2.453125 -4.140625 C 2.285156 -4.140625 2.132812 -4.101562 2 -4.03125 C 1.875 -3.96875 1.765625 -3.875 1.671875 -3.75 C 1.578125 -3.632812 1.503906 -3.488281 1.453125 -3.3125 C 1.398438 -3.132812 1.375 -2.925781 1.375 -2.6875 L 1.375 0 L 0.609375 0 L 0.609375 -3.65625 C 0.609375 -3.75 0.609375 -3.847656 0.609375 -3.953125 C 0.609375 -4.066406 0.601562 -4.171875 0.59375 -4.265625 C 0.59375 -4.359375 0.59375 -4.441406 0.59375 -4.515625 C 0.59375 -4.585938 0.585938 -4.628906 0.578125 -4.640625 L 1.3125 -4.640625 C 1.3125 -4.628906 1.3125 -4.59375 1.3125 -4.53125 C 1.320312 -4.46875 1.328125 -4.394531 1.328125 -4.3125 C 1.335938 -4.226562 1.34375 -4.144531 1.34375 -4.0625 C 1.34375 -3.976562 1.34375 -3.910156 1.34375 -3.859375 L 1.359375 -3.859375 C 1.429688 -3.992188 1.503906 -4.113281 1.578125 -4.21875 C 1.660156 -4.320312 1.753906 -4.410156 1.859375 -4.484375 C 1.972656 -4.566406 2.097656 -4.628906 2.234375 -4.671875 C 2.367188 -4.710938 2.53125 -4.734375 2.71875 -4.734375 C 3.070312 -4.734375 3.347656 -4.660156 3.546875 -4.515625 C 3.753906 -4.378906 3.898438 -4.160156 3.984375 -3.859375 L 4 -3.859375 C 4.0625 -3.992188 4.132812 -4.113281 4.21875 -4.21875 C 4.3125 -4.320312 4.414062 -4.410156 4.53125 -4.484375 C 4.644531 -4.566406 4.769531 -4.628906 4.90625 -4.671875 C 5.050781 -4.710938 5.21875 -4.734375 5.40625 -4.734375 C 5.632812 -4.734375 5.832031 -4.703125 6 -4.640625 C 6.175781 -4.578125 6.316406 -4.476562 6.421875 -4.34375 C 6.535156 -4.21875 6.617188 -4.050781 6.671875 -3.84375 C 6.722656 -3.632812 6.75 -3.382812 6.75 -3.09375 L 6.75 0 L 5.984375 0 L 5.984375 -2.953125 C 5.984375 -3.171875 5.96875 -3.351562 5.9375 -3.5 C 5.90625 -3.65625 5.859375 -3.78125 5.796875 -3.875 C 5.734375 -3.96875 5.644531 -4.035156 5.53125 -4.078125 C 5.425781 -4.117188 5.296875 -4.140625 5.140625 -4.140625 C 4.972656 -4.140625 4.820312 -4.109375 4.6875 -4.046875 C 4.5625 -3.984375 4.453125 -3.890625 4.359375 -3.765625 C 4.265625 -3.648438 4.191406 -3.5 4.140625 -3.3125 C 4.085938 -3.132812 4.0625 -2.925781 4.0625 -2.6875 L 4.0625 0 Z M 3.296875 0 \"/>\n",
       "</symbol>\n",
       "<symbol overflow=\"visible\" id=\"glyph4-8\">\n",
       "<path style=\"stroke:none;\" d=\"M 1.1875 -2.15625 C 1.1875 -1.914062 1.207031 -1.691406 1.25 -1.484375 C 1.300781 -1.285156 1.378906 -1.109375 1.484375 -0.953125 C 1.597656 -0.804688 1.734375 -0.691406 1.890625 -0.609375 C 2.054688 -0.535156 2.253906 -0.5 2.484375 -0.5 C 2.816406 -0.5 3.082031 -0.5625 3.28125 -0.6875 C 3.488281 -0.820312 3.628906 -0.992188 3.703125 -1.203125 L 4.375 -1.015625 C 4.320312 -0.890625 4.253906 -0.757812 4.171875 -0.625 C 4.085938 -0.488281 3.972656 -0.367188 3.828125 -0.265625 C 3.679688 -0.160156 3.5 -0.078125 3.28125 -0.015625 C 3.0625 0.046875 2.796875 0.078125 2.484375 0.078125 C 1.796875 0.078125 1.269531 -0.125 0.90625 -0.53125 C 0.550781 -0.9375 0.375 -1.546875 0.375 -2.359375 C 0.375 -2.785156 0.425781 -3.148438 0.53125 -3.453125 C 0.644531 -3.753906 0.796875 -4 0.984375 -4.1875 C 1.171875 -4.382812 1.390625 -4.523438 1.640625 -4.609375 C 1.890625 -4.691406 2.160156 -4.734375 2.453125 -4.734375 C 2.835938 -4.734375 3.160156 -4.671875 3.421875 -4.546875 C 3.691406 -4.421875 3.90625 -4.242188 4.0625 -4.015625 C 4.21875 -3.796875 4.328125 -3.535156 4.390625 -3.234375 C 4.460938 -2.929688 4.5 -2.609375 4.5 -2.265625 L 4.5 -2.15625 Z M 3.703125 -2.75 C 3.660156 -3.238281 3.535156 -3.59375 3.328125 -3.8125 C 3.117188 -4.039062 2.820312 -4.15625 2.4375 -4.15625 C 2.3125 -4.15625 2.175781 -4.132812 2.03125 -4.09375 C 1.894531 -4.050781 1.765625 -3.976562 1.640625 -3.875 C 1.515625 -3.769531 1.410156 -3.625 1.328125 -3.4375 C 1.253906 -3.257812 1.207031 -3.03125 1.1875 -2.75 Z M 3.703125 -2.75 \"/>\n",
       "</symbol>\n",
       "<symbol overflow=\"visible\" id=\"glyph4-9\">\n",
       "<path style=\"stroke:none;\" d=\"M 4.078125 -1.28125 C 4.078125 -1.0625 4.035156 -0.867188 3.953125 -0.703125 C 3.867188 -0.535156 3.742188 -0.390625 3.578125 -0.265625 C 3.421875 -0.148438 3.222656 -0.0625 2.984375 0 C 2.753906 0.0507812 2.488281 0.078125 2.1875 0.078125 C 1.925781 0.078125 1.6875 0.0546875 1.46875 0.015625 C 1.25 -0.015625 1.054688 -0.078125 0.890625 -0.171875 C 0.734375 -0.265625 0.597656 -0.382812 0.484375 -0.53125 C 0.378906 -0.6875 0.300781 -0.875 0.25 -1.09375 L 0.921875 -1.21875 C 0.992188 -0.96875 1.128906 -0.785156 1.328125 -0.671875 C 1.535156 -0.554688 1.820312 -0.5 2.1875 -0.5 C 2.351562 -0.5 2.503906 -0.507812 2.640625 -0.53125 C 2.785156 -0.5625 2.90625 -0.601562 3 -0.65625 C 3.101562 -0.707031 3.179688 -0.78125 3.234375 -0.875 C 3.296875 -0.96875 3.328125 -1.082031 3.328125 -1.21875 C 3.328125 -1.363281 3.289062 -1.476562 3.21875 -1.5625 C 3.15625 -1.65625 3.066406 -1.734375 2.953125 -1.796875 C 2.835938 -1.859375 2.695312 -1.910156 2.53125 -1.953125 C 2.363281 -1.992188 2.175781 -2.039062 1.96875 -2.09375 C 1.789062 -2.144531 1.609375 -2.203125 1.421875 -2.265625 C 1.234375 -2.328125 1.066406 -2.40625 0.921875 -2.5 C 0.773438 -2.601562 0.65625 -2.726562 0.5625 -2.875 C 0.46875 -3.019531 0.421875 -3.203125 0.421875 -3.421875 C 0.421875 -3.847656 0.570312 -4.171875 0.875 -4.390625 C 1.175781 -4.609375 1.617188 -4.71875 2.203125 -4.71875 C 2.710938 -4.71875 3.117188 -4.625 3.421875 -4.4375 C 3.722656 -4.257812 3.914062 -3.972656 4 -3.578125 L 3.296875 -3.5 C 3.273438 -3.613281 3.226562 -3.710938 3.15625 -3.796875 C 3.09375 -3.878906 3.007812 -3.945312 2.90625 -4 C 2.8125 -4.050781 2.703125 -4.085938 2.578125 -4.109375 C 2.460938 -4.128906 2.335938 -4.140625 2.203125 -4.140625 C 1.847656 -4.140625 1.585938 -4.082031 1.421875 -3.96875 C 1.265625 -3.863281 1.1875 -3.707031 1.1875 -3.5 C 1.1875 -3.375 1.210938 -3.269531 1.265625 -3.1875 C 1.328125 -3.101562 1.414062 -3.03125 1.53125 -2.96875 C 1.644531 -2.914062 1.773438 -2.867188 1.921875 -2.828125 C 2.078125 -2.785156 2.25 -2.742188 2.4375 -2.703125 C 2.5625 -2.671875 2.6875 -2.632812 2.8125 -2.59375 C 2.945312 -2.5625 3.070312 -2.519531 3.1875 -2.46875 C 3.3125 -2.414062 3.425781 -2.351562 3.53125 -2.28125 C 3.644531 -2.21875 3.738281 -2.140625 3.8125 -2.046875 C 3.894531 -1.953125 3.957031 -1.84375 4 -1.71875 C 4.050781 -1.59375 4.078125 -1.445312 4.078125 -1.28125 Z M 4.078125 -1.28125 \"/>\n",
       "</symbol>\n",
       "<symbol overflow=\"visible\" id=\"glyph4-10\">\n",
       "<path style=\"stroke:none;\" d=\"M 5.40625 -1.703125 C 5.40625 -1.398438 5.34375 -1.140625 5.21875 -0.921875 C 5.101562 -0.703125 4.941406 -0.523438 4.734375 -0.390625 C 4.535156 -0.253906 4.300781 -0.15625 4.03125 -0.09375 C 3.757812 -0.03125 3.472656 0 3.171875 0 L 0.71875 0 L 0.71875 -6.046875 L 2.921875 -6.046875 C 3.253906 -6.046875 3.550781 -6.019531 3.8125 -5.96875 C 4.082031 -5.914062 4.304688 -5.828125 4.484375 -5.703125 C 4.671875 -5.585938 4.8125 -5.4375 4.90625 -5.25 C 5 -5.0625 5.046875 -4.835938 5.046875 -4.578125 C 5.046875 -4.410156 5.019531 -4.253906 4.96875 -4.109375 C 4.925781 -3.960938 4.859375 -3.828125 4.765625 -3.703125 C 4.671875 -3.578125 4.550781 -3.46875 4.40625 -3.375 C 4.257812 -3.289062 4.09375 -3.226562 3.90625 -3.1875 C 4.144531 -3.164062 4.359375 -3.113281 4.546875 -3.03125 C 4.734375 -2.945312 4.890625 -2.835938 5.015625 -2.703125 C 5.140625 -2.578125 5.234375 -2.425781 5.296875 -2.25 C 5.367188 -2.082031 5.40625 -1.898438 5.40625 -1.703125 Z M 4.234375 -4.484375 C 4.234375 -4.804688 4.117188 -5.035156 3.890625 -5.171875 C 3.671875 -5.316406 3.347656 -5.390625 2.921875 -5.390625 L 1.546875 -5.390625 L 1.546875 -3.484375 L 2.921875 -3.484375 C 3.160156 -3.484375 3.363281 -3.503906 3.53125 -3.546875 C 3.695312 -3.597656 3.832031 -3.664062 3.9375 -3.75 C 4.039062 -3.84375 4.113281 -3.945312 4.15625 -4.0625 C 4.207031 -4.1875 4.234375 -4.328125 4.234375 -4.484375 Z M 4.578125 -1.765625 C 4.578125 -1.960938 4.539062 -2.128906 4.46875 -2.265625 C 4.394531 -2.398438 4.289062 -2.507812 4.15625 -2.59375 C 4.03125 -2.675781 3.875 -2.738281 3.6875 -2.78125 C 3.507812 -2.820312 3.304688 -2.84375 3.078125 -2.84375 L 1.546875 -2.84375 L 1.546875 -0.65625 L 3.140625 -0.65625 C 3.347656 -0.65625 3.539062 -0.671875 3.71875 -0.703125 C 3.894531 -0.742188 4.046875 -0.804688 4.171875 -0.890625 C 4.296875 -0.972656 4.394531 -1.085938 4.46875 -1.234375 C 4.539062 -1.378906 4.578125 -1.554688 4.578125 -1.765625 Z M 4.578125 -1.765625 \"/>\n",
       "</symbol>\n",
       "<symbol overflow=\"visible\" id=\"glyph4-11\">\n",
       "<path style=\"stroke:none;\" d=\"M 1.78125 0.078125 C 1.3125 0.078125 0.957031 -0.0390625 0.71875 -0.28125 C 0.488281 -0.53125 0.375 -0.867188 0.375 -1.296875 C 0.375 -1.597656 0.429688 -1.847656 0.546875 -2.046875 C 0.660156 -2.242188 0.8125 -2.398438 1 -2.515625 C 1.1875 -2.628906 1.398438 -2.707031 1.640625 -2.75 C 1.878906 -2.789062 2.125 -2.8125 2.375 -2.8125 L 3.421875 -2.828125 L 3.421875 -3.09375 C 3.421875 -3.28125 3.398438 -3.441406 3.359375 -3.578125 C 3.316406 -3.710938 3.253906 -3.820312 3.171875 -3.90625 C 3.085938 -3.988281 2.984375 -4.046875 2.859375 -4.078125 C 2.742188 -4.117188 2.597656 -4.140625 2.421875 -4.140625 C 2.273438 -4.140625 2.140625 -4.128906 2.015625 -4.109375 C 1.898438 -4.085938 1.796875 -4.046875 1.703125 -3.984375 C 1.617188 -3.929688 1.546875 -3.859375 1.484375 -3.765625 C 1.429688 -3.671875 1.398438 -3.550781 1.390625 -3.40625 L 0.578125 -3.484375 C 0.609375 -3.660156 0.660156 -3.828125 0.734375 -3.984375 C 0.816406 -4.140625 0.929688 -4.269531 1.078125 -4.375 C 1.234375 -4.488281 1.421875 -4.578125 1.640625 -4.640625 C 1.859375 -4.703125 2.125 -4.734375 2.4375 -4.734375 C 3.019531 -4.734375 3.457031 -4.597656 3.75 -4.328125 C 4.050781 -4.066406 4.203125 -3.679688 4.203125 -3.171875 L 4.203125 -1.171875 C 4.203125 -0.941406 4.234375 -0.769531 4.296875 -0.65625 C 4.359375 -0.539062 4.472656 -0.484375 4.640625 -0.484375 C 4.679688 -0.484375 4.722656 -0.484375 4.765625 -0.484375 C 4.804688 -0.492188 4.847656 -0.5 4.890625 -0.5 L 4.890625 -0.03125 C 4.796875 0 4.695312 0.0195312 4.59375 0.03125 C 4.5 0.0390625 4.398438 0.046875 4.296875 0.046875 C 4.148438 0.046875 4.023438 0.0234375 3.921875 -0.015625 C 3.816406 -0.0546875 3.726562 -0.113281 3.65625 -0.1875 C 3.59375 -0.269531 3.546875 -0.367188 3.515625 -0.484375 C 3.484375 -0.597656 3.460938 -0.734375 3.453125 -0.890625 L 3.421875 -0.890625 C 3.335938 -0.742188 3.242188 -0.609375 3.140625 -0.484375 C 3.046875 -0.367188 2.929688 -0.265625 2.796875 -0.171875 C 2.671875 -0.0859375 2.523438 -0.0234375 2.359375 0.015625 C 2.191406 0.0546875 2 0.078125 1.78125 0.078125 Z M 1.953125 -0.5 C 2.203125 -0.5 2.414062 -0.539062 2.59375 -0.625 C 2.78125 -0.71875 2.9375 -0.832031 3.0625 -0.96875 C 3.1875 -1.113281 3.273438 -1.269531 3.328125 -1.4375 C 3.390625 -1.601562 3.421875 -1.757812 3.421875 -1.90625 L 3.421875 -2.296875 L 2.578125 -2.28125 C 2.390625 -2.269531 2.207031 -2.253906 2.03125 -2.234375 C 1.863281 -2.210938 1.710938 -2.164062 1.578125 -2.09375 C 1.453125 -2.019531 1.351562 -1.914062 1.28125 -1.78125 C 1.207031 -1.65625 1.171875 -1.488281 1.171875 -1.28125 C 1.171875 -1.03125 1.238281 -0.835938 1.375 -0.703125 C 1.507812 -0.566406 1.703125 -0.5 1.953125 -0.5 Z M 1.953125 -0.5 \"/>\n",
       "</symbol>\n",
       "<symbol overflow=\"visible\" id=\"glyph4-12\">\n",
       "<path style=\"stroke:none;\" d=\"M 3.5 0 L 1.9375 -2.125 L 1.359375 -1.65625 L 1.359375 0 L 0.59375 0 L 0.59375 -6.375 L 1.359375 -6.375 L 1.359375 -2.390625 L 3.40625 -4.640625 L 4.3125 -4.640625 L 2.421875 -2.65625 L 4.40625 0 Z M 3.5 0 \"/>\n",
       "</symbol>\n",
       "<symbol overflow=\"visible\" id=\"glyph4-13\">\n",
       "<path style=\"stroke:none;\" d=\"M 3.546875 0 L 3.546875 -2.953125 C 3.546875 -3.171875 3.523438 -3.351562 3.484375 -3.5 C 3.453125 -3.65625 3.398438 -3.78125 3.328125 -3.875 C 3.253906 -3.96875 3.15625 -4.035156 3.03125 -4.078125 C 2.914062 -4.117188 2.765625 -4.140625 2.578125 -4.140625 C 2.398438 -4.140625 2.238281 -4.101562 2.09375 -4.03125 C 1.945312 -3.96875 1.820312 -3.875 1.71875 -3.75 C 1.613281 -3.632812 1.53125 -3.488281 1.46875 -3.3125 C 1.414062 -3.132812 1.390625 -2.925781 1.390625 -2.6875 L 1.390625 0 L 0.609375 0 L 0.609375 -3.65625 C 0.609375 -3.75 0.609375 -3.847656 0.609375 -3.953125 C 0.609375 -4.066406 0.601562 -4.171875 0.59375 -4.265625 C 0.59375 -4.359375 0.59375 -4.441406 0.59375 -4.515625 C 0.59375 -4.585938 0.585938 -4.628906 0.578125 -4.640625 L 1.3125 -4.640625 C 1.3125 -4.628906 1.3125 -4.59375 1.3125 -4.53125 C 1.320312 -4.46875 1.328125 -4.394531 1.328125 -4.3125 C 1.335938 -4.226562 1.34375 -4.144531 1.34375 -4.0625 C 1.34375 -3.976562 1.34375 -3.910156 1.34375 -3.859375 L 1.359375 -3.859375 C 1.429688 -3.992188 1.507812 -4.113281 1.59375 -4.21875 C 1.6875 -4.320312 1.789062 -4.410156 1.90625 -4.484375 C 2.03125 -4.566406 2.164062 -4.628906 2.3125 -4.671875 C 2.46875 -4.710938 2.644531 -4.734375 2.84375 -4.734375 C 3.101562 -4.734375 3.328125 -4.703125 3.515625 -4.640625 C 3.703125 -4.578125 3.851562 -4.476562 3.96875 -4.34375 C 4.09375 -4.21875 4.179688 -4.050781 4.234375 -3.84375 C 4.296875 -3.632812 4.328125 -3.382812 4.328125 -3.09375 L 4.328125 0 Z M 3.546875 0 \"/>\n",
       "</symbol>\n",
       "<symbol overflow=\"visible\" id=\"glyph4-14\">\n",
       "<path style=\"stroke:none;\" d=\"M 3.53125 -0.75 C 3.382812 -0.445312 3.191406 -0.234375 2.953125 -0.109375 C 2.722656 0.015625 2.429688 0.078125 2.078125 0.078125 C 1.492188 0.078125 1.0625 -0.113281 0.78125 -0.5 C 0.507812 -0.894531 0.375 -1.492188 0.375 -2.296875 C 0.375 -3.921875 0.941406 -4.734375 2.078125 -4.734375 C 2.429688 -4.734375 2.722656 -4.664062 2.953125 -4.53125 C 3.191406 -4.40625 3.382812 -4.203125 3.53125 -3.921875 C 3.53125 -3.953125 3.53125 -4 3.53125 -4.0625 C 3.53125 -4.125 3.53125 -4.1875 3.53125 -4.25 C 3.53125 -4.320312 3.53125 -4.382812 3.53125 -4.4375 C 3.53125 -4.5 3.53125 -4.546875 3.53125 -4.578125 L 3.53125 -6.375 L 4.296875 -6.375 L 4.296875 -0.953125 C 4.296875 -0.847656 4.296875 -0.742188 4.296875 -0.640625 C 4.296875 -0.535156 4.296875 -0.4375 4.296875 -0.34375 C 4.304688 -0.257812 4.3125 -0.1875 4.3125 -0.125 C 4.320312 -0.0625 4.328125 -0.0195312 4.328125 0 L 3.59375 0 C 3.582031 -0.03125 3.570312 -0.0703125 3.5625 -0.125 C 3.5625 -0.175781 3.554688 -0.234375 3.546875 -0.296875 C 3.546875 -0.367188 3.546875 -0.441406 3.546875 -0.515625 C 3.546875 -0.597656 3.546875 -0.675781 3.546875 -0.75 Z M 1.1875 -2.328125 C 1.1875 -2.003906 1.203125 -1.726562 1.234375 -1.5 C 1.273438 -1.269531 1.335938 -1.082031 1.421875 -0.9375 C 1.515625 -0.789062 1.628906 -0.679688 1.765625 -0.609375 C 1.910156 -0.546875 2.082031 -0.515625 2.28125 -0.515625 C 2.476562 -0.515625 2.65625 -0.546875 2.8125 -0.609375 C 2.96875 -0.671875 3.097656 -0.773438 3.203125 -0.921875 C 3.304688 -1.078125 3.382812 -1.269531 3.4375 -1.5 C 3.5 -1.738281 3.53125 -2.03125 3.53125 -2.375 C 3.53125 -2.707031 3.5 -2.988281 3.4375 -3.21875 C 3.382812 -3.445312 3.304688 -3.628906 3.203125 -3.765625 C 3.097656 -3.910156 2.96875 -4.007812 2.8125 -4.0625 C 2.65625 -4.125 2.476562 -4.15625 2.28125 -4.15625 C 2.09375 -4.15625 1.929688 -4.125 1.796875 -4.0625 C 1.660156 -4 1.546875 -3.894531 1.453125 -3.75 C 1.359375 -3.601562 1.289062 -3.410156 1.25 -3.171875 C 1.207031 -2.941406 1.1875 -2.660156 1.1875 -2.328125 Z M 1.1875 -2.328125 \"/>\n",
       "</symbol>\n",
       "<symbol overflow=\"visible\" id=\"glyph4-15\">\n",
       "<path style=\"stroke:none;\" d=\"M 0.71875 0 L 0.71875 -6.046875 L 5.3125 -6.046875 L 5.3125 -5.375 L 1.546875 -5.375 L 1.546875 -3.4375 L 5.0625 -3.4375 L 5.0625 -2.78125 L 1.546875 -2.78125 L 1.546875 -0.671875 L 5.484375 -0.671875 L 5.484375 0 Z M 0.71875 0 \"/>\n",
       "</symbol>\n",
       "<symbol overflow=\"visible\" id=\"glyph4-16\">\n",
       "<path style=\"stroke:none;\" d=\"M 2.375 -0.03125 C 2.257812 0 2.140625 0.0195312 2.015625 0.03125 C 1.898438 0.0507812 1.757812 0.0625 1.59375 0.0625 C 0.976562 0.0625 0.671875 -0.285156 0.671875 -0.984375 L 0.671875 -4.078125 L 0.140625 -4.078125 L 0.140625 -4.640625 L 0.703125 -4.640625 L 0.921875 -5.6875 L 1.4375 -5.6875 L 1.4375 -4.640625 L 2.296875 -4.640625 L 2.296875 -4.078125 L 1.4375 -4.078125 L 1.4375 -1.15625 C 1.4375 -0.925781 1.472656 -0.765625 1.546875 -0.671875 C 1.617188 -0.585938 1.75 -0.546875 1.9375 -0.546875 C 2.007812 -0.546875 2.078125 -0.550781 2.140625 -0.5625 C 2.210938 -0.570312 2.289062 -0.585938 2.375 -0.609375 Z M 2.375 -0.03125 \"/>\n",
       "</symbol>\n",
       "<symbol overflow=\"visible\" id=\"glyph4-17\">\n",
       "<path style=\"stroke:none;\" d=\"M 6.421875 -3.046875 C 6.421875 -2.578125 6.351562 -2.148438 6.21875 -1.765625 C 6.082031 -1.378906 5.882812 -1.046875 5.625 -0.765625 C 5.363281 -0.492188 5.046875 -0.285156 4.671875 -0.140625 C 4.304688 0.00390625 3.890625 0.078125 3.421875 0.078125 C 2.921875 0.078125 2.484375 0.00390625 2.109375 -0.140625 C 1.734375 -0.296875 1.421875 -0.515625 1.171875 -0.796875 C 0.921875 -1.078125 0.734375 -1.410156 0.609375 -1.796875 C 0.484375 -2.179688 0.421875 -2.597656 0.421875 -3.046875 C 0.421875 -3.523438 0.484375 -3.953125 0.609375 -4.328125 C 0.742188 -4.710938 0.9375 -5.035156 1.1875 -5.296875 C 1.445312 -5.566406 1.765625 -5.773438 2.140625 -5.921875 C 2.515625 -6.066406 2.941406 -6.140625 3.421875 -6.140625 C 3.898438 -6.140625 4.328125 -6.066406 4.703125 -5.921875 C 5.078125 -5.773438 5.390625 -5.566406 5.640625 -5.296875 C 5.898438 -5.023438 6.09375 -4.695312 6.21875 -4.3125 C 6.351562 -3.9375 6.421875 -3.515625 6.421875 -3.046875 Z M 5.578125 -3.046875 C 5.578125 -3.410156 5.53125 -3.742188 5.4375 -4.046875 C 5.351562 -4.347656 5.21875 -4.601562 5.03125 -4.8125 C 4.851562 -5.019531 4.628906 -5.179688 4.359375 -5.296875 C 4.085938 -5.410156 3.773438 -5.46875 3.421875 -5.46875 C 3.054688 -5.46875 2.738281 -5.410156 2.46875 -5.296875 C 2.195312 -5.179688 1.96875 -5.019531 1.78125 -4.8125 C 1.601562 -4.601562 1.46875 -4.347656 1.375 -4.046875 C 1.289062 -3.742188 1.25 -3.410156 1.25 -3.046875 C 1.25 -2.691406 1.296875 -2.363281 1.390625 -2.0625 C 1.484375 -1.757812 1.617188 -1.492188 1.796875 -1.265625 C 1.984375 -1.046875 2.210938 -0.875 2.484375 -0.75 C 2.753906 -0.632812 3.066406 -0.578125 3.421875 -0.578125 C 3.796875 -0.578125 4.117188 -0.640625 4.390625 -0.765625 C 4.660156 -0.890625 4.882812 -1.0625 5.0625 -1.28125 C 5.238281 -1.5 5.367188 -1.757812 5.453125 -2.0625 C 5.535156 -2.363281 5.578125 -2.691406 5.578125 -3.046875 Z M 5.578125 -3.046875 \"/>\n",
       "</symbol>\n",
       "<symbol overflow=\"visible\" id=\"glyph4-18\">\n",
       "<path style=\"stroke:none;\" d=\"M 1.359375 -3.859375 C 1.441406 -4.015625 1.535156 -4.144531 1.640625 -4.25 C 1.742188 -4.363281 1.851562 -4.457031 1.96875 -4.53125 C 2.09375 -4.601562 2.222656 -4.65625 2.359375 -4.6875 C 2.503906 -4.71875 2.664062 -4.734375 2.84375 -4.734375 C 3.144531 -4.734375 3.390625 -4.691406 3.578125 -4.609375 C 3.765625 -4.535156 3.914062 -4.425781 4.03125 -4.28125 C 4.144531 -4.132812 4.222656 -3.957031 4.265625 -3.75 C 4.304688 -3.550781 4.328125 -3.332031 4.328125 -3.09375 L 4.328125 0 L 3.546875 0 L 3.546875 -2.953125 C 3.546875 -3.148438 3.53125 -3.320312 3.5 -3.46875 C 3.476562 -3.613281 3.429688 -3.734375 3.359375 -3.828125 C 3.296875 -3.929688 3.203125 -4.007812 3.078125 -4.0625 C 2.953125 -4.113281 2.785156 -4.140625 2.578125 -4.140625 C 2.398438 -4.140625 2.238281 -4.101562 2.09375 -4.03125 C 1.945312 -3.96875 1.820312 -3.875 1.71875 -3.75 C 1.613281 -3.632812 1.53125 -3.488281 1.46875 -3.3125 C 1.414062 -3.144531 1.390625 -2.953125 1.390625 -2.734375 L 1.390625 0 L 0.609375 0 L 0.609375 -6.375 L 1.390625 -6.375 L 1.390625 -4.71875 C 1.390625 -4.625 1.382812 -4.53125 1.375 -4.4375 C 1.375 -4.34375 1.367188 -4.253906 1.359375 -4.171875 C 1.359375 -4.085938 1.359375 -4.019531 1.359375 -3.96875 C 1.359375 -3.914062 1.351562 -3.878906 1.34375 -3.859375 Z M 1.359375 -3.859375 \"/>\n",
       "</symbol>\n",
       "<symbol overflow=\"visible\" id=\"glyph4-19\">\n",
       "<path style=\"stroke:none;\" d=\"M 3.09375 -5.375 L 3.09375 0 L 2.28125 0 L 2.28125 -5.375 L 0.203125 -5.375 L 0.203125 -6.046875 L 5.171875 -6.046875 L 5.171875 -5.375 Z M 3.09375 -5.375 \"/>\n",
       "</symbol>\n",
       "<symbol overflow=\"visible\" id=\"glyph4-20\">\n",
       "<path style=\"stroke:none;\" d=\"M 1.546875 -4.078125 L 1.546875 0 L 0.78125 0 L 0.78125 -4.078125 L 0.125 -4.078125 L 0.125 -4.640625 L 0.78125 -4.640625 L 0.78125 -5.171875 C 0.78125 -5.335938 0.796875 -5.492188 0.828125 -5.640625 C 0.859375 -5.785156 0.914062 -5.910156 1 -6.015625 C 1.082031 -6.128906 1.195312 -6.210938 1.34375 -6.265625 C 1.488281 -6.328125 1.675781 -6.359375 1.90625 -6.359375 C 2 -6.359375 2.09375 -6.351562 2.1875 -6.34375 C 2.289062 -6.34375 2.378906 -6.332031 2.453125 -6.3125 L 2.453125 -5.71875 C 2.410156 -5.726562 2.351562 -5.738281 2.28125 -5.75 C 2.21875 -5.757812 2.160156 -5.765625 2.109375 -5.765625 C 1.992188 -5.765625 1.898438 -5.75 1.828125 -5.71875 C 1.753906 -5.6875 1.695312 -5.640625 1.65625 -5.578125 C 1.613281 -5.515625 1.582031 -5.441406 1.5625 -5.359375 C 1.550781 -5.273438 1.546875 -5.175781 1.546875 -5.0625 L 1.546875 -4.640625 L 2.453125 -4.640625 L 2.453125 -4.078125 Z M 1.546875 -4.078125 \"/>\n",
       "</symbol>\n",
       "<symbol overflow=\"visible\" id=\"glyph5-0\">\n",
       "<path style=\"stroke:none;\" d=\"M 0.5 0 L 0.5 -10 L 4.484375 -10 L 4.484375 0 Z M 1 -0.5 L 3.984375 -0.5 L 3.984375 -9.5 L 1 -9.5 Z M 1 -0.5 \"/>\n",
       "</symbol>\n",
       "<symbol overflow=\"visible\" id=\"glyph5-1\">\n",
       "<path style=\"stroke:none;\" d=\"M 9.5 -7.046875 C 9.5 -6.609375 9.421875 -6.179688 9.265625 -5.765625 C 9.117188 -5.359375 8.890625 -4.992188 8.578125 -4.671875 C 8.273438 -4.359375 7.882812 -4.109375 7.40625 -3.921875 C 6.9375 -3.734375 6.378906 -3.640625 5.734375 -3.640625 L 3.171875 -3.640625 L 3.171875 0 L 1 0 L 1 -10.3125 L 5.640625 -10.3125 C 6.296875 -10.3125 6.863281 -10.234375 7.34375 -10.078125 C 7.832031 -9.921875 8.234375 -9.695312 8.546875 -9.40625 C 8.867188 -9.125 9.109375 -8.78125 9.265625 -8.375 C 9.421875 -7.976562 9.5 -7.535156 9.5 -7.046875 Z M 7.3125 -7.015625 C 7.3125 -7.546875 7.148438 -7.945312 6.828125 -8.21875 C 6.515625 -8.5 6.035156 -8.640625 5.390625 -8.640625 L 3.171875 -8.640625 L 3.171875 -5.296875 L 5.453125 -5.296875 C 5.773438 -5.296875 6.050781 -5.335938 6.28125 -5.421875 C 6.519531 -5.503906 6.710938 -5.617188 6.859375 -5.765625 C 7.015625 -5.921875 7.128906 -6.101562 7.203125 -6.3125 C 7.273438 -6.53125 7.3125 -6.765625 7.3125 -7.015625 Z M 7.3125 -7.015625 \"/>\n",
       "</symbol>\n",
       "<symbol overflow=\"visible\" id=\"glyph5-2\">\n",
       "<path style=\"stroke:none;\" d=\"M 1.046875 0 L 1.046875 -10.875 L 3.109375 -10.875 L 3.109375 0 Z M 1.046875 0 \"/>\n",
       "</symbol>\n",
       "<symbol overflow=\"visible\" id=\"glyph5-3\">\n",
       "<path style=\"stroke:none;\" d=\"M 8.578125 -3.96875 C 8.578125 -3.363281 8.492188 -2.804688 8.328125 -2.296875 C 8.160156 -1.796875 7.90625 -1.363281 7.5625 -1 C 7.226562 -0.644531 6.804688 -0.363281 6.296875 -0.15625 C 5.796875 0.0390625 5.210938 0.140625 4.546875 0.140625 C 3.898438 0.140625 3.332031 0.0390625 2.84375 -0.15625 C 2.351562 -0.351562 1.9375 -0.628906 1.59375 -0.984375 C 1.257812 -1.347656 1.007812 -1.78125 0.84375 -2.28125 C 0.675781 -2.789062 0.59375 -3.351562 0.59375 -3.96875 C 0.59375 -4.5625 0.671875 -5.109375 0.828125 -5.609375 C 0.992188 -6.109375 1.242188 -6.539062 1.578125 -6.90625 C 1.910156 -7.269531 2.328125 -7.554688 2.828125 -7.765625 C 3.328125 -7.972656 3.914062 -8.078125 4.59375 -8.078125 C 5.300781 -8.078125 5.90625 -7.972656 6.40625 -7.765625 C 6.914062 -7.554688 7.328125 -7.269531 7.640625 -6.90625 C 7.960938 -6.539062 8.195312 -6.109375 8.34375 -5.609375 C 8.5 -5.109375 8.578125 -4.5625 8.578125 -3.96875 Z M 6.421875 -3.96875 C 6.421875 -4.914062 6.265625 -5.597656 5.953125 -6.015625 C 5.648438 -6.441406 5.207031 -6.65625 4.625 -6.65625 C 4.019531 -6.65625 3.554688 -6.441406 3.234375 -6.015625 C 2.910156 -5.585938 2.75 -4.90625 2.75 -3.96875 C 2.75 -3.5 2.789062 -3.09375 2.875 -2.75 C 2.957031 -2.40625 3.078125 -2.125 3.234375 -1.90625 C 3.390625 -1.6875 3.578125 -1.523438 3.796875 -1.421875 C 4.015625 -1.316406 4.257812 -1.265625 4.53125 -1.265625 C 4.832031 -1.265625 5.097656 -1.316406 5.328125 -1.421875 C 5.566406 -1.523438 5.765625 -1.6875 5.921875 -1.90625 C 6.085938 -2.125 6.210938 -2.40625 6.296875 -2.75 C 6.378906 -3.09375 6.421875 -3.5 6.421875 -3.96875 Z M 6.421875 -3.96875 \"/>\n",
       "</symbol>\n",
       "<symbol overflow=\"visible\" id=\"glyph5-4\">\n",
       "<path style=\"stroke:none;\" d=\"M 3.078125 0.125 C 2.472656 0.125 2.003906 -0.0351562 1.671875 -0.359375 C 1.347656 -0.691406 1.1875 -1.191406 1.1875 -1.859375 L 1.1875 -6.53125 L 0.1875 -6.53125 L 0.1875 -7.921875 L 1.296875 -7.921875 L 1.9375 -9.78125 L 3.21875 -9.78125 L 3.21875 -7.921875 L 4.71875 -7.921875 L 4.71875 -6.53125 L 3.21875 -6.53125 L 3.21875 -2.421875 C 3.21875 -2.035156 3.289062 -1.75 3.4375 -1.5625 C 3.582031 -1.382812 3.8125 -1.296875 4.125 -1.296875 C 4.25 -1.296875 4.363281 -1.300781 4.46875 -1.3125 C 4.570312 -1.332031 4.6875 -1.359375 4.8125 -1.390625 L 4.8125 -0.125 C 4.5625 -0.0390625 4.289062 0.0195312 4 0.0625 C 3.71875 0.101562 3.410156 0.125 3.078125 0.125 Z M 3.078125 0.125 \"/>\n",
       "</symbol>\n",
       "<symbol overflow=\"visible\" id=\"glyph5-5\">\n",
       "<path style=\"stroke:none;\" d=\"\"/>\n",
       "</symbol>\n",
       "<symbol overflow=\"visible\" id=\"glyph5-6\">\n",
       "<path style=\"stroke:none;\" d=\"M 0.9375 0 L 0.9375 -1.53125 L 3.5 -1.53125 L 3.5 -8.5625 L 1.03125 -7.03125 L 1.03125 -8.640625 L 3.609375 -10.3125 L 5.5625 -10.3125 L 5.5625 -1.53125 L 7.921875 -1.53125 L 7.921875 0 Z M 0.9375 0 \"/>\n",
       "</symbol>\n",
       "<symbol overflow=\"visible\" id=\"glyph5-7\">\n",
       "<path style=\"stroke:none;\" d=\"M 0.59375 -3 L 0.59375 -4.78125 L 4.390625 -4.78125 L 4.390625 -3 Z M 0.59375 -3 \"/>\n",
       "</symbol>\n",
       "<symbol overflow=\"visible\" id=\"glyph5-8\">\n",
       "<path style=\"stroke:none;\" d=\"M 5.90625 -1.546875 C 6.21875 -1.546875 6.515625 -1.566406 6.796875 -1.609375 C 7.085938 -1.660156 7.351562 -1.726562 7.59375 -1.8125 C 7.84375 -1.894531 8.066406 -1.988281 8.265625 -2.09375 C 8.460938 -2.195312 8.628906 -2.304688 8.765625 -2.421875 L 8.765625 -3.84375 L 6.234375 -3.84375 L 6.234375 -5.4375 L 10.734375 -5.4375 L 10.734375 -1.640625 C 10.503906 -1.410156 10.222656 -1.1875 9.890625 -0.96875 C 9.554688 -0.75 9.179688 -0.554688 8.765625 -0.390625 C 8.347656 -0.222656 7.894531 -0.09375 7.40625 0 C 6.914062 0.09375 6.394531 0.140625 5.84375 0.140625 C 4.925781 0.140625 4.140625 0.0078125 3.484375 -0.25 C 2.828125 -0.519531 2.285156 -0.890625 1.859375 -1.359375 C 1.429688 -1.835938 1.113281 -2.40625 0.90625 -3.0625 C 0.707031 -3.71875 0.609375 -4.429688 0.609375 -5.203125 C 0.609375 -6.015625 0.71875 -6.742188 0.9375 -7.390625 C 1.15625 -8.035156 1.484375 -8.585938 1.921875 -9.046875 C 2.359375 -9.503906 2.90625 -9.851562 3.5625 -10.09375 C 4.226562 -10.34375 5.003906 -10.46875 5.890625 -10.46875 C 6.546875 -10.46875 7.125 -10.40625 7.625 -10.28125 C 8.132812 -10.15625 8.578125 -9.972656 8.953125 -9.734375 C 9.328125 -9.503906 9.644531 -9.222656 9.90625 -8.890625 C 10.164062 -8.566406 10.367188 -8.195312 10.515625 -7.78125 L 8.53125 -7.1875 C 8.4375 -7.394531 8.316406 -7.597656 8.171875 -7.796875 C 8.023438 -7.992188 7.84375 -8.160156 7.625 -8.296875 C 7.40625 -8.441406 7.15625 -8.554688 6.875 -8.640625 C 6.59375 -8.734375 6.265625 -8.78125 5.890625 -8.78125 C 5.359375 -8.78125 4.894531 -8.691406 4.5 -8.515625 C 4.113281 -8.347656 3.789062 -8.109375 3.53125 -7.796875 C 3.28125 -7.484375 3.09375 -7.109375 2.96875 -6.671875 C 2.851562 -6.234375 2.796875 -5.742188 2.796875 -5.203125 C 2.796875 -4.671875 2.859375 -4.175781 2.984375 -3.71875 C 3.109375 -3.269531 3.296875 -2.882812 3.546875 -2.5625 C 3.804688 -2.25 4.128906 -2 4.515625 -1.8125 C 4.910156 -1.632812 5.375 -1.546875 5.90625 -1.546875 Z M 5.90625 -1.546875 \"/>\n",
       "</symbol>\n",
       "<symbol overflow=\"visible\" id=\"glyph5-9\">\n",
       "<path style=\"stroke:none;\" d=\"M 1.046875 0 L 1.046875 -6.0625 C 1.046875 -6.238281 1.046875 -6.421875 1.046875 -6.609375 C 1.046875 -6.796875 1.039062 -6.972656 1.03125 -7.140625 C 1.019531 -7.316406 1.007812 -7.472656 1 -7.609375 C 1 -7.753906 0.992188 -7.859375 0.984375 -7.921875 L 2.953125 -7.921875 C 2.960938 -7.867188 2.972656 -7.769531 2.984375 -7.625 C 2.992188 -7.476562 3.003906 -7.316406 3.015625 -7.140625 C 3.023438 -6.972656 3.03125 -6.804688 3.03125 -6.640625 C 3.039062 -6.472656 3.046875 -6.335938 3.046875 -6.234375 L 3.078125 -6.234375 C 3.179688 -6.523438 3.28125 -6.78125 3.375 -7 C 3.476562 -7.226562 3.597656 -7.421875 3.734375 -7.578125 C 3.878906 -7.742188 4.050781 -7.867188 4.25 -7.953125 C 4.445312 -8.035156 4.6875 -8.078125 4.96875 -8.078125 C 5.09375 -8.078125 5.210938 -8.066406 5.328125 -8.046875 C 5.453125 -8.023438 5.546875 -8 5.609375 -7.96875 L 5.609375 -6.25 C 5.472656 -6.28125 5.335938 -6.304688 5.203125 -6.328125 C 5.078125 -6.347656 4.921875 -6.359375 4.734375 -6.359375 C 4.222656 -6.359375 3.820312 -6.148438 3.53125 -5.734375 C 3.25 -5.316406 3.109375 -4.703125 3.109375 -3.890625 L 3.109375 0 Z M 1.046875 0 \"/>\n",
       "</symbol>\n",
       "<symbol overflow=\"visible\" id=\"glyph5-10\">\n",
       "<path style=\"stroke:none;\" d=\"M 2.984375 -7.921875 L 2.984375 -3.484375 C 2.984375 -3.171875 3.007812 -2.882812 3.0625 -2.625 C 3.113281 -2.375 3.191406 -2.15625 3.296875 -1.96875 C 3.410156 -1.789062 3.554688 -1.648438 3.734375 -1.546875 C 3.910156 -1.441406 4.128906 -1.390625 4.390625 -1.390625 C 4.640625 -1.390625 4.863281 -1.441406 5.0625 -1.546875 C 5.269531 -1.660156 5.445312 -1.816406 5.59375 -2.015625 C 5.738281 -2.222656 5.851562 -2.46875 5.9375 -2.75 C 6.019531 -3.03125 6.0625 -3.335938 6.0625 -3.671875 L 6.0625 -7.921875 L 8.109375 -7.921875 L 8.109375 -1.765625 C 8.109375 -1.609375 8.109375 -1.4375 8.109375 -1.25 C 8.117188 -1.0625 8.125 -0.882812 8.125 -0.71875 C 8.132812 -0.5625 8.144531 -0.414062 8.15625 -0.28125 C 8.164062 -0.15625 8.171875 -0.0625 8.171875 0 L 6.21875 0 C 6.207031 -0.0625 6.195312 -0.15625 6.1875 -0.28125 C 6.175781 -0.40625 6.164062 -0.546875 6.15625 -0.703125 C 6.144531 -0.859375 6.132812 -1.015625 6.125 -1.171875 C 6.125 -1.328125 6.125 -1.460938 6.125 -1.578125 L 6.09375 -1.578125 C 5.8125 -0.972656 5.457031 -0.535156 5.03125 -0.265625 C 4.613281 0.00390625 4.113281 0.140625 3.53125 0.140625 C 3.0625 0.140625 2.660156 0.0625 2.328125 -0.09375 C 1.992188 -0.25 1.722656 -0.460938 1.515625 -0.734375 C 1.304688 -1.003906 1.15625 -1.320312 1.0625 -1.6875 C 0.976562 -2.0625 0.9375 -2.460938 0.9375 -2.890625 L 0.9375 -7.921875 Z M 2.984375 -7.921875 \"/>\n",
       "</symbol>\n",
       "<symbol overflow=\"visible\" id=\"glyph5-11\">\n",
       "<path style=\"stroke:none;\" d=\"M 8.546875 -4 C 8.546875 -3.394531 8.484375 -2.835938 8.359375 -2.328125 C 8.242188 -1.828125 8.0625 -1.390625 7.8125 -1.015625 C 7.5625 -0.648438 7.242188 -0.363281 6.859375 -0.15625 C 6.484375 0.0390625 6.035156 0.140625 5.515625 0.140625 C 5.273438 0.140625 5.035156 0.113281 4.796875 0.0625 C 4.566406 0.0195312 4.347656 -0.0507812 4.140625 -0.15625 C 3.929688 -0.269531 3.738281 -0.414062 3.5625 -0.59375 C 3.382812 -0.769531 3.234375 -0.992188 3.109375 -1.265625 L 3.0625 -1.265625 C 3.0625 -1.234375 3.0625 -1.171875 3.0625 -1.078125 C 3.070312 -0.984375 3.078125 -0.867188 3.078125 -0.734375 C 3.085938 -0.609375 3.09375 -0.472656 3.09375 -0.328125 C 3.101562 -0.179688 3.109375 -0.046875 3.109375 0.078125 L 3.109375 3.109375 L 1.046875 3.109375 L 1.046875 -6.09375 C 1.046875 -6.5 1.039062 -6.859375 1.03125 -7.171875 C 1.019531 -7.492188 1.003906 -7.742188 0.984375 -7.921875 L 2.984375 -7.921875 C 2.992188 -7.890625 3.003906 -7.820312 3.015625 -7.71875 C 3.035156 -7.625 3.046875 -7.515625 3.046875 -7.390625 C 3.054688 -7.265625 3.0625 -7.132812 3.0625 -7 C 3.070312 -6.863281 3.078125 -6.742188 3.078125 -6.640625 L 3.109375 -6.640625 C 3.359375 -7.160156 3.695312 -7.53125 4.125 -7.75 C 4.5625 -7.976562 5.066406 -8.09375 5.640625 -8.09375 C 6.140625 -8.09375 6.570312 -7.988281 6.9375 -7.78125 C 7.3125 -7.582031 7.613281 -7.300781 7.84375 -6.9375 C 8.082031 -6.570312 8.257812 -6.140625 8.375 -5.640625 C 8.488281 -5.140625 8.546875 -4.59375 8.546875 -4 Z M 6.40625 -4 C 6.40625 -4.90625 6.265625 -5.578125 5.984375 -6.015625 C 5.710938 -6.453125 5.304688 -6.671875 4.765625 -6.671875 C 4.554688 -6.671875 4.351562 -6.625 4.15625 -6.53125 C 3.957031 -6.445312 3.773438 -6.300781 3.609375 -6.09375 C 3.453125 -5.882812 3.320312 -5.601562 3.21875 -5.25 C 3.125 -4.90625 3.078125 -4.46875 3.078125 -3.9375 C 3.078125 -3.425781 3.125 -2.992188 3.21875 -2.640625 C 3.320312 -2.296875 3.453125 -2.019531 3.609375 -1.8125 C 3.765625 -1.613281 3.941406 -1.472656 4.140625 -1.390625 C 4.347656 -1.304688 4.550781 -1.265625 4.75 -1.265625 C 5.019531 -1.265625 5.253906 -1.316406 5.453125 -1.421875 C 5.660156 -1.523438 5.832031 -1.6875 5.96875 -1.90625 C 6.113281 -2.125 6.222656 -2.40625 6.296875 -2.75 C 6.367188 -3.101562 6.40625 -3.519531 6.40625 -4 Z M 6.40625 -4 \"/>\n",
       "</symbol>\n",
       "<symbol overflow=\"visible\" id=\"glyph5-12\">\n",
       "<path style=\"stroke:none;\" d=\"M 4.296875 0.140625 C 3.722656 0.140625 3.207031 0.0546875 2.75 -0.109375 C 2.289062 -0.273438 1.898438 -0.53125 1.578125 -0.875 C 1.253906 -1.21875 1.007812 -1.648438 0.84375 -2.171875 C 0.675781 -2.691406 0.59375 -3.300781 0.59375 -4 C 0.59375 -4.757812 0.691406 -5.394531 0.890625 -5.90625 C 1.085938 -6.425781 1.359375 -6.84375 1.703125 -7.15625 C 2.054688 -7.476562 2.457031 -7.710938 2.90625 -7.859375 C 3.351562 -8.003906 3.828125 -8.078125 4.328125 -8.078125 C 4.953125 -8.078125 5.484375 -7.96875 5.921875 -7.75 C 6.359375 -7.53125 6.71875 -7.222656 7 -6.828125 C 7.289062 -6.441406 7.5 -5.972656 7.625 -5.421875 C 7.757812 -4.878906 7.828125 -4.28125 7.828125 -3.625 L 7.828125 -3.5625 L 2.75 -3.5625 C 2.75 -3.226562 2.773438 -2.921875 2.828125 -2.640625 C 2.890625 -2.359375 2.984375 -2.113281 3.109375 -1.90625 C 3.242188 -1.695312 3.414062 -1.53125 3.625 -1.40625 C 3.84375 -1.289062 4.097656 -1.234375 4.390625 -1.234375 C 4.753906 -1.234375 5.050781 -1.304688 5.28125 -1.453125 C 5.507812 -1.609375 5.671875 -1.847656 5.765625 -2.171875 L 7.71875 -2 C 7.625 -1.78125 7.5 -1.539062 7.34375 -1.28125 C 7.1875 -1.03125 6.972656 -0.796875 6.703125 -0.578125 C 6.441406 -0.367188 6.113281 -0.195312 5.71875 -0.0625 C 5.332031 0.0703125 4.859375 0.140625 4.296875 0.140625 Z M 4.296875 -6.78125 C 4.085938 -6.78125 3.890625 -6.742188 3.703125 -6.671875 C 3.515625 -6.597656 3.351562 -6.484375 3.21875 -6.328125 C 3.09375 -6.171875 2.988281 -5.972656 2.90625 -5.734375 C 2.820312 -5.492188 2.773438 -5.203125 2.765625 -4.859375 L 5.84375 -4.859375 C 5.800781 -5.492188 5.644531 -5.972656 5.375 -6.296875 C 5.101562 -6.617188 4.742188 -6.78125 4.296875 -6.78125 Z M 4.296875 -6.78125 \"/>\n",
       "</symbol>\n",
       "<symbol overflow=\"visible\" id=\"glyph5-13\">\n",
       "<path style=\"stroke:none;\" d=\"M 6.1875 0 C 6.175781 -0.0390625 6.160156 -0.109375 6.140625 -0.203125 C 6.128906 -0.304688 6.117188 -0.421875 6.109375 -0.546875 C 6.097656 -0.671875 6.085938 -0.800781 6.078125 -0.9375 C 6.078125 -1.070312 6.078125 -1.191406 6.078125 -1.296875 L 6.046875 -1.296875 C 5.804688 -0.773438 5.472656 -0.40625 5.046875 -0.1875 C 4.617188 0.03125 4.109375 0.140625 3.515625 0.140625 C 3.015625 0.140625 2.582031 0.0390625 2.21875 -0.15625 C 1.851562 -0.363281 1.550781 -0.648438 1.3125 -1.015625 C 1.070312 -1.378906 0.894531 -1.8125 0.78125 -2.3125 C 0.664062 -2.8125 0.609375 -3.359375 0.609375 -3.953125 C 0.609375 -4.554688 0.664062 -5.109375 0.78125 -5.609375 C 0.90625 -6.109375 1.09375 -6.539062 1.34375 -6.90625 C 1.59375 -7.269531 1.910156 -7.554688 2.296875 -7.765625 C 2.679688 -7.972656 3.132812 -8.078125 3.65625 -8.078125 C 3.914062 -8.078125 4.164062 -8.046875 4.40625 -7.984375 C 4.644531 -7.929688 4.867188 -7.847656 5.078125 -7.734375 C 5.285156 -7.628906 5.46875 -7.488281 5.625 -7.3125 C 5.789062 -7.132812 5.9375 -6.921875 6.0625 -6.671875 L 6.078125 -6.671875 C 6.078125 -6.722656 6.070312 -6.796875 6.0625 -6.890625 C 6.0625 -6.984375 6.0625 -7.085938 6.0625 -7.203125 C 6.0625 -7.328125 6.0625 -7.457031 6.0625 -7.59375 C 6.0625 -7.726562 6.0625 -7.851562 6.0625 -7.96875 L 6.0625 -10.875 L 8.109375 -10.875 L 8.109375 -1.734375 C 8.109375 -1.347656 8.113281 -1.003906 8.125 -0.703125 C 8.144531 -0.398438 8.160156 -0.164062 8.171875 0 Z M 6.09375 -4 C 6.09375 -4.53125 6.039062 -4.96875 5.9375 -5.3125 C 5.84375 -5.65625 5.710938 -5.925781 5.546875 -6.125 C 5.390625 -6.332031 5.207031 -6.472656 5 -6.546875 C 4.800781 -6.628906 4.597656 -6.671875 4.390625 -6.671875 C 4.128906 -6.671875 3.894531 -6.617188 3.6875 -6.515625 C 3.488281 -6.410156 3.316406 -6.25 3.171875 -6.03125 C 3.035156 -5.8125 2.929688 -5.53125 2.859375 -5.1875 C 2.796875 -4.851562 2.765625 -4.441406 2.765625 -3.953125 C 2.765625 -2.160156 3.300781 -1.265625 4.375 -1.265625 C 4.582031 -1.265625 4.785156 -1.304688 4.984375 -1.390625 C 5.191406 -1.484375 5.375 -1.632812 5.53125 -1.84375 C 5.695312 -2.050781 5.832031 -2.332031 5.9375 -2.6875 C 6.039062 -3.039062 6.09375 -3.476562 6.09375 -4 Z M 6.09375 -4 \"/>\n",
       "</symbol>\n",
       "<symbol overflow=\"visible\" id=\"glyph5-14\">\n",
       "<path style=\"stroke:none;\" d=\"M 10.15625 -2.9375 C 10.15625 -2.414062 10.046875 -1.96875 9.828125 -1.59375 C 9.617188 -1.226562 9.332031 -0.925781 8.96875 -0.6875 C 8.613281 -0.445312 8.191406 -0.269531 7.703125 -0.15625 C 7.222656 -0.0507812 6.710938 0 6.171875 0 L 1 0 L 1 -10.3125 L 5.734375 -10.3125 C 6.335938 -10.3125 6.878906 -10.257812 7.359375 -10.15625 C 7.835938 -10.050781 8.238281 -9.890625 8.5625 -9.671875 C 8.882812 -9.460938 9.128906 -9.195312 9.296875 -8.875 C 9.472656 -8.550781 9.5625 -8.171875 9.5625 -7.734375 C 9.5625 -7.140625 9.394531 -6.640625 9.0625 -6.234375 C 8.738281 -5.835938 8.25 -5.566406 7.59375 -5.421875 C 8.425781 -5.328125 9.0625 -5.066406 9.5 -4.640625 C 9.9375 -4.210938 10.15625 -3.644531 10.15625 -2.9375 Z M 7.390625 -7.4375 C 7.390625 -7.894531 7.238281 -8.222656 6.9375 -8.421875 C 6.644531 -8.617188 6.207031 -8.71875 5.625 -8.71875 L 3.171875 -8.71875 L 3.171875 -6.15625 L 5.640625 -6.15625 C 6.253906 -6.15625 6.695312 -6.257812 6.96875 -6.46875 C 7.25 -6.6875 7.390625 -7.007812 7.390625 -7.4375 Z M 7.984375 -3.109375 C 7.984375 -3.378906 7.925781 -3.609375 7.8125 -3.796875 C 7.707031 -3.984375 7.5625 -4.132812 7.375 -4.25 C 7.1875 -4.363281 6.96875 -4.441406 6.71875 -4.484375 C 6.46875 -4.535156 6.195312 -4.5625 5.90625 -4.5625 L 3.171875 -4.5625 L 3.171875 -1.609375 L 5.984375 -1.609375 C 6.265625 -1.609375 6.523438 -1.628906 6.765625 -1.671875 C 7.015625 -1.722656 7.226562 -1.804688 7.40625 -1.921875 C 7.582031 -2.035156 7.722656 -2.1875 7.828125 -2.375 C 7.929688 -2.570312 7.984375 -2.816406 7.984375 -3.109375 Z M 7.984375 -3.109375 \"/>\n",
       "</symbol>\n",
       "<symbol overflow=\"visible\" id=\"glyph5-15\">\n",
       "<path style=\"stroke:none;\" d=\"M 2.875 0.140625 C 2.5 0.140625 2.160156 0.0859375 1.859375 -0.015625 C 1.554688 -0.117188 1.300781 -0.269531 1.09375 -0.46875 C 0.882812 -0.675781 0.722656 -0.925781 0.609375 -1.21875 C 0.492188 -1.519531 0.4375 -1.859375 0.4375 -2.234375 C 0.4375 -2.703125 0.519531 -3.097656 0.6875 -3.421875 C 0.851562 -3.742188 1.078125 -4.003906 1.359375 -4.203125 C 1.640625 -4.398438 1.96875 -4.539062 2.34375 -4.625 C 2.726562 -4.71875 3.132812 -4.769531 3.5625 -4.78125 L 5.28125 -4.8125 L 5.28125 -5.203125 C 5.28125 -5.492188 5.253906 -5.734375 5.203125 -5.921875 C 5.148438 -6.117188 5.070312 -6.273438 4.96875 -6.390625 C 4.875 -6.515625 4.753906 -6.601562 4.609375 -6.65625 C 4.460938 -6.707031 4.296875 -6.734375 4.109375 -6.734375 C 3.941406 -6.734375 3.789062 -6.71875 3.65625 -6.6875 C 3.519531 -6.65625 3.40625 -6.59375 3.3125 -6.5 C 3.21875 -6.414062 3.140625 -6.300781 3.078125 -6.15625 C 3.015625 -6.019531 2.96875 -5.84375 2.9375 -5.625 L 0.796875 -5.71875 C 0.859375 -6.0625 0.96875 -6.375 1.125 -6.65625 C 1.28125 -6.945312 1.492188 -7.195312 1.765625 -7.40625 C 2.046875 -7.625 2.382812 -7.789062 2.78125 -7.90625 C 3.1875 -8.019531 3.660156 -8.078125 4.203125 -8.078125 C 4.691406 -8.078125 5.128906 -8.015625 5.515625 -7.890625 C 5.898438 -7.765625 6.226562 -7.582031 6.5 -7.34375 C 6.769531 -7.101562 6.972656 -6.804688 7.109375 -6.453125 C 7.253906 -6.097656 7.328125 -5.691406 7.328125 -5.234375 L 7.328125 -2.34375 C 7.328125 -2.15625 7.335938 -1.988281 7.359375 -1.84375 C 7.378906 -1.695312 7.410156 -1.570312 7.453125 -1.46875 C 7.492188 -1.375 7.554688 -1.300781 7.640625 -1.25 C 7.734375 -1.195312 7.847656 -1.171875 7.984375 -1.171875 C 8.140625 -1.171875 8.289062 -1.1875 8.4375 -1.21875 L 8.4375 -0.109375 C 8.3125 -0.078125 8.203125 -0.046875 8.109375 -0.015625 C 8.015625 0.00390625 7.914062 0.0195312 7.8125 0.03125 C 7.71875 0.0507812 7.613281 0.0664062 7.5 0.078125 C 7.394531 0.0859375 7.269531 0.09375 7.125 0.09375 C 6.601562 0.09375 6.21875 -0.03125 5.96875 -0.28125 C 5.726562 -0.539062 5.582031 -0.914062 5.53125 -1.40625 L 5.484375 -1.40625 C 5.210938 -0.914062 4.863281 -0.535156 4.4375 -0.265625 C 4.007812 0.00390625 3.488281 0.140625 2.875 0.140625 Z M 5.28125 -3.671875 L 4.21875 -3.65625 C 4 -3.644531 3.789062 -3.625 3.59375 -3.59375 C 3.394531 -3.570312 3.21875 -3.515625 3.0625 -3.421875 C 2.914062 -3.335938 2.796875 -3.210938 2.703125 -3.046875 C 2.617188 -2.890625 2.578125 -2.675781 2.578125 -2.40625 C 2.578125 -2.03125 2.664062 -1.75 2.84375 -1.5625 C 3.019531 -1.382812 3.25 -1.296875 3.53125 -1.296875 C 3.800781 -1.296875 4.039062 -1.347656 4.25 -1.453125 C 4.46875 -1.566406 4.648438 -1.710938 4.796875 -1.890625 C 4.953125 -2.078125 5.070312 -2.289062 5.15625 -2.53125 C 5.238281 -2.769531 5.28125 -3.015625 5.28125 -3.265625 Z M 5.28125 -3.671875 \"/>\n",
       "</symbol>\n",
       "<symbol overflow=\"visible\" id=\"glyph5-16\">\n",
       "<path style=\"stroke:none;\" d=\"M 5.828125 -1.546875 C 6.234375 -1.546875 6.582031 -1.601562 6.875 -1.71875 C 7.164062 -1.832031 7.421875 -1.984375 7.640625 -2.171875 C 7.859375 -2.359375 8.039062 -2.566406 8.1875 -2.796875 C 8.332031 -3.035156 8.453125 -3.273438 8.546875 -3.515625 L 10.421875 -2.8125 C 10.273438 -2.4375 10.078125 -2.066406 9.828125 -1.703125 C 9.585938 -1.347656 9.28125 -1.035156 8.90625 -0.765625 C 8.539062 -0.492188 8.101562 -0.273438 7.59375 -0.109375 C 7.09375 0.0546875 6.503906 0.140625 5.828125 0.140625 C 4.929688 0.140625 4.15625 0.0078125 3.5 -0.25 C 2.84375 -0.519531 2.300781 -0.890625 1.875 -1.359375 C 1.445312 -1.835938 1.128906 -2.40625 0.921875 -3.0625 C 0.710938 -3.71875 0.609375 -4.429688 0.609375 -5.203125 C 0.609375 -6.015625 0.710938 -6.742188 0.921875 -7.390625 C 1.128906 -8.035156 1.441406 -8.585938 1.859375 -9.046875 C 2.285156 -9.503906 2.816406 -9.851562 3.453125 -10.09375 C 4.097656 -10.34375 4.859375 -10.46875 5.734375 -10.46875 C 6.398438 -10.46875 6.984375 -10.394531 7.484375 -10.25 C 7.992188 -10.113281 8.429688 -9.914062 8.796875 -9.65625 C 9.171875 -9.40625 9.476562 -9.101562 9.71875 -8.75 C 9.957031 -8.40625 10.148438 -8.023438 10.296875 -7.609375 L 8.390625 -7.078125 C 8.316406 -7.296875 8.207031 -7.503906 8.0625 -7.703125 C 7.925781 -7.910156 7.75 -8.09375 7.53125 -8.25 C 7.3125 -8.40625 7.054688 -8.53125 6.765625 -8.625 C 6.472656 -8.726562 6.140625 -8.78125 5.765625 -8.78125 C 5.242188 -8.78125 4.796875 -8.691406 4.421875 -8.515625 C 4.046875 -8.347656 3.738281 -8.109375 3.5 -7.796875 C 3.257812 -7.484375 3.082031 -7.109375 2.96875 -6.671875 C 2.851562 -6.234375 2.796875 -5.742188 2.796875 -5.203125 C 2.796875 -4.671875 2.851562 -4.179688 2.96875 -3.734375 C 3.082031 -3.285156 3.257812 -2.898438 3.5 -2.578125 C 3.75 -2.253906 4.0625 -2 4.4375 -1.8125 C 4.820312 -1.632812 5.285156 -1.546875 5.828125 -1.546875 Z M 5.828125 -1.546875 \"/>\n",
       "</symbol>\n",
       "<symbol overflow=\"visible\" id=\"glyph5-17\">\n",
       "<path style=\"stroke:none;\" d=\"M 3.078125 -6.34375 C 3.359375 -6.945312 3.707031 -7.382812 4.125 -7.65625 C 4.539062 -7.9375 5.039062 -8.078125 5.625 -8.078125 C 6.101562 -8.078125 6.503906 -8 6.828125 -7.84375 C 7.160156 -7.6875 7.429688 -7.46875 7.640625 -7.1875 C 7.847656 -6.914062 8 -6.59375 8.09375 -6.21875 C 8.1875 -5.851562 8.234375 -5.457031 8.234375 -5.03125 L 8.234375 0 L 6.1875 0 L 6.1875 -4.4375 C 6.1875 -4.75 6.160156 -5.03125 6.109375 -5.28125 C 6.054688 -5.539062 5.972656 -5.757812 5.859375 -5.9375 C 5.753906 -6.125 5.609375 -6.269531 5.421875 -6.375 C 5.242188 -6.476562 5.023438 -6.53125 4.765625 -6.53125 C 4.515625 -6.53125 4.285156 -6.472656 4.078125 -6.359375 C 3.878906 -6.253906 3.707031 -6.097656 3.5625 -5.890625 C 3.414062 -5.691406 3.300781 -5.453125 3.21875 -5.171875 C 3.144531 -4.890625 3.109375 -4.578125 3.109375 -4.234375 L 3.109375 0 L 1.046875 0 L 1.046875 -10.875 L 3.109375 -10.875 L 3.109375 -7.90625 C 3.109375 -7.75 3.101562 -7.585938 3.09375 -7.421875 C 3.09375 -7.265625 3.085938 -7.117188 3.078125 -6.984375 C 3.066406 -6.847656 3.054688 -6.722656 3.046875 -6.609375 C 3.046875 -6.492188 3.046875 -6.40625 3.046875 -6.34375 Z M 3.078125 -6.34375 \"/>\n",
       "</symbol>\n",
       "<symbol overflow=\"visible\" id=\"glyph5-18\">\n",
       "<path style=\"stroke:none;\" d=\"M 3.46875 -6.53125 L 3.46875 0 L 1.40625 0 L 1.40625 -6.53125 L 0.25 -6.53125 L 0.25 -7.921875 L 1.40625 -7.921875 L 1.40625 -8.75 C 1.40625 -9.050781 1.441406 -9.328125 1.515625 -9.578125 C 1.597656 -9.835938 1.722656 -10.0625 1.890625 -10.25 C 2.066406 -10.445312 2.300781 -10.597656 2.59375 -10.703125 C 2.894531 -10.816406 3.269531 -10.875 3.71875 -10.875 C 3.957031 -10.875 4.1875 -10.859375 4.40625 -10.828125 C 4.632812 -10.804688 4.84375 -10.78125 5.03125 -10.75 L 5.03125 -9.421875 C 4.9375 -9.441406 4.832031 -9.457031 4.71875 -9.46875 C 4.613281 -9.488281 4.515625 -9.5 4.421875 -9.5 C 4.234375 -9.5 4.078125 -9.476562 3.953125 -9.4375 C 3.828125 -9.394531 3.726562 -9.332031 3.65625 -9.25 C 3.582031 -9.175781 3.53125 -9.078125 3.5 -8.953125 C 3.476562 -8.835938 3.46875 -8.703125 3.46875 -8.546875 L 3.46875 -7.921875 L 5.03125 -7.921875 L 5.03125 -6.53125 Z M 3.46875 -6.53125 \"/>\n",
       "</symbol>\n",
       "<symbol overflow=\"visible\" id=\"glyph5-19\">\n",
       "<path style=\"stroke:none;\" d=\"M 8.296875 0 L 7.390625 -2.640625 L 3.453125 -2.640625 L 2.53125 0 L 0.375 0 L 4.140625 -10.3125 L 6.6875 -10.3125 L 10.4375 0 Z M 5.875 -7.234375 C 5.820312 -7.398438 5.765625 -7.566406 5.703125 -7.734375 C 5.648438 -7.910156 5.601562 -8.070312 5.5625 -8.21875 C 5.519531 -8.363281 5.484375 -8.484375 5.453125 -8.578125 C 5.429688 -8.671875 5.414062 -8.722656 5.40625 -8.734375 C 5.40625 -8.710938 5.390625 -8.65625 5.359375 -8.5625 C 5.335938 -8.476562 5.304688 -8.363281 5.265625 -8.21875 C 5.222656 -8.070312 5.175781 -7.910156 5.125 -7.734375 C 5.070312 -7.566406 5.015625 -7.398438 4.953125 -7.234375 L 3.9375 -4.265625 L 6.90625 -4.265625 Z M 5.875 -7.234375 \"/>\n",
       "</symbol>\n",
       "<symbol overflow=\"visible\" id=\"glyph5-20\">\n",
       "<path style=\"stroke:none;\" d=\"M 1.046875 -9.359375 L 1.046875 -10.875 L 3.109375 -10.875 L 3.109375 -9.359375 Z M 1.046875 0 L 1.046875 -7.921875 L 3.109375 -7.921875 L 3.109375 0 Z M 1.046875 0 \"/>\n",
       "</symbol>\n",
       "<symbol overflow=\"visible\" id=\"glyph5-21\">\n",
       "<path style=\"stroke:none;\" d=\"M 5.71875 0 L 5.71875 -4.453125 C 5.71875 -4.753906 5.695312 -5.03125 5.65625 -5.28125 C 5.613281 -5.539062 5.539062 -5.757812 5.4375 -5.9375 C 5.34375 -6.125 5.21875 -6.269531 5.0625 -6.375 C 4.914062 -6.476562 4.734375 -6.53125 4.515625 -6.53125 C 4.304688 -6.53125 4.113281 -6.472656 3.9375 -6.359375 C 3.769531 -6.253906 3.625 -6.097656 3.5 -5.890625 C 3.375 -5.691406 3.273438 -5.453125 3.203125 -5.171875 C 3.140625 -4.890625 3.109375 -4.582031 3.109375 -4.25 L 3.109375 0 L 1.046875 0 L 1.046875 -6.15625 C 1.046875 -6.320312 1.046875 -6.492188 1.046875 -6.671875 C 1.046875 -6.859375 1.039062 -7.03125 1.03125 -7.1875 C 1.019531 -7.351562 1.007812 -7.5 1 -7.625 C 1 -7.757812 0.992188 -7.859375 0.984375 -7.921875 L 2.953125 -7.921875 C 2.960938 -7.867188 2.972656 -7.773438 2.984375 -7.640625 C 2.992188 -7.515625 3.003906 -7.375 3.015625 -7.21875 C 3.023438 -7.0625 3.03125 -6.90625 3.03125 -6.75 C 3.039062 -6.59375 3.046875 -6.457031 3.046875 -6.34375 L 3.078125 -6.34375 C 3.328125 -6.957031 3.640625 -7.398438 4.015625 -7.671875 C 4.398438 -7.941406 4.859375 -8.078125 5.390625 -8.078125 C 5.992188 -8.078125 6.476562 -7.925781 6.84375 -7.625 C 7.207031 -7.332031 7.457031 -6.90625 7.59375 -6.34375 L 7.625 -6.34375 C 7.769531 -6.675781 7.921875 -6.953125 8.078125 -7.171875 C 8.242188 -7.390625 8.425781 -7.566406 8.625 -7.703125 C 8.820312 -7.835938 9.035156 -7.929688 9.265625 -7.984375 C 9.503906 -8.046875 9.757812 -8.078125 10.03125 -8.078125 C 10.46875 -8.078125 10.835938 -8 11.140625 -7.84375 C 11.441406 -7.6875 11.6875 -7.472656 11.875 -7.203125 C 12.0625 -6.929688 12.195312 -6.609375 12.28125 -6.234375 C 12.363281 -5.859375 12.40625 -5.457031 12.40625 -5.03125 L 12.40625 0 L 10.359375 0 L 10.359375 -4.453125 C 10.359375 -4.753906 10.335938 -5.03125 10.296875 -5.28125 C 10.253906 -5.539062 10.1875 -5.757812 10.09375 -5.9375 C 10 -6.125 9.875 -6.269531 9.71875 -6.375 C 9.570312 -6.476562 9.382812 -6.53125 9.15625 -6.53125 C 8.957031 -6.53125 8.769531 -6.476562 8.59375 -6.375 C 8.425781 -6.269531 8.28125 -6.117188 8.15625 -5.921875 C 8.03125 -5.734375 7.929688 -5.503906 7.859375 -5.234375 C 7.796875 -4.960938 7.757812 -4.664062 7.75 -4.34375 L 7.75 0 Z M 5.71875 0 \"/>\n",
       "</symbol>\n",
       "<symbol overflow=\"visible\" id=\"glyph5-22\">\n",
       "<path style=\"stroke:none;\" d=\"M 7.734375 -2.3125 C 7.734375 -1.9375 7.648438 -1.59375 7.484375 -1.28125 C 7.328125 -0.976562 7.097656 -0.722656 6.796875 -0.515625 C 6.492188 -0.304688 6.125 -0.144531 5.6875 -0.03125 C 5.25 0.0820312 4.75 0.140625 4.1875 0.140625 C 3.675781 0.140625 3.21875 0.101562 2.8125 0.03125 C 2.414062 -0.0390625 2.0625 -0.160156 1.75 -0.328125 C 1.445312 -0.492188 1.191406 -0.710938 0.984375 -0.984375 C 0.785156 -1.253906 0.632812 -1.585938 0.53125 -1.984375 L 2.34375 -2.25 C 2.394531 -2.03125 2.472656 -1.851562 2.578125 -1.71875 C 2.679688 -1.582031 2.804688 -1.476562 2.953125 -1.40625 C 3.109375 -1.332031 3.285156 -1.28125 3.484375 -1.25 C 3.691406 -1.226562 3.925781 -1.21875 4.1875 -1.21875 C 4.414062 -1.21875 4.628906 -1.226562 4.828125 -1.25 C 5.035156 -1.28125 5.210938 -1.328125 5.359375 -1.390625 C 5.515625 -1.460938 5.632812 -1.554688 5.71875 -1.671875 C 5.800781 -1.796875 5.84375 -1.945312 5.84375 -2.125 C 5.84375 -2.332031 5.78125 -2.492188 5.65625 -2.609375 C 5.539062 -2.734375 5.378906 -2.832031 5.171875 -2.90625 C 4.960938 -2.976562 4.71875 -3.039062 4.4375 -3.09375 C 4.15625 -3.15625 3.851562 -3.222656 3.53125 -3.296875 C 3.207031 -3.367188 2.882812 -3.457031 2.5625 -3.5625 C 2.238281 -3.664062 1.945312 -3.800781 1.6875 -3.96875 C 1.4375 -4.144531 1.234375 -4.367188 1.078125 -4.640625 C 0.921875 -4.910156 0.84375 -5.253906 0.84375 -5.671875 C 0.84375 -6.046875 0.914062 -6.378906 1.0625 -6.671875 C 1.207031 -6.972656 1.421875 -7.226562 1.703125 -7.4375 C 1.984375 -7.644531 2.332031 -7.800781 2.75 -7.90625 C 3.175781 -8.019531 3.660156 -8.078125 4.203125 -8.078125 C 4.628906 -8.078125 5.023438 -8.035156 5.390625 -7.953125 C 5.765625 -7.878906 6.097656 -7.753906 6.390625 -7.578125 C 6.679688 -7.398438 6.925781 -7.175781 7.125 -6.90625 C 7.320312 -6.644531 7.460938 -6.320312 7.546875 -5.9375 L 5.71875 -5.75 C 5.6875 -5.9375 5.625 -6.09375 5.53125 -6.21875 C 5.445312 -6.34375 5.335938 -6.441406 5.203125 -6.515625 C 5.078125 -6.585938 4.925781 -6.632812 4.75 -6.65625 C 4.582031 -6.6875 4.398438 -6.703125 4.203125 -6.703125 C 3.710938 -6.703125 3.34375 -6.640625 3.09375 -6.515625 C 2.851562 -6.390625 2.734375 -6.179688 2.734375 -5.890625 C 2.734375 -5.710938 2.78125 -5.566406 2.875 -5.453125 C 2.976562 -5.347656 3.117188 -5.257812 3.296875 -5.1875 C 3.484375 -5.125 3.703125 -5.066406 3.953125 -5.015625 C 4.210938 -4.960938 4.488281 -4.898438 4.78125 -4.828125 C 5.144531 -4.742188 5.503906 -4.648438 5.859375 -4.546875 C 6.210938 -4.441406 6.523438 -4.296875 6.796875 -4.109375 C 7.078125 -3.929688 7.300781 -3.695312 7.46875 -3.40625 C 7.644531 -3.125 7.734375 -2.757812 7.734375 -2.3125 Z M 7.734375 -2.3125 \"/>\n",
       "</symbol>\n",
       "<symbol overflow=\"visible\" id=\"glyph5-23\">\n",
       "<path style=\"stroke:none;\" d=\"M 6.1875 0 L 6.1875 -4.453125 C 6.1875 -4.753906 6.160156 -5.03125 6.109375 -5.28125 C 6.054688 -5.539062 5.972656 -5.757812 5.859375 -5.9375 C 5.753906 -6.125 5.609375 -6.269531 5.421875 -6.375 C 5.242188 -6.476562 5.023438 -6.53125 4.765625 -6.53125 C 4.515625 -6.53125 4.285156 -6.472656 4.078125 -6.359375 C 3.878906 -6.253906 3.707031 -6.097656 3.5625 -5.890625 C 3.414062 -5.691406 3.300781 -5.453125 3.21875 -5.171875 C 3.144531 -4.890625 3.109375 -4.582031 3.109375 -4.25 L 3.109375 0 L 1.046875 0 L 1.046875 -6.15625 C 1.046875 -6.320312 1.046875 -6.492188 1.046875 -6.671875 C 1.046875 -6.859375 1.039062 -7.03125 1.03125 -7.1875 C 1.019531 -7.351562 1.007812 -7.5 1 -7.625 C 1 -7.757812 0.992188 -7.859375 0.984375 -7.921875 L 2.953125 -7.921875 C 2.960938 -7.867188 2.972656 -7.773438 2.984375 -7.640625 C 2.992188 -7.515625 3.003906 -7.375 3.015625 -7.21875 C 3.023438 -7.0625 3.03125 -6.90625 3.03125 -6.75 C 3.039062 -6.59375 3.046875 -6.457031 3.046875 -6.34375 L 3.078125 -6.34375 C 3.359375 -6.957031 3.707031 -7.398438 4.125 -7.671875 C 4.539062 -7.941406 5.039062 -8.078125 5.625 -8.078125 C 6.101562 -8.078125 6.503906 -8 6.828125 -7.84375 C 7.160156 -7.6875 7.429688 -7.472656 7.640625 -7.203125 C 7.847656 -6.929688 8 -6.609375 8.09375 -6.234375 C 8.1875 -5.859375 8.234375 -5.457031 8.234375 -5.03125 L 8.234375 0 Z M 6.1875 0 \"/>\n",
       "</symbol>\n",
       "<symbol overflow=\"visible\" id=\"glyph5-24\">\n",
       "<path style=\"stroke:none;\" d=\"M 6.109375 0 L 3.921875 0 L 0.109375 -10.3125 L 2.359375 -10.3125 L 4.484375 -3.6875 C 4.546875 -3.46875 4.609375 -3.242188 4.671875 -3.015625 C 4.742188 -2.785156 4.804688 -2.578125 4.859375 -2.390625 C 4.910156 -2.160156 4.96875 -1.945312 5.03125 -1.75 C 5.070312 -1.945312 5.117188 -2.15625 5.171875 -2.375 C 5.222656 -2.5625 5.28125 -2.769531 5.34375 -3 C 5.414062 -3.226562 5.484375 -3.457031 5.546875 -3.6875 L 7.671875 -10.3125 L 9.90625 -10.3125 Z M 6.109375 0 \"/>\n",
       "</symbol>\n",
       "<symbol overflow=\"visible\" id=\"glyph5-25\">\n",
       "<path style=\"stroke:none;\" d=\"M 4.34375 0.140625 C 3.71875 0.140625 3.171875 0.046875 2.703125 -0.140625 C 2.234375 -0.335938 1.84375 -0.613281 1.53125 -0.96875 C 1.21875 -1.332031 0.984375 -1.765625 0.828125 -2.265625 C 0.671875 -2.765625 0.59375 -3.316406 0.59375 -3.921875 C 0.59375 -4.578125 0.675781 -5.160156 0.84375 -5.671875 C 1.007812 -6.191406 1.253906 -6.628906 1.578125 -6.984375 C 1.898438 -7.335938 2.296875 -7.609375 2.765625 -7.796875 C 3.242188 -7.984375 3.78125 -8.078125 4.375 -8.078125 C 4.894531 -8.078125 5.351562 -8.003906 5.75 -7.859375 C 6.144531 -7.722656 6.484375 -7.535156 6.765625 -7.296875 C 7.054688 -7.066406 7.289062 -6.789062 7.46875 -6.46875 C 7.644531 -6.144531 7.769531 -5.796875 7.84375 -5.421875 L 5.765625 -5.328125 C 5.710938 -5.734375 5.566406 -6.054688 5.328125 -6.296875 C 5.097656 -6.535156 4.769531 -6.65625 4.34375 -6.65625 C 3.789062 -6.65625 3.382812 -6.425781 3.125 -5.96875 C 2.875 -5.519531 2.75 -4.863281 2.75 -4 C 2.75 -2.175781 3.285156 -1.265625 4.359375 -1.265625 C 4.753906 -1.265625 5.082031 -1.382812 5.34375 -1.625 C 5.613281 -1.875 5.78125 -2.242188 5.84375 -2.734375 L 7.90625 -2.640625 C 7.851562 -2.273438 7.738281 -1.921875 7.5625 -1.578125 C 7.394531 -1.242188 7.160156 -0.945312 6.859375 -0.6875 C 6.566406 -0.4375 6.207031 -0.234375 5.78125 -0.078125 C 5.363281 0.0664062 4.882812 0.140625 4.34375 0.140625 Z M 4.34375 0.140625 \"/>\n",
       "</symbol>\n",
       "<symbol overflow=\"visible\" id=\"glyph5-26\">\n",
       "<path style=\"stroke:none;\" d=\"M 4.140625 -1.65625 L 6.125 -7.921875 L 8.28125 -7.921875 L 5.359375 0 L 2.890625 0 L 0.0625 -7.921875 L 2.234375 -7.921875 Z M 4.140625 -1.65625 \"/>\n",
       "</symbol>\n",
       "</g>\n",
       "<clipPath id=\"clip1\">\n",
       "  <path d=\"M 46.152344 405 L 386.84375 405 L 386.84375 407 L 46.152344 407 Z M 46.152344 405 \"/>\n",
       "</clipPath>\n",
       "<clipPath id=\"clip2\">\n",
       "  <path d=\"M 46.152344 324 L 386.84375 324 L 386.84375 326 L 46.152344 326 Z M 46.152344 324 \"/>\n",
       "</clipPath>\n",
       "<clipPath id=\"clip3\">\n",
       "  <path d=\"M 46.152344 243 L 386.84375 243 L 386.84375 244 L 46.152344 244 Z M 46.152344 243 \"/>\n",
       "</clipPath>\n",
       "<clipPath id=\"clip4\">\n",
       "  <path d=\"M 46.152344 162 L 386.84375 162 L 386.84375 163 L 46.152344 163 Z M 46.152344 162 \"/>\n",
       "</clipPath>\n",
       "<clipPath id=\"clip5\">\n",
       "  <path d=\"M 46.152344 80 L 386.84375 80 L 386.84375 82 L 46.152344 82 Z M 46.152344 80 \"/>\n",
       "</clipPath>\n",
       "<clipPath id=\"clip6\">\n",
       "  <path d=\"M 46.152344 446 L 386.84375 446 L 386.84375 448 L 46.152344 448 Z M 46.152344 446 \"/>\n",
       "</clipPath>\n",
       "<clipPath id=\"clip7\">\n",
       "  <path d=\"M 46.152344 364 L 386.84375 364 L 386.84375 367 L 46.152344 367 Z M 46.152344 364 \"/>\n",
       "</clipPath>\n",
       "<clipPath id=\"clip8\">\n",
       "  <path d=\"M 46.152344 283 L 386.84375 283 L 386.84375 285 L 46.152344 285 Z M 46.152344 283 \"/>\n",
       "</clipPath>\n",
       "<clipPath id=\"clip9\">\n",
       "  <path d=\"M 46.152344 202 L 386.84375 202 L 386.84375 204 L 46.152344 204 Z M 46.152344 202 \"/>\n",
       "</clipPath>\n",
       "<clipPath id=\"clip10\">\n",
       "  <path d=\"M 46.152344 121 L 386.84375 121 L 386.84375 123 L 46.152344 123 Z M 46.152344 121 \"/>\n",
       "</clipPath>\n",
       "<clipPath id=\"clip11\">\n",
       "  <path d=\"M 46.152344 40 L 386.84375 40 L 386.84375 42 L 46.152344 42 Z M 46.152344 40 \"/>\n",
       "</clipPath>\n",
       "<clipPath id=\"clip12\">\n",
       "  <path d=\"M 138 24.957031 L 140 24.957031 L 140 466.847656 L 138 466.847656 Z M 138 24.957031 \"/>\n",
       "</clipPath>\n",
       "<clipPath id=\"clip13\">\n",
       "  <path d=\"M 293 24.957031 L 295 24.957031 L 295 466.847656 L 293 466.847656 Z M 293 24.957031 \"/>\n",
       "</clipPath>\n",
       "</defs>\n",
       "<g id=\"surface230\">\n",
       "<rect x=\"0\" y=\"0\" width=\"504\" height=\"504\" style=\"fill:rgb(100%,100%,100%);fill-opacity:1;stroke:none;\"/>\n",
       "<g clip-path=\"url(#clip1)\" clip-rule=\"nonzero\">\n",
       "<path style=\"fill:none;stroke-width:0.533489;stroke-linecap:butt;stroke-linejoin:round;stroke:rgb(92.156863%,92.156863%,92.156863%);stroke-opacity:1;stroke-miterlimit:10;\" d=\"M 46.152344 406.144531 L 386.84375 406.144531 \"/>\n",
       "</g>\n",
       "<g clip-path=\"url(#clip2)\" clip-rule=\"nonzero\">\n",
       "<path style=\"fill:none;stroke-width:0.533489;stroke-linecap:butt;stroke-linejoin:round;stroke:rgb(92.156863%,92.156863%,92.156863%);stroke-opacity:1;stroke-miterlimit:10;\" d=\"M 46.152344 324.90625 L 386.84375 324.90625 \"/>\n",
       "</g>\n",
       "<g clip-path=\"url(#clip3)\" clip-rule=\"nonzero\">\n",
       "<path style=\"fill:none;stroke-width:0.533489;stroke-linecap:butt;stroke-linejoin:round;stroke:rgb(92.156863%,92.156863%,92.156863%);stroke-opacity:1;stroke-miterlimit:10;\" d=\"M 46.152344 243.671875 L 386.84375 243.671875 \"/>\n",
       "</g>\n",
       "<g clip-path=\"url(#clip4)\" clip-rule=\"nonzero\">\n",
       "<path style=\"fill:none;stroke-width:0.533489;stroke-linecap:butt;stroke-linejoin:round;stroke:rgb(92.156863%,92.156863%,92.156863%);stroke-opacity:1;stroke-miterlimit:10;\" d=\"M 46.152344 162.433594 L 386.84375 162.433594 \"/>\n",
       "</g>\n",
       "<g clip-path=\"url(#clip5)\" clip-rule=\"nonzero\">\n",
       "<path style=\"fill:none;stroke-width:0.533489;stroke-linecap:butt;stroke-linejoin:round;stroke:rgb(92.156863%,92.156863%,92.156863%);stroke-opacity:1;stroke-miterlimit:10;\" d=\"M 46.152344 81.195312 L 386.84375 81.195312 \"/>\n",
       "</g>\n",
       "<g clip-path=\"url(#clip6)\" clip-rule=\"nonzero\">\n",
       "<path style=\"fill:none;stroke-width:1.066978;stroke-linecap:butt;stroke-linejoin:round;stroke:rgb(92.156863%,92.156863%,92.156863%);stroke-opacity:1;stroke-miterlimit:10;\" d=\"M 46.152344 446.761719 L 386.84375 446.761719 \"/>\n",
       "</g>\n",
       "<g clip-path=\"url(#clip7)\" clip-rule=\"nonzero\">\n",
       "<path style=\"fill:none;stroke-width:1.066978;stroke-linecap:butt;stroke-linejoin:round;stroke:rgb(92.156863%,92.156863%,92.156863%);stroke-opacity:1;stroke-miterlimit:10;\" d=\"M 46.152344 365.527344 L 386.84375 365.527344 \"/>\n",
       "</g>\n",
       "<g clip-path=\"url(#clip8)\" clip-rule=\"nonzero\">\n",
       "<path style=\"fill:none;stroke-width:1.066978;stroke-linecap:butt;stroke-linejoin:round;stroke:rgb(92.156863%,92.156863%,92.156863%);stroke-opacity:1;stroke-miterlimit:10;\" d=\"M 46.152344 284.289062 L 386.84375 284.289062 \"/>\n",
       "</g>\n",
       "<g clip-path=\"url(#clip9)\" clip-rule=\"nonzero\">\n",
       "<path style=\"fill:none;stroke-width:1.066978;stroke-linecap:butt;stroke-linejoin:round;stroke:rgb(92.156863%,92.156863%,92.156863%);stroke-opacity:1;stroke-miterlimit:10;\" d=\"M 46.152344 203.050781 L 386.84375 203.050781 \"/>\n",
       "</g>\n",
       "<g clip-path=\"url(#clip10)\" clip-rule=\"nonzero\">\n",
       "<path style=\"fill:none;stroke-width:1.066978;stroke-linecap:butt;stroke-linejoin:round;stroke:rgb(92.156863%,92.156863%,92.156863%);stroke-opacity:1;stroke-miterlimit:10;\" d=\"M 46.152344 121.8125 L 386.84375 121.8125 \"/>\n",
       "</g>\n",
       "<g clip-path=\"url(#clip11)\" clip-rule=\"nonzero\">\n",
       "<path style=\"fill:none;stroke-width:1.066978;stroke-linecap:butt;stroke-linejoin:round;stroke:rgb(92.156863%,92.156863%,92.156863%);stroke-opacity:1;stroke-miterlimit:10;\" d=\"M 46.152344 40.578125 L 386.84375 40.578125 \"/>\n",
       "</g>\n",
       "<g clip-path=\"url(#clip12)\" clip-rule=\"nonzero\">\n",
       "<path style=\"fill:none;stroke-width:1.066978;stroke-linecap:butt;stroke-linejoin:round;stroke:rgb(92.156863%,92.156863%,92.156863%);stroke-opacity:1;stroke-miterlimit:10;\" d=\"M 139.066406 466.847656 L 139.066406 24.957031 \"/>\n",
       "</g>\n",
       "<g clip-path=\"url(#clip13)\" clip-rule=\"nonzero\">\n",
       "<path style=\"fill:none;stroke-width:1.066978;stroke-linecap:butt;stroke-linejoin:round;stroke:rgb(92.156863%,92.156863%,92.156863%);stroke-opacity:1;stroke-miterlimit:10;\" d=\"M 293.925781 466.847656 L 293.925781 24.957031 \"/>\n",
       "</g>\n",
       "<path style=\" stroke:none;fill-rule:nonzero;fill:rgb(39.215686%,58.431373%,92.941176%);fill-opacity:1;\" d=\"M 115.835938 446.761719 L 162.292969 446.761719 L 162.292969 380.8125 L 115.835938 380.8125 Z M 115.835938 446.761719 \"/>\n",
       "<path style=\" stroke:none;fill-rule:nonzero;fill:rgb(100%,49.803922%,31.372549%);fill-opacity:1;\" d=\"M 162.296875 446.761719 L 208.753906 446.761719 L 208.753906 361.816406 L 162.296875 361.816406 Z M 162.296875 446.761719 \"/>\n",
       "<path style=\" stroke:none;fill-rule:nonzero;fill:rgb(40%,80.392157%,66.666667%);fill-opacity:1;\" d=\"M 69.378906 446.761719 L 115.835938 446.761719 L 115.835938 45.042969 L 69.378906 45.042969 Z M 69.378906 446.761719 \"/>\n",
       "<path style=\" stroke:none;fill-rule:nonzero;fill:rgb(39.215686%,58.431373%,92.941176%);fill-opacity:1;\" d=\"M 270.699219 446.761719 L 317.15625 446.761719 L 317.15625 412.867188 L 270.699219 412.867188 Z M 270.699219 446.761719 \"/>\n",
       "<path style=\" stroke:none;fill-rule:nonzero;fill:rgb(100%,49.803922%,31.372549%);fill-opacity:1;\" d=\"M 317.15625 446.761719 L 363.613281 446.761719 L 363.613281 362.996094 L 317.15625 362.996094 Z M 317.15625 446.761719 \"/>\n",
       "<path style=\" stroke:none;fill-rule:nonzero;fill:rgb(40%,80.392157%,66.666667%);fill-opacity:1;\" d=\"M 224.238281 446.761719 L 270.695312 446.761719 L 270.695312 127.699219 L 224.238281 127.699219 Z M 224.238281 446.761719 \"/>\n",
       "<g style=\"fill:rgb(30.196078%,30.196078%,30.196078%);fill-opacity:1;\">\n",
       "  <use xlink:href=\"#glyph0-1\" x=\"34.21875\" y=\"451.125\"/>\n",
       "</g>\n",
       "<g style=\"fill:rgb(30.196078%,30.196078%,30.196078%);fill-opacity:1;\">\n",
       "  <use xlink:href=\"#glyph0-2\" x=\"27.21875\" y=\"369.890625\"/>\n",
       "  <use xlink:href=\"#glyph0-1\" x=\"34.21875\" y=\"369.890625\"/>\n",
       "</g>\n",
       "<g style=\"fill:rgb(30.196078%,30.196078%,30.196078%);fill-opacity:1;\">\n",
       "  <use xlink:href=\"#glyph0-3\" x=\"20.21875\" y=\"288.652344\"/>\n",
       "  <use xlink:href=\"#glyph0-1\" x=\"27.21875\" y=\"288.652344\"/>\n",
       "  <use xlink:href=\"#glyph0-1\" x=\"34.21875\" y=\"288.652344\"/>\n",
       "</g>\n",
       "<g style=\"fill:rgb(30.196078%,30.196078%,30.196078%);fill-opacity:1;\">\n",
       "  <use xlink:href=\"#glyph0-3\" x=\"20.21875\" y=\"207.414062\"/>\n",
       "  <use xlink:href=\"#glyph0-2\" x=\"27.21875\" y=\"207.414062\"/>\n",
       "  <use xlink:href=\"#glyph0-1\" x=\"34.21875\" y=\"207.414062\"/>\n",
       "</g>\n",
       "<g style=\"fill:rgb(30.196078%,30.196078%,30.196078%);fill-opacity:1;\">\n",
       "  <use xlink:href=\"#glyph0-4\" x=\"20.21875\" y=\"126.175781\"/>\n",
       "  <use xlink:href=\"#glyph0-1\" x=\"27.21875\" y=\"126.175781\"/>\n",
       "  <use xlink:href=\"#glyph0-1\" x=\"34.21875\" y=\"126.175781\"/>\n",
       "</g>\n",
       "<g style=\"fill:rgb(30.196078%,30.196078%,30.196078%);fill-opacity:1;\">\n",
       "  <use xlink:href=\"#glyph0-4\" x=\"20.21875\" y=\"44.941406\"/>\n",
       "  <use xlink:href=\"#glyph0-2\" x=\"27.21875\" y=\"44.941406\"/>\n",
       "  <use xlink:href=\"#glyph0-1\" x=\"34.21875\" y=\"44.941406\"/>\n",
       "</g>\n",
       "<g style=\"fill:rgb(30.196078%,30.196078%,30.196078%);fill-opacity:1;\">\n",
       "  <use xlink:href=\"#glyph0-4\" x=\"109.066406\" y=\"480.644531\"/>\n",
       "  <use xlink:href=\"#glyph0-1\" x=\"116.066406\" y=\"480.644531\"/>\n",
       "  <use xlink:href=\"#glyph0-1\" x=\"123.066406\" y=\"480.644531\"/>\n",
       "  <use xlink:href=\"#glyph0-5\" x=\"130.066406\" y=\"480.644531\"/>\n",
       "  <use xlink:href=\"#glyph0-6\" x=\"137.066406\" y=\"480.644531\"/>\n",
       "  <use xlink:href=\"#glyph0-4\" x=\"141.066406\" y=\"480.644531\"/>\n",
       "  <use xlink:href=\"#glyph0-1\" x=\"148.066406\" y=\"480.644531\"/>\n",
       "  <use xlink:href=\"#glyph0-1\" x=\"155.066406\" y=\"480.644531\"/>\n",
       "  <use xlink:href=\"#glyph0-7\" x=\"162.066406\" y=\"480.644531\"/>\n",
       "</g>\n",
       "<g style=\"fill:rgb(30.196078%,30.196078%,30.196078%);fill-opacity:1;\">\n",
       "  <use xlink:href=\"#glyph0-4\" x=\"263.925781\" y=\"480.644531\"/>\n",
       "  <use xlink:href=\"#glyph0-1\" x=\"270.925781\" y=\"480.644531\"/>\n",
       "  <use xlink:href=\"#glyph0-3\" x=\"277.925781\" y=\"480.644531\"/>\n",
       "  <use xlink:href=\"#glyph0-7\" x=\"284.925781\" y=\"480.644531\"/>\n",
       "  <use xlink:href=\"#glyph0-6\" x=\"291.925781\" y=\"480.644531\"/>\n",
       "  <use xlink:href=\"#glyph0-4\" x=\"295.925781\" y=\"480.644531\"/>\n",
       "  <use xlink:href=\"#glyph0-1\" x=\"302.925781\" y=\"480.644531\"/>\n",
       "  <use xlink:href=\"#glyph0-4\" x=\"309.925781\" y=\"480.644531\"/>\n",
       "  <use xlink:href=\"#glyph0-4\" x=\"316.925781\" y=\"480.644531\"/>\n",
       "</g>\n",
       "<g style=\"fill:rgb(0%,0%,0%);fill-opacity:1;\">\n",
       "  <use xlink:href=\"#glyph1-1\" x=\"183.496094\" y=\"495.382812\"/>\n",
       "  <use xlink:href=\"#glyph1-2\" x=\"190.496094\" y=\"495.382812\"/>\n",
       "  <use xlink:href=\"#glyph1-3\" x=\"197.496094\" y=\"495.382812\"/>\n",
       "  <use xlink:href=\"#glyph1-4\" x=\"204.496094\" y=\"495.382812\"/>\n",
       "  <use xlink:href=\"#glyph1-5\" x=\"209.496094\" y=\"495.382812\"/>\n",
       "  <use xlink:href=\"#glyph1-6\" x=\"212.496094\" y=\"495.382812\"/>\n",
       "  <use xlink:href=\"#glyph1-3\" x=\"221.496094\" y=\"495.382812\"/>\n",
       "  <use xlink:href=\"#glyph1-7\" x=\"228.496094\" y=\"495.382812\"/>\n",
       "  <use xlink:href=\"#glyph1-8\" x=\"235.496094\" y=\"495.382812\"/>\n",
       "  <use xlink:href=\"#glyph1-2\" x=\"242.496094\" y=\"495.382812\"/>\n",
       "</g>\n",
       "<g style=\"fill:rgb(0%,0%,0%);fill-opacity:1;\">\n",
       "  <use xlink:href=\"#glyph2-1\" x=\"14.34375\" y=\"289.902344\"/>\n",
       "  <use xlink:href=\"#glyph2-2\" x=\"14.34375\" y=\"280.902344\"/>\n",
       "  <use xlink:href=\"#glyph2-3\" x=\"14.34375\" y=\"275.902344\"/>\n",
       "  <use xlink:href=\"#glyph2-4\" x=\"14.34375\" y=\"272.902344\"/>\n",
       "  <use xlink:href=\"#glyph2-5\" x=\"14.34375\" y=\"261.902344\"/>\n",
       "  <use xlink:href=\"#glyph2-6\" x=\"14.34375\" y=\"254.902344\"/>\n",
       "  <use xlink:href=\"#glyph2-7\" x=\"14.34375\" y=\"247.902344\"/>\n",
       "  <use xlink:href=\"#glyph2-8\" x=\"14.34375\" y=\"244.902344\"/>\n",
       "  <use xlink:href=\"#glyph2-9\" x=\"14.34375\" y=\"240.902344\"/>\n",
       "  <use xlink:href=\"#glyph2-10\" x=\"14.34375\" y=\"233.902344\"/>\n",
       "  <use xlink:href=\"#glyph2-11\" x=\"14.34375\" y=\"226.902344\"/>\n",
       "  <use xlink:href=\"#glyph2-11\" x=\"14.34375\" y=\"219.902344\"/>\n",
       "  <use xlink:href=\"#glyph2-11\" x=\"14.34375\" y=\"212.902344\"/>\n",
       "  <use xlink:href=\"#glyph2-12\" x=\"14.34375\" y=\"205.902344\"/>\n",
       "</g>\n",
       "<g style=\"fill:rgb(0%,0%,0%);fill-opacity:1;\">\n",
       "  <use xlink:href=\"#glyph3-1\" x=\"403.28125\" y=\"221.204102\"/>\n",
       "  <use xlink:href=\"#glyph3-2\" x=\"411.28125\" y=\"221.204102\"/>\n",
       "  <use xlink:href=\"#glyph3-3\" x=\"415.28125\" y=\"221.204102\"/>\n",
       "  <use xlink:href=\"#glyph3-4\" x=\"417.28125\" y=\"221.204102\"/>\n",
       "  <use xlink:href=\"#glyph3-5\" x=\"426.28125\" y=\"221.204102\"/>\n",
       "  <use xlink:href=\"#glyph3-6\" x=\"432.28125\" y=\"221.204102\"/>\n",
       "  <use xlink:href=\"#glyph3-7\" x=\"435.28125\" y=\"221.204102\"/>\n",
       "  <use xlink:href=\"#glyph3-8\" x=\"441.28125\" y=\"221.204102\"/>\n",
       "  <use xlink:href=\"#glyph3-9\" x=\"447.28125\" y=\"221.204102\"/>\n",
       "  <use xlink:href=\"#glyph3-5\" x=\"453.28125\" y=\"221.204102\"/>\n",
       "</g>\n",
       "<path style=\" stroke:none;fill-rule:nonzero;fill:rgb(40%,80.392157%,66.666667%);fill-opacity:1;\" d=\"M 403.992188 244.296875 L 419.855469 244.296875 L 419.855469 228.433594 L 403.992188 228.433594 Z M 403.992188 244.296875 \"/>\n",
       "<path style=\" stroke:none;fill-rule:nonzero;fill:rgb(39.215686%,58.431373%,92.941176%);fill-opacity:1;\" d=\"M 403.992188 261.574219 L 419.855469 261.574219 L 419.855469 245.710938 L 403.992188 245.710938 Z M 403.992188 261.574219 \"/>\n",
       "<path style=\" stroke:none;fill-rule:nonzero;fill:rgb(100%,49.803922%,31.372549%);fill-opacity:1;\" d=\"M 403.992188 278.855469 L 419.855469 278.855469 L 419.855469 262.992188 L 403.992188 262.992188 Z M 403.992188 278.855469 \"/>\n",
       "<g style=\"fill:rgb(0%,0%,0%);fill-opacity:1;\">\n",
       "  <use xlink:href=\"#glyph4-1\" x=\"426.042969\" y=\"239.829102\"/>\n",
       "  <use xlink:href=\"#glyph4-2\" x=\"432.042969\" y=\"239.829102\"/>\n",
       "  <use xlink:href=\"#glyph4-2\" x=\"434.042969\" y=\"239.829102\"/>\n",
       "  <use xlink:href=\"#glyph4-3\" x=\"436.042969\" y=\"239.829102\"/>\n",
       "  <use xlink:href=\"#glyph4-4\" x=\"438.042969\" y=\"239.829102\"/>\n",
       "  <use xlink:href=\"#glyph4-5\" x=\"444.042969\" y=\"239.829102\"/>\n",
       "  <use xlink:href=\"#glyph4-6\" x=\"447.042969\" y=\"239.829102\"/>\n",
       "  <use xlink:href=\"#glyph4-7\" x=\"449.042969\" y=\"239.829102\"/>\n",
       "  <use xlink:href=\"#glyph4-8\" x=\"456.042969\" y=\"239.829102\"/>\n",
       "  <use xlink:href=\"#glyph4-9\" x=\"461.042969\" y=\"239.829102\"/>\n",
       "</g>\n",
       "<g style=\"fill:rgb(0%,0%,0%);fill-opacity:1;\">\n",
       "  <use xlink:href=\"#glyph4-10\" x=\"426.042969\" y=\"257.110352\"/>\n",
       "  <use xlink:href=\"#glyph4-5\" x=\"432.042969\" y=\"257.110352\"/>\n",
       "  <use xlink:href=\"#glyph4-8\" x=\"435.042969\" y=\"257.110352\"/>\n",
       "  <use xlink:href=\"#glyph4-11\" x=\"440.042969\" y=\"257.110352\"/>\n",
       "  <use xlink:href=\"#glyph4-12\" x=\"445.042969\" y=\"257.110352\"/>\n",
       "  <use xlink:href=\"#glyph4-3\" x=\"449.042969\" y=\"257.110352\"/>\n",
       "  <use xlink:href=\"#glyph4-11\" x=\"451.042969\" y=\"257.110352\"/>\n",
       "  <use xlink:href=\"#glyph4-13\" x=\"456.042969\" y=\"257.110352\"/>\n",
       "  <use xlink:href=\"#glyph4-14\" x=\"461.042969\" y=\"257.110352\"/>\n",
       "  <use xlink:href=\"#glyph4-3\" x=\"466.042969\" y=\"257.110352\"/>\n",
       "  <use xlink:href=\"#glyph4-15\" x=\"468.042969\" y=\"257.110352\"/>\n",
       "  <use xlink:href=\"#glyph4-13\" x=\"474.042969\" y=\"257.110352\"/>\n",
       "  <use xlink:href=\"#glyph4-16\" x=\"479.042969\" y=\"257.110352\"/>\n",
       "  <use xlink:href=\"#glyph4-8\" x=\"481.042969\" y=\"257.110352\"/>\n",
       "  <use xlink:href=\"#glyph4-5\" x=\"486.042969\" y=\"257.110352\"/>\n",
       "  <use xlink:href=\"#glyph4-9\" x=\"489.042969\" y=\"257.110352\"/>\n",
       "</g>\n",
       "<g style=\"fill:rgb(0%,0%,0%);fill-opacity:1;\">\n",
       "  <use xlink:href=\"#glyph4-17\" x=\"426.042969\" y=\"274.391602\"/>\n",
       "  <use xlink:href=\"#glyph4-16\" x=\"433.042969\" y=\"274.391602\"/>\n",
       "  <use xlink:href=\"#glyph4-18\" x=\"435.042969\" y=\"274.391602\"/>\n",
       "  <use xlink:href=\"#glyph4-8\" x=\"440.042969\" y=\"274.391602\"/>\n",
       "  <use xlink:href=\"#glyph4-5\" x=\"445.042969\" y=\"274.391602\"/>\n",
       "  <use xlink:href=\"#glyph4-3\" x=\"448.042969\" y=\"274.391602\"/>\n",
       "  <use xlink:href=\"#glyph4-19\" x=\"450.042969\" y=\"274.391602\"/>\n",
       "  <use xlink:href=\"#glyph4-18\" x=\"455.042969\" y=\"274.391602\"/>\n",
       "  <use xlink:href=\"#glyph4-8\" x=\"460.042969\" y=\"274.391602\"/>\n",
       "  <use xlink:href=\"#glyph4-20\" x=\"465.042969\" y=\"274.391602\"/>\n",
       "  <use xlink:href=\"#glyph4-16\" x=\"467.042969\" y=\"274.391602\"/>\n",
       "  <use xlink:href=\"#glyph4-9\" x=\"469.042969\" y=\"274.391602\"/>\n",
       "</g>\n",
       "<g style=\"fill:rgb(0%,0%,0%);fill-opacity:1;\">\n",
       "  <use xlink:href=\"#glyph5-1\" x=\"46.152344\" y=\"16.05957\"/>\n",
       "  <use xlink:href=\"#glyph5-2\" x=\"56.152344\" y=\"16.05957\"/>\n",
       "  <use xlink:href=\"#glyph5-3\" x=\"60.152344\" y=\"16.05957\"/>\n",
       "  <use xlink:href=\"#glyph5-4\" x=\"69.152344\" y=\"16.05957\"/>\n",
       "  <use xlink:href=\"#glyph5-5\" x=\"74.152344\" y=\"16.05957\"/>\n",
       "  <use xlink:href=\"#glyph5-6\" x=\"78.152344\" y=\"16.05957\"/>\n",
       "  <use xlink:href=\"#glyph5-5\" x=\"86.152344\" y=\"16.05957\"/>\n",
       "  <use xlink:href=\"#glyph5-7\" x=\"90.152344\" y=\"16.05957\"/>\n",
       "  <use xlink:href=\"#glyph5-5\" x=\"95.152344\" y=\"16.05957\"/>\n",
       "  <use xlink:href=\"#glyph5-8\" x=\"99.152344\" y=\"16.05957\"/>\n",
       "  <use xlink:href=\"#glyph5-9\" x=\"111.152344\" y=\"16.05957\"/>\n",
       "  <use xlink:href=\"#glyph5-3\" x=\"117.152344\" y=\"16.05957\"/>\n",
       "  <use xlink:href=\"#glyph5-10\" x=\"126.152344\" y=\"16.05957\"/>\n",
       "  <use xlink:href=\"#glyph5-11\" x=\"135.152344\" y=\"16.05957\"/>\n",
       "  <use xlink:href=\"#glyph5-12\" x=\"144.152344\" y=\"16.05957\"/>\n",
       "  <use xlink:href=\"#glyph5-13\" x=\"152.152344\" y=\"16.05957\"/>\n",
       "  <use xlink:href=\"#glyph5-5\" x=\"161.152344\" y=\"16.05957\"/>\n",
       "  <use xlink:href=\"#glyph5-14\" x=\"165.152344\" y=\"16.05957\"/>\n",
       "  <use xlink:href=\"#glyph5-15\" x=\"176.152344\" y=\"16.05957\"/>\n",
       "  <use xlink:href=\"#glyph5-9\" x=\"184.152344\" y=\"16.05957\"/>\n",
       "  <use xlink:href=\"#glyph5-5\" x=\"190.152344\" y=\"16.05957\"/>\n",
       "  <use xlink:href=\"#glyph5-16\" x=\"194.152344\" y=\"16.05957\"/>\n",
       "  <use xlink:href=\"#glyph5-17\" x=\"205.152344\" y=\"16.05957\"/>\n",
       "  <use xlink:href=\"#glyph5-15\" x=\"214.152344\" y=\"16.05957\"/>\n",
       "  <use xlink:href=\"#glyph5-9\" x=\"222.152344\" y=\"16.05957\"/>\n",
       "  <use xlink:href=\"#glyph5-4\" x=\"228.152344\" y=\"16.05957\"/>\n",
       "  <use xlink:href=\"#glyph5-5\" x=\"233.152344\" y=\"16.05957\"/>\n",
       "  <use xlink:href=\"#glyph5-3\" x=\"237.152344\" y=\"16.05957\"/>\n",
       "  <use xlink:href=\"#glyph5-18\" x=\"246.152344\" y=\"16.05957\"/>\n",
       "  <use xlink:href=\"#glyph5-5\" x=\"251.152344\" y=\"16.05957\"/>\n",
       "  <use xlink:href=\"#glyph5-19\" x=\"255.152344\" y=\"16.05957\"/>\n",
       "  <use xlink:href=\"#glyph5-2\" x=\"266.152344\" y=\"16.05957\"/>\n",
       "  <use xlink:href=\"#glyph5-2\" x=\"270.152344\" y=\"16.05957\"/>\n",
       "  <use xlink:href=\"#glyph5-5\" x=\"274.152344\" y=\"16.05957\"/>\n",
       "  <use xlink:href=\"#glyph5-16\" x=\"278.152344\" y=\"16.05957\"/>\n",
       "  <use xlink:href=\"#glyph5-9\" x=\"289.152344\" y=\"16.05957\"/>\n",
       "  <use xlink:href=\"#glyph5-20\" x=\"295.152344\" y=\"16.05957\"/>\n",
       "  <use xlink:href=\"#glyph5-21\" x=\"299.152344\" y=\"16.05957\"/>\n",
       "  <use xlink:href=\"#glyph5-12\" x=\"312.152344\" y=\"16.05957\"/>\n",
       "  <use xlink:href=\"#glyph5-22\" x=\"320.152344\" y=\"16.05957\"/>\n",
       "  <use xlink:href=\"#glyph5-5\" x=\"328.152344\" y=\"16.05957\"/>\n",
       "  <use xlink:href=\"#glyph5-20\" x=\"332.152344\" y=\"16.05957\"/>\n",
       "  <use xlink:href=\"#glyph5-23\" x=\"336.152344\" y=\"16.05957\"/>\n",
       "  <use xlink:href=\"#glyph5-5\" x=\"345.152344\" y=\"16.05957\"/>\n",
       "  <use xlink:href=\"#glyph5-24\" x=\"349.152344\" y=\"16.05957\"/>\n",
       "  <use xlink:href=\"#glyph5-15\" x=\"358.152344\" y=\"16.05957\"/>\n",
       "  <use xlink:href=\"#glyph5-23\" x=\"366.152344\" y=\"16.05957\"/>\n",
       "  <use xlink:href=\"#glyph5-25\" x=\"375.152344\" y=\"16.05957\"/>\n",
       "  <use xlink:href=\"#glyph5-3\" x=\"383.152344\" y=\"16.05957\"/>\n",
       "  <use xlink:href=\"#glyph5-10\" x=\"392.152344\" y=\"16.05957\"/>\n",
       "  <use xlink:href=\"#glyph5-26\" x=\"401.152344\" y=\"16.05957\"/>\n",
       "  <use xlink:href=\"#glyph5-12\" x=\"409.152344\" y=\"16.05957\"/>\n",
       "  <use xlink:href=\"#glyph5-9\" x=\"417.152344\" y=\"16.05957\"/>\n",
       "</g>\n",
       "</g>\n",
       "</svg>\n"
      ],
      "text/plain": [
       "plot without title"
      ]
     },
     "metadata": {
      "application/pdf": {
       "height": 420,
       "width": 420
      },
      "image/jpeg": {
       "height": 420,
       "width": 420
      },
      "image/png": {
       "height": 420,
       "width": 420
      },
      "image/svg+xml": {
       "height": 420,
       "isolated": true,
       "width": 420
      }
     },
     "output_type": "display_data"
    }
   ],
   "source": [
    "# Plots the number of crimes in each year\n",
    "raw_data_plot <- crimes_table |>\n",
    "    ggplot(aes(x = years, y = crimes/1000, fill = labels)) +\n",
    "    geom_bar(stat = \"identity\", position = \"dodge\") +\n",
    "    labs(title = \"Plot 1 - Grouped Bar Chart of All Crimes in Vancouver\",\n",
    "    x = \"Year Range\",\n",
    "    y = \"Crimes (x1000)\",\n",
    "        fill = \"Crime Type\") +\n",
    "    scale_fill_manual(values = c(\"All Crimes\" = \"aquamarine3\", \"Break and Enters\" = \"cornflower blue\", \"Other Thefts\" = \"coral\")) +\n",
    "    theme_minimal() +\n",
    "    theme(axis.text=element_text(size=12),\n",
    "        axis.title=element_text(size=12,face=\"bold\"),\n",
    "         plot.title = element_text(size = 15, face = \"bold\"))\n",
    "\n",
    "raw_data_plot"
   ]
  },
  {
   "cell_type": "markdown",
   "id": "003d9a99-4737-4464-b1c7-772c57ed6d06",
   "metadata": {},
   "source": [
    "#### Estimating the Parameter ####"
   ]
  },
  {
   "cell_type": "code",
   "execution_count": 10,
   "id": "314aa117-9cad-43c0-b733-64c98753b9d1",
   "metadata": {
    "tags": []
   },
   "outputs": [
    {
     "data": {
      "text/html": [
       "'Table 6 - All Crimes from 2004 - 2008'"
      ],
      "text/latex": [
       "'Table 6 - All Crimes from 2004 - 2008'"
      ],
      "text/markdown": [
       "'Table 6 - All Crimes from 2004 - 2008'"
      ],
      "text/plain": [
       "[1] \"Table 6 - All Crimes from 2004 - 2008\""
      ]
     },
     "metadata": {},
     "output_type": "display_data"
    },
    {
     "data": {
      "text/html": [
       "<table class=\"dataframe\">\n",
       "<caption>A data.frame: 6 × 2</caption>\n",
       "<thead>\n",
       "\t<tr><th></th><th scope=col>TYPE</th><th scope=col>NEIGHBOURHOOD</th></tr>\n",
       "\t<tr><th></th><th scope=col>&lt;chr&gt;</th><th scope=col>&lt;chr&gt;</th></tr>\n",
       "</thead>\n",
       "<tbody>\n",
       "\t<tr><th scope=row>1</th><td>Break and Enter Commercial</td><td>West End</td></tr>\n",
       "\t<tr><th scope=row>2</th><td>Break and Enter Commercial</td><td>West End</td></tr>\n",
       "\t<tr><th scope=row>3</th><td>Break and Enter Commercial</td><td>West End</td></tr>\n",
       "\t<tr><th scope=row>4</th><td>Break and Enter Commercial</td><td>West End</td></tr>\n",
       "\t<tr><th scope=row>5</th><td>Break and Enter Commercial</td><td>West End</td></tr>\n",
       "\t<tr><th scope=row>6</th><td>Break and Enter Commercial</td><td>West End</td></tr>\n",
       "</tbody>\n",
       "</table>\n"
      ],
      "text/latex": [
       "A data.frame: 6 × 2\n",
       "\\begin{tabular}{r|ll}\n",
       "  & TYPE & NEIGHBOURHOOD\\\\\n",
       "  & <chr> & <chr>\\\\\n",
       "\\hline\n",
       "\t1 & Break and Enter Commercial & West End\\\\\n",
       "\t2 & Break and Enter Commercial & West End\\\\\n",
       "\t3 & Break and Enter Commercial & West End\\\\\n",
       "\t4 & Break and Enter Commercial & West End\\\\\n",
       "\t5 & Break and Enter Commercial & West End\\\\\n",
       "\t6 & Break and Enter Commercial & West End\\\\\n",
       "\\end{tabular}\n"
      ],
      "text/markdown": [
       "\n",
       "A data.frame: 6 × 2\n",
       "\n",
       "| <!--/--> | TYPE &lt;chr&gt; | NEIGHBOURHOOD &lt;chr&gt; |\n",
       "|---|---|---|\n",
       "| 1 | Break and Enter Commercial | West End |\n",
       "| 2 | Break and Enter Commercial | West End |\n",
       "| 3 | Break and Enter Commercial | West End |\n",
       "| 4 | Break and Enter Commercial | West End |\n",
       "| 5 | Break and Enter Commercial | West End |\n",
       "| 6 | Break and Enter Commercial | West End |\n",
       "\n"
      ],
      "text/plain": [
       "  TYPE                       NEIGHBOURHOOD\n",
       "1 Break and Enter Commercial West End     \n",
       "2 Break and Enter Commercial West End     \n",
       "3 Break and Enter Commercial West End     \n",
       "4 Break and Enter Commercial West End     \n",
       "5 Break and Enter Commercial West End     \n",
       "6 Break and Enter Commercial West End     "
      ]
     },
     "metadata": {},
     "output_type": "display_data"
    }
   ],
   "source": [
    "# Filters the dataset for years 2004 - 2008 and selects the type of crime and the neighbourhood\n",
    "crime_2004_2008 <- tidy_dataset |>\n",
    "    filter(YEAR %in% (2004:2008)) |>\n",
    "    select(TYPE, NEIGHBOURHOOD)\n",
    "\n",
    "# Prints the first 6 rows of the dataset\n",
    "table_6 <- \"Table 6 - All Crimes from 2004 - 2008\"\n",
    "table_6\n",
    "head(crime_2004_2008)"
   ]
  },
  {
   "cell_type": "code",
   "execution_count": 11,
   "id": "5f544a15-7c97-46cb-b582-8c43fbc92d85",
   "metadata": {
    "tags": []
   },
   "outputs": [
    {
     "name": "stdout",
     "output_type": "stream",
     "text": [
      "[1] \"The estimated proportion of other theft crimes out of all crimes in Vancouver from 2004 - 2008 is 0.21.\"\n",
      "[1] \"The estimated proportion of break and enter crimes out of all crimes in Vancouver from 2004 - 2008 is 0.196.\"\n"
     ]
    }
   ],
   "source": [
    "set.seed(1)\n",
    "\n",
    "# Randomly samples the 2004-2008 crime population (size = 500)\n",
    "sample_2004_2008 <- crime_2004_2008 |>\n",
    "    rep_sample_n(size = 500, replace = FALSE) |>\n",
    "    ungroup() |>\n",
    "    select(-replicate)\n",
    "\n",
    "# Filters for \"Other Theft\" from the random sample\n",
    "other_theft_2004_2008 <- sample_2004_2008 |>\n",
    "    filter(TYPE == \"Other Theft\") \n",
    "\n",
    "# Calculates p̂ for other theft from 2004-2008\n",
    "phat_theft_1 <- nrow(other_theft_2004_2008)/nrow(sample_2004_2008)\n",
    "\n",
    "# Prints the other theft proportion estimate from 2004-2008\n",
    "print(paste0(\"The estimated proportion of other theft crimes out of all crimes in Vancouver from 2004 - 2008 is \", phat_theft_1, \".\"))\n",
    "\n",
    "# Filters for \"Break and Enter Commercial\" and \"Break and Enter Residential/Other\" from the random sample\n",
    "break_and_enter_2004_2008 <- sample_2004_2008 |>\n",
    "    filter(TYPE == \"Break and Enter Commercial\" | TYPE == \"Break and Enter Residential/Other\") \n",
    "\n",
    "# Calculates p̂ for break and enters from 2004-2008\n",
    "phat_bne_1 <- nrow(break_and_enter_2004_2008)/nrow(sample_2004_2008)\n",
    "\n",
    "# Prints the break and enter proportion estimate from 2004-2008\n",
    "print(paste0(\"The estimated proportion of break and enter crimes out of all crimes in Vancouver from 2004 - 2008 is \", phat_bne_1, \".\"))"
   ]
  },
  {
   "cell_type": "markdown",
   "id": "2b130226-fa6c-4106-a960-193df476848f",
   "metadata": {},
   "source": [
    "Now, we will find the sample proportions for the crimes of interest, between 2018 and 2022."
   ]
  },
  {
   "cell_type": "code",
   "execution_count": 12,
   "id": "480d6e76-8985-417e-8656-acf6a22aa18e",
   "metadata": {
    "tags": []
   },
   "outputs": [
    {
     "data": {
      "text/html": [
       "'Table 7 - All Crimes from 2018 - 2022'"
      ],
      "text/latex": [
       "'Table 7 - All Crimes from 2018 - 2022'"
      ],
      "text/markdown": [
       "'Table 7 - All Crimes from 2018 - 2022'"
      ],
      "text/plain": [
       "[1] \"Table 7 - All Crimes from 2018 - 2022\""
      ]
     },
     "metadata": {},
     "output_type": "display_data"
    },
    {
     "data": {
      "text/html": [
       "<table class=\"dataframe\">\n",
       "<caption>A data.frame: 6 × 2</caption>\n",
       "<thead>\n",
       "\t<tr><th></th><th scope=col>TYPE</th><th scope=col>NEIGHBOURHOOD</th></tr>\n",
       "\t<tr><th></th><th scope=col>&lt;chr&gt;</th><th scope=col>&lt;chr&gt;</th></tr>\n",
       "</thead>\n",
       "<tbody>\n",
       "\t<tr><th scope=row>1</th><td>Break and Enter Commercial</td><td>Fairview</td></tr>\n",
       "\t<tr><th scope=row>2</th><td>Break and Enter Commercial</td><td>West End</td></tr>\n",
       "\t<tr><th scope=row>3</th><td>Break and Enter Commercial</td><td>West End</td></tr>\n",
       "\t<tr><th scope=row>4</th><td>Break and Enter Commercial</td><td>West End</td></tr>\n",
       "\t<tr><th scope=row>5</th><td>Break and Enter Commercial</td><td>West End</td></tr>\n",
       "\t<tr><th scope=row>6</th><td>Break and Enter Commercial</td><td>West End</td></tr>\n",
       "</tbody>\n",
       "</table>\n"
      ],
      "text/latex": [
       "A data.frame: 6 × 2\n",
       "\\begin{tabular}{r|ll}\n",
       "  & TYPE & NEIGHBOURHOOD\\\\\n",
       "  & <chr> & <chr>\\\\\n",
       "\\hline\n",
       "\t1 & Break and Enter Commercial & Fairview\\\\\n",
       "\t2 & Break and Enter Commercial & West End\\\\\n",
       "\t3 & Break and Enter Commercial & West End\\\\\n",
       "\t4 & Break and Enter Commercial & West End\\\\\n",
       "\t5 & Break and Enter Commercial & West End\\\\\n",
       "\t6 & Break and Enter Commercial & West End\\\\\n",
       "\\end{tabular}\n"
      ],
      "text/markdown": [
       "\n",
       "A data.frame: 6 × 2\n",
       "\n",
       "| <!--/--> | TYPE &lt;chr&gt; | NEIGHBOURHOOD &lt;chr&gt; |\n",
       "|---|---|---|\n",
       "| 1 | Break and Enter Commercial | Fairview |\n",
       "| 2 | Break and Enter Commercial | West End |\n",
       "| 3 | Break and Enter Commercial | West End |\n",
       "| 4 | Break and Enter Commercial | West End |\n",
       "| 5 | Break and Enter Commercial | West End |\n",
       "| 6 | Break and Enter Commercial | West End |\n",
       "\n"
      ],
      "text/plain": [
       "  TYPE                       NEIGHBOURHOOD\n",
       "1 Break and Enter Commercial Fairview     \n",
       "2 Break and Enter Commercial West End     \n",
       "3 Break and Enter Commercial West End     \n",
       "4 Break and Enter Commercial West End     \n",
       "5 Break and Enter Commercial West End     \n",
       "6 Break and Enter Commercial West End     "
      ]
     },
     "metadata": {},
     "output_type": "display_data"
    }
   ],
   "source": [
    "# Filters the dataset for years 2004 - 2008 and selects the type of crime and the neighbourhood\n",
    "crime_2018_2022 <- tidy_dataset |>\n",
    "    filter(YEAR %in% (2018:2022)) |>\n",
    "    select(TYPE, NEIGHBOURHOOD)\n",
    "\n",
    "# Prints the first 6 rows of the dataset\n",
    "table_7 <- \"Table 7 - All Crimes from 2018 - 2022\"\n",
    "table_7\n",
    "head(crime_2018_2022)"
   ]
  },
  {
   "cell_type": "code",
   "execution_count": 13,
   "id": "c0b5b2a2-c47b-4f46-a1e7-c46254d85850",
   "metadata": {
    "tags": []
   },
   "outputs": [
    {
     "name": "stdout",
     "output_type": "stream",
     "text": [
      "[1] \"The estimated proportion of other theft crimes out of all crimes in Vancouver from 2018 - 2022 is 0.264.\"\n",
      "[1] \"The estimated proportion of break and enter crimes out of all crimes in Vancouver from 2018 - 2022 is 0.148.\"\n"
     ]
    }
   ],
   "source": [
    "set.seed(2)\n",
    "\n",
    "# Randomly samples the 2018-2022 crime population (size = 500)\n",
    "sample_2018_2022 <- crime_2018_2022 |>\n",
    "    rep_sample_n(size = 500, replace = FALSE) |>\n",
    "    ungroup() |>\n",
    "    select(-replicate)\n",
    "\n",
    "# Filters for \"Other Theft\" from the random sample\n",
    "other_theft_2018_2022 <- sample_2018_2022 |>\n",
    "    filter(TYPE == \"Other Theft\") \n",
    "\n",
    "# Calculates p̂ for other theft from 2018-2022\n",
    "phat_theft_2 <- nrow(other_theft_2018_2022)/nrow(sample_2018_2022)\n",
    "\n",
    "# Prints the other theft proportion estimate from 2018-2022\n",
    "print(paste0(\"The estimated proportion of other theft crimes out of all crimes in Vancouver from 2018 - 2022 is \", phat_theft_2, \".\"))\n",
    "\n",
    "# Filters for \"Break and Enter Commercial\" and \"Break and Enter Residential/Other\" from the random sample\n",
    "break_and_enter_2018_2022 <- sample_2018_2022 |>\n",
    "    filter(TYPE == \"Break and Enter Commercial\" | TYPE == \"Break and Enter Residential/Other\") \n",
    "\n",
    "# Calculates p̂ for break and enters from 2018-2022\n",
    "phat_bne_2 <- nrow(break_and_enter_2018_2022)/nrow(sample_2018_2022)\n",
    "\n",
    "# Prints the break and enter proportion estimate from 2018-2022\n",
    "print(paste0(\"The estimated proportion of break and enter crimes out of all crimes in Vancouver from 2018 - 2022 is \", phat_bne_2, \".\"))"
   ]
  },
  {
   "cell_type": "markdown",
   "id": "c3387659-3b22-4f82-9195-120fd25fba8b",
   "metadata": {},
   "source": [
    "Finally, we will calculate the difference in sample proportions—our sample statistic of interest."
   ]
  },
  {
   "cell_type": "code",
   "execution_count": 14,
   "id": "e386a968-a20e-46d1-906e-687be32d6289",
   "metadata": {
    "tags": []
   },
   "outputs": [
    {
     "name": "stdout",
     "output_type": "stream",
     "text": [
      "[1] \"The estimated difference in proportion of other theft crimes from 2018 - 2022 and 2004 - 2008 out of all crimes in Vancouver is 0.054.\"\n",
      "[1] \"The estimated difference in proportion of break and enters from 2018 - 2022 and 2004 - 2008 out of all crimes in Vancouver is -0.048.\"\n"
     ]
    }
   ],
   "source": [
    "# Calculates the difference in sample proportions for other theft\n",
    "phat_theft = phat_theft_2 - phat_theft_1\n",
    "print(paste0(\"The estimated difference in proportion of other theft crimes from 2018 - 2022 and 2004 - 2008 out of all crimes in Vancouver is \", phat_theft, \".\"))\n",
    "\n",
    "\n",
    "# Calculates the difference in sample proportions for break and enters\n",
    "phat_bne = phat_bne_2 - phat_bne_1\n",
    "print(paste0(\"The estimated difference in proportion of break and enters from 2018 - 2022 and 2004 - 2008 out of all crimes in Vancouver is \", phat_bne, \".\"))"
   ]
  },
  {
   "cell_type": "markdown",
   "id": "8293a062-1689-4019-bc95-b87dd4eb8aac",
   "metadata": {},
   "source": [
    "Now, we will visualize our statistic of interest in a table."
   ]
  },
  {
   "cell_type": "code",
   "execution_count": 15,
   "id": "9f8f4bcb-eff4-4c61-966e-391806eb535c",
   "metadata": {},
   "outputs": [
    {
     "data": {
      "text/html": [
       "'Table 8 - Difference in Estimated Proportion of Crimes from 2018 - 2022 and 2004 - 2008'"
      ],
      "text/latex": [
       "'Table 8 - Difference in Estimated Proportion of Crimes from 2018 - 2022 and 2004 - 2008'"
      ],
      "text/markdown": [
       "'Table 8 - Difference in Estimated Proportion of Crimes from 2018 - 2022 and 2004 - 2008'"
      ],
      "text/plain": [
       "[1] \"Table 8 - Difference in Estimated Proportion of Crimes from 2018 - 2022 and 2004 - 2008\""
      ]
     },
     "metadata": {},
     "output_type": "display_data"
    },
    {
     "data": {
      "text/html": [
       "<table class=\"dataframe\">\n",
       "<caption>A tibble: 2 × 2</caption>\n",
       "<thead>\n",
       "\t<tr><th scope=col>crime</th><th scope=col>p_hat</th></tr>\n",
       "\t<tr><th scope=col>&lt;chr&gt;</th><th scope=col>&lt;dbl&gt;</th></tr>\n",
       "</thead>\n",
       "<tbody>\n",
       "\t<tr><td>Other Theft     </td><td> 0.054</td></tr>\n",
       "\t<tr><td>Break and Enters</td><td>-0.048</td></tr>\n",
       "</tbody>\n",
       "</table>\n"
      ],
      "text/latex": [
       "A tibble: 2 × 2\n",
       "\\begin{tabular}{ll}\n",
       " crime & p\\_hat\\\\\n",
       " <chr> & <dbl>\\\\\n",
       "\\hline\n",
       "\t Other Theft      &  0.054\\\\\n",
       "\t Break and Enters & -0.048\\\\\n",
       "\\end{tabular}\n"
      ],
      "text/markdown": [
       "\n",
       "A tibble: 2 × 2\n",
       "\n",
       "| crime &lt;chr&gt; | p_hat &lt;dbl&gt; |\n",
       "|---|---|\n",
       "| Other Theft      |  0.054 |\n",
       "| Break and Enters | -0.048 |\n",
       "\n"
      ],
      "text/plain": [
       "  crime            p_hat \n",
       "1 Other Theft       0.054\n",
       "2 Break and Enters -0.048"
      ]
     },
     "metadata": {},
     "output_type": "display_data"
    }
   ],
   "source": [
    "crime <- c(\"Other Theft\", \"Break and Enters\")\n",
    "p_hat <- c(phat_theft, phat_bne) \n",
    "\n",
    "p_hat_table <- tibble(crime, p_hat)\n",
    "\n",
    "comment(p_hat_table) <- \"Table 8 - Difference in Estimated Proportion of Crimes from 2018 - 2022 and 2004 - 2008\"\n",
    "\n",
    "comment(p_hat_table)\n",
    "p_hat_table "
   ]
  },
  {
   "cell_type": "code",
   "execution_count": null,
   "id": "34b20d06-4df1-40dc-9c2f-20c33e2baf37",
   "metadata": {},
   "outputs": [],
   "source": []
  }
 ],
 "metadata": {
  "kernelspec": {
   "display_name": "R",
   "language": "R",
   "name": "ir"
  },
  "language_info": {
   "codemirror_mode": "r",
   "file_extension": ".r",
   "mimetype": "text/x-r-source",
   "name": "R",
   "pygments_lexer": "r",
   "version": "4.2.3"
  }
 },
 "nbformat": 4,
 "nbformat_minor": 5
}
