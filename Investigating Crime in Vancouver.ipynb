{
 "cells": [
  {
   "cell_type": "markdown",
   "id": "9c21aa36-ff83-4d89-9374-8e037ed2d92e",
   "metadata": {},
   "source": [
    "test"
   ]
  },
  {
   "cell_type": "markdown",
   "id": "3deb0746-4748-4632-9d4f-5b9d1e2df212",
   "metadata": {},
   "source": [
    "test test test test"
   ]
  },
  {
   "cell_type": "code",
   "execution_count": null,
   "id": "e0214152-4296-421a-9b75-3edb921aaad1",
   "metadata": {},
   "outputs": [],
   "source": []
  }
 ],
 "metadata": {
  "kernelspec": {
   "display_name": "R",
   "language": "R",
   "name": "ir"
  },
  "language_info": {
   "codemirror_mode": "r",
   "file_extension": ".r",
   "mimetype": "text/x-r-source",
   "name": "R",
   "pygments_lexer": "r",
   "version": "4.2.3"
  }
 },
 "nbformat": 4,
 "nbformat_minor": 5
}
