{
 "cells": [
  {
   "cell_type": "markdown",
   "id": "2bde442b-5a6a-4c9e-bf80-514e7c56fefa",
   "metadata": {},
   "source": [
    "# Analyzing Crime in Vancouver\n",
    "By: Ryan Saloff 32061624, Yash Mirani 78159415, Aditya Bakshi 28483832, Eva Ma 36961662"
   ]
  },
  {
   "cell_type": "code",
   "execution_count": 1,
   "id": "f5ab6c4a-3e83-4626-b857-102c33462e7e",
   "metadata": {
    "tags": []
   },
   "outputs": [
    {
     "name": "stderr",
     "output_type": "stream",
     "text": [
      "Warning message:\n",
      "“package ‘dplyr’ was built under R version 4.3.2”\n",
      "Warning message:\n",
      "“package ‘stringr’ was built under R version 4.3.2”\n",
      "── \u001b[1mAttaching core tidyverse packages\u001b[22m ──────────────────────── tidyverse 2.0.0 ──\n",
      "\u001b[32m✔\u001b[39m \u001b[34mdplyr    \u001b[39m 1.1.4     \u001b[32m✔\u001b[39m \u001b[34mreadr    \u001b[39m 2.1.4\n",
      "\u001b[32m✔\u001b[39m \u001b[34mforcats  \u001b[39m 1.0.0     \u001b[32m✔\u001b[39m \u001b[34mstringr  \u001b[39m 1.5.1\n",
      "\u001b[32m✔\u001b[39m \u001b[34mggplot2  \u001b[39m 3.4.4     \u001b[32m✔\u001b[39m \u001b[34mtibble   \u001b[39m 3.2.1\n",
      "\u001b[32m✔\u001b[39m \u001b[34mlubridate\u001b[39m 1.9.3     \u001b[32m✔\u001b[39m \u001b[34mtidyr    \u001b[39m 1.3.0\n",
      "\u001b[32m✔\u001b[39m \u001b[34mpurrr    \u001b[39m 1.0.2     \n",
      "── \u001b[1mConflicts\u001b[22m ────────────────────────────────────────── tidyverse_conflicts() ──\n",
      "\u001b[31m✖\u001b[39m \u001b[34mdplyr\u001b[39m::\u001b[32mcombine()\u001b[39m   masks \u001b[34mgridExtra\u001b[39m::combine()\n",
      "\u001b[31m✖\u001b[39m \u001b[34mdplyr\u001b[39m::\u001b[32mfilter()\u001b[39m    masks \u001b[34mstats\u001b[39m::filter()\n",
      "\u001b[31m✖\u001b[39m \u001b[34mdplyr\u001b[39m::\u001b[32mlag()\u001b[39m       masks \u001b[34mstats\u001b[39m::lag()\n",
      "\u001b[31m✖\u001b[39m \u001b[34mlubridate\u001b[39m::\u001b[32mstamp()\u001b[39m masks \u001b[34mcowplot\u001b[39m::stamp()\n",
      "\u001b[36mℹ\u001b[39m Use the conflicted package (\u001b[3m\u001b[34m<http://conflicted.r-lib.org/>\u001b[39m\u001b[23m) to force all conflicts to become errors\n"
     ]
    },
    {
     "ename": "ERROR",
     "evalue": "Error in library(datateachr): there is no package called ‘datateachr’\n",
     "output_type": "error",
     "traceback": [
      "Error in library(datateachr): there is no package called ‘datateachr’\nTraceback:\n",
      "1. library(datateachr)"
     ]
    }
   ],
   "source": [
    "# Loads the packages used in the data analysis\n",
    "library(IRdisplay)\n",
    "library(cowplot)\n",
    "library(digest)\n",
    "library(gridExtra)\n",
    "library(infer)\n",
    "library(repr)\n",
    "library(tidyverse)\n",
    "library(datateachr)"
   ]
  },
  {
   "cell_type": "markdown",
   "id": "78ad3d64-a808-4ea3-95c7-2da5984f9eb7",
   "metadata": {},
   "source": [
    "## Introduction"
   ]
  },
  {
   "cell_type": "markdown",
   "id": "05a4e042-0252-4bbf-a5f1-73f5c234f067",
   "metadata": {},
   "source": [
    "The data set we are using is extracted from the PRIME BC Police Records Management System (RMS), regarding the instances of crime within Vancouver from $2003-2023$. The columns describe the distinct types of crime, relating to the date/time, along with the specificities of the location in which the crime has occurred. This has enticed us to question: has the rate of theft and break/enter in Vancouver increased over the years? In order for us to tackle this, we found a study done by Phillip et al., (2012) stating that there is a positive correlation between crime and unemployment rates; in other words, an increase in unemployment implies an increase in acts of violence. This is supported by the graph attached below, with an average unemployment rate of $5.35\\%$ and $6.2\\%$ from $2004-2008$ and $2018-2022$, respectively (StatCan, 2023). Phillip et al. (2012) continue to emphasize that it is expected for the crime rates to continue to rise given the unemployment rates throughout the years. Contrastingly, Anderson et al., (2017) explain how crime rates in Vancouver are anticipated to be reduced over time. By having these two opposing statements, we investigate the crime rates of Vancouver to see which approach is supported by the given data. Crimes of theft, and break/enter are two indicators of crime that correlate with unemployment; we will further focus on these identified areas of violence to analyze our findings and answer the prompted question mentioned above regarding the crimes in Vancouver."
   ]
  },
  {
   "cell_type": "code",
   "execution_count": null,
   "id": "c948e341-4983-4f00-ac5f-3bf5fcf479c6",
   "metadata": {
    "tags": []
   },
   "outputs": [],
   "source": [
    "display_png(file = \"Unemployment.png\")"
   ]
  },
  {
   "cell_type": "markdown",
   "id": "eb7ef38d-54bd-46bc-a7d3-8960b8c9bbb8",
   "metadata": {},
   "source": [
    "## Methods: Plan"
   ]
  },
  {
   "cell_type": "markdown",
   "id": "12e426e4-021e-4939-9003-c1e165a9cf3f",
   "metadata": {
    "tags": []
   },
   "source": [
    "The report utilizes data provided by the Vancouver Police Department, offering a reliable representation of crime statistics in Vancouver. Our objective is to study the proportion of thefts and break-ins relative to the total crimes, comparing time intervals of $2004-2008$ and $2018-2022$. Random sampling with sufficiently large sample sizes is used to ensure unbiased and representative point estimates, in order to be able to draw a conclusion towards the population.\n",
    "However, summarizing our findings with plots and point estimates lack robust support for a hypothesis or a claim. To validate our hypothesis, we use hypothesis testing and a $95\\%$ confidence interval. We will use both bootstrapping and asymptotics models and compare them. This is possible because our sample size is large enough and np and nq are larger than $5$. Additionally, calculating the confidence interval and conducting a hypothesis test reduces sample variation to ensure an accurate representation of the population. \n",
    "We will conduct 2 hypothesis tests using the infer() package and 2 two sample z-tests each regarding the difference in proportions to determine whether the proportion of break-ins and other thefts from $2018-2022$ is less than in $2004-2008$. Our null hypothesis states that the proportion would remain the same, and our alternate hypothesis supposes a decrease in crime proportions, as suggested by Anderson et al. (2017).\n",
    "\n",
    "$H_0: p_{2018-2022} - p_{2004-2008} = 0$\n",
    "\n",
    "$H_A: p_{2018-2022} - p_{2004-2008} < 0$\n",
    "\n",
    " We will additionally calculate two confidence intervals using a **theory-based asymptotics method** and a **bootstrapping method** to determine whether the proportion of both these crimes from $2018-2022$ is less than in  $2004-2008$. The confidence interval assesses the difference in proportion of break-in proportions between the stated time periods, to evaluate claims by Anderson et al. (2017) against predictions by Phillip et al. (2012). \n",
    "Our report aids the Vancouver Police Department to make data-driven decisions in accordance with the increase or decrease of the proportion of certain crimes. If proportions have increased, our analysis will help in redirecting these resources to address more prevalent crimes. This analysis may raise future questions about the relationship between unemployment and theft, or identify vulnerable neighborhoods to theft. \n"
   ]
  },
  {
   "cell_type": "markdown",
   "id": "9a714527-085b-4365-8651-d57920e78351",
   "metadata": {},
   "source": [
    "## Preliminary Results"
   ]
  },
  {
   "cell_type": "markdown",
   "id": "a6ddce53-b13d-486b-a85e-19ccd0ec4854",
   "metadata": {},
   "source": [
    "#### Read Data from the Web"
   ]
  },
  {
   "cell_type": "code",
   "execution_count": null,
   "id": "f1a680b7-6e56-46d1-bc6b-7344724d3400",
   "metadata": {
    "tags": []
   },
   "outputs": [],
   "source": [
    "# Loads the dataset from the web\n",
    "dataset <- read.csv(url(\"https://docs.google.com/spreadsheets/d/1SXkE_T-CmZzd1kPAIArQOLg9GQa_ftnmVMAI30sVDqo/export?gid=277724310&format=csv\")) \n",
    "\n",
    "# Prints the first 6 rows of the dataset\n",
    "table_1 <- \"Table 1 - First Six Columns of the Dataset\"\n",
    "table_1\n",
    "head(dataset)\n",
    "\n",
    "# Prints the last 6 rows of the dataset\n",
    "table_2 <- \"Table 2 - Last Six Columns of the Dataset\"\n",
    "table_2\n",
    "tail(dataset)"
   ]
  },
  {
   "cell_type": "markdown",
   "id": "0c0527fa-9789-4651-8ccf-6b6c9e7708f9",
   "metadata": {},
   "source": [
    "#### Cleaning and Wrangling"
   ]
  },
  {
   "cell_type": "code",
   "execution_count": null,
   "id": "d2ae8edf-529c-4546-a27c-907554567e38",
   "metadata": {
    "tags": []
   },
   "outputs": [],
   "source": [
    "# Removes the X and Y columns as well as inaccurate data\n",
    "tidy_dataset <- dataset |>\n",
    "    select(TYPE, YEAR) |>\n",
    "    na.omit()\n",
    "\n",
    "# Prints the first 6 rows of the dataset\n",
    "table_3 <- \"Table 3 - First Six Columns of the Tidy Dataset\"\n",
    "table_3\n",
    "head(tidy_dataset)\n",
    "\n",
    "# Prints the last 6 rows of the dataset\n",
    "table_4 <- \"Table 4 - Last Six Columns of the Tidy Dataset\"\n",
    "table_4\n",
    "tail(tidy_dataset)"
   ]
  },
  {
   "cell_type": "markdown",
   "id": "7353ce99-61f5-43c8-9af1-8c77985f0e4c",
   "metadata": {},
   "source": [
    "#### Plotting the Raw Data"
   ]
  },
  {
   "cell_type": "markdown",
   "id": "748451a1-f89f-4cd1-adcb-f98876930e80",
   "metadata": {},
   "source": [
    "We will start by plotting the population data to visualize the number of other thefts and break and enters, out of the total number of crimes between 2004-2008 and 2018-2022."
   ]
  },
  {
   "cell_type": "code",
   "execution_count": null,
   "id": "0591942a-1818-4cd9-9add-1ecebe019501",
   "metadata": {
    "tags": []
   },
   "outputs": [],
   "source": [
    "# Filters the dataset for crimes during 2004 - 2008 and 2018 - 2022\n",
    "\n",
    "raw_data <- tidy_dataset |>\n",
    "    filter(YEAR %in% (2004:2008) | YEAR %in% (2018:2022)) |>\n",
    "    group_by(TYPE, YEAR) |>\n",
    "    summarize(n = n()) |>\n",
    "    mutate(ranges = cut(YEAR, c(2004, 2008, 2017, 2022),\n",
    "                        labels = c(\"[2004, 2008]\",\"NA\", \"[2018, 2022]\"), include.lowest = TRUE)) "
   ]
  },
  {
   "cell_type": "code",
   "execution_count": null,
   "id": "fbc61378-39b8-4e90-9559-ef51860662d8",
   "metadata": {
    "tags": []
   },
   "outputs": [],
   "source": [
    "# Calculates the sum of each crime\n",
    "\n",
    "pop_1 = raw_data |>\n",
    "    filter(ranges == \"[2004, 2008]\") |>\n",
    "    summarize(n = sum(n))\n",
    "\n",
    "# Number of crimes from 2004 - 2008\n",
    "pop_1_total_crime = pop_1 |>\n",
    "    summarize(n = sum(n)) |>\n",
    "    as.numeric()\n",
    "\n",
    "# Number of other thefts from 2004 - 2008\n",
    "pop_1_other_thefts = pop_1 |>\n",
    "    filter(TYPE == \"Other Theft\") |>\n",
    "    summarize(n = sum(n)) |>\n",
    "    as.numeric()\n",
    "\n",
    "# Number of break and enters from 2004 - 2008\n",
    "pop_1_bne = pop_1 |>\n",
    "    filter(TYPE == \"Break and Enter Commercial\" | TYPE == \"Break and Enter Residential/Other\") |>\n",
    "    summarize(n = sum(n)) |>\n",
    "    as.numeric()\n",
    "\n",
    "pop_2 = raw_data |>\n",
    "    filter(ranges == \"[2018, 2022]\") |>\n",
    "    summarize(n = sum(n))\n",
    "\n",
    "# Number of crimes from 2018 - 2022\n",
    "pop_2_total_crime = pop_2 |>\n",
    "    summarize(n = sum(n)) |>\n",
    "    as.numeric()\n",
    "\n",
    "# Number of other thefts from 2018 - 2022\n",
    "pop_2_other_thefts = pop_2 |>\n",
    "    filter(TYPE == \"Other Theft\") |>\n",
    "    summarize(n = sum(n)) |>\n",
    "    as.numeric()\n",
    "\n",
    "# Number of break and enters from 2018 - 2022\n",
    "pop_2_bne = pop_2 |>\n",
    "    filter(TYPE == \"Break and Enter Commercial\" | TYPE == \"Break and Enter Residential/Other\") |>\n",
    "    summarize(n = sum(n)) |>\n",
    "    as.numeric()\n",
    "\n",
    "crimes <- c(pop_1_bne, pop_1_other_thefts, pop_1_total_crime, pop_2_bne, pop_2_other_thefts, pop_2_total_crime)\n",
    "\n",
    "labels <- c(\"Break and Enters\", \"Other Thefts\", \"All Crimes\",\"Break and Enters\", \"Other Thefts\", \"All Crimes\")\n",
    "\n",
    "years <- c(\"2004-2008\",\"2004-2008\",\"2004-2008\",\"2018-2022\",\"2018-2022\",\"2018-2022\")\n",
    "\n",
    "# Creates the table of the number of crimes in each year\n",
    "crimes_table <- tibble(labels, years, crimes)\n",
    "\n",
    "comment(table) <- \"Table 5 - Types of Crimes in Year Range\"\n",
    "\n",
    "comment(table)\n",
    "crimes_table"
   ]
  },
  {
   "cell_type": "code",
   "execution_count": null,
   "id": "6aebf8c8-7d24-488f-9b6c-0e9114090678",
   "metadata": {
    "tags": []
   },
   "outputs": [],
   "source": [
    "# Plots the number of crimes in each year\n",
    "raw_data_plot <- crimes_table |>\n",
    "    ggplot(aes(x = years, y = crimes/1000, fill = labels)) +\n",
    "    geom_bar(stat = \"identity\", position = \"dodge\") +\n",
    "    labs(title = \"Plot 1 - Grouped Bar Chart of All Crimes in Vancouver\",\n",
    "    x = \"Year Range\",\n",
    "    y = \"Crimes (x1000)\",\n",
    "        fill = \"Crime Type\") +\n",
    "    scale_fill_manual(values = c(\"All Crimes\" = \"aquamarine3\", \"Break and Enters\" = \"cornflower blue\", \"Other Thefts\" = \"coral\")) +\n",
    "    theme_minimal() +\n",
    "    theme(axis.text=element_text(size=12),\n",
    "        axis.title=element_text(size=12,face=\"bold\"),\n",
    "         plot.title = element_text(size = 15, face = \"bold\"))\n",
    "\n",
    "raw_data_plot"
   ]
  },
  {
   "cell_type": "markdown",
   "id": "5162965a-6d49-47a8-bfc1-1d613cb6a2a9",
   "metadata": {},
   "source": [
    "Now, we will calculate the population parameters (difference of proportion of each type of crime out of all crimes) for the 2004-2008 and 2018-2022 year ranges. The population parameter will be used to evaluate the accuracy of our data analysis."
   ]
  },
  {
   "cell_type": "code",
   "execution_count": null,
   "id": "e6b69946-f115-4a1b-96cd-838c1ad4486f",
   "metadata": {
    "tags": []
   },
   "outputs": [],
   "source": [
    "# Calculates and and creates the proportion difference vector\n",
    "prop_diff <- c(crimes_table$crimes[4]/crimes_table$crimes[6] - crimes_table$crimes[1]/crimes_table$crimes[3],\n",
    "          crimes_table$crimes[5]/crimes_table$crimes[6] - crimes_table$crimes[2]/crimes_table$crimes[3])\n",
    "\n",
    "# Creates the crime type vector\n",
    "crime <- c(\"Break and Enters\",\"Other Thefts\")\n",
    "\n",
    "# Creates the table with each vector\n",
    "pop_prop <- tibble(crime, prop_diff)\n",
    "\n",
    "comment(pop_prop) <- \"Table 6 - Difference of Proportion Parameter (2018-2022 Proportion minus 2004-2008 Proportion)\"\n",
    "comment(pop_prop)\n",
    "pop_prop"
   ]
  },
  {
   "cell_type": "markdown",
   "id": "003d9a99-4737-4464-b1c7-772c57ed6d06",
   "metadata": {},
   "source": [
    "#### Estimating the Parameter ####"
   ]
  },
  {
   "cell_type": "code",
   "execution_count": null,
   "id": "314aa117-9cad-43c0-b733-64c98753b9d1",
   "metadata": {
    "tags": []
   },
   "outputs": [],
   "source": [
    "# Filters the dataset for years 2004 - 2008 and selects the type of crime and the neighbourhood\n",
    "crime_2004_2008 <- tidy_dataset |>\n",
    "    filter(YEAR %in% (2004:2008)) |>\n",
    "    select(TYPE)\n",
    "\n",
    "# Prints the first 6 rows of the dataset\n",
    "table_7 <- \"Table 7 - All Crimes from 2004 - 2008\"\n",
    "table_7\n",
    "head(crime_2004_2008)"
   ]
  },
  {
   "cell_type": "code",
   "execution_count": null,
   "id": "5f544a15-7c97-46cb-b582-8c43fbc92d85",
   "metadata": {
    "tags": []
   },
   "outputs": [],
   "source": [
    "set.seed(1)\n",
    "\n",
    "# Randomly samples the 2004-2008 crime population (size = 500)\n",
    "sample_2004_2008 <- crime_2004_2008 |>\n",
    "    rep_sample_n(size = 500, replace = FALSE) |>\n",
    "    ungroup() |>\n",
    "    select(-replicate)\n",
    "\n",
    "# Filters for \"Other Theft\" from the random sample\n",
    "other_theft_2004_2008 <- sample_2004_2008 |>\n",
    "    filter(TYPE == \"Other Theft\") \n",
    "\n",
    "# Calculates p̂ for other theft from 2004-2008\n",
    "phat_theft_1 <- nrow(other_theft_2004_2008)/nrow(sample_2004_2008)\n",
    "\n",
    "# Prints the other theft proportion estimate from 2004-2008\n",
    "print(paste0(\"The estimated proportion of other theft crimes out of all crimes in Vancouver from 2004 - 2008 is \", phat_theft_1, \".\"))\n",
    "\n",
    "# Filters for \"Break and Enter Commercial\" and \"Break and Enter Residential/Other\" from the random sample\n",
    "break_and_enter_2004_2008 <- sample_2004_2008 |>\n",
    "    filter(TYPE == \"Break and Enter Commercial\" | TYPE == \"Break and Enter Residential/Other\") \n",
    "\n",
    "# Calculates p̂ for break and enters from 2004-2008\n",
    "phat_bne_1 <- nrow(break_and_enter_2004_2008)/nrow(sample_2004_2008)\n",
    "\n",
    "# Prints the break and enter proportion estimate from 2004-2008\n",
    "print(paste0(\"The estimated proportion of break and enter crimes out of all crimes in Vancouver from 2004 - 2008 is \", phat_bne_1, \".\"))"
   ]
  },
  {
   "cell_type": "markdown",
   "id": "2b130226-fa6c-4106-a960-193df476848f",
   "metadata": {},
   "source": [
    "Now, we will find the sample proportions for the crimes of interest, between 2018 and 2022."
   ]
  },
  {
   "cell_type": "code",
   "execution_count": null,
   "id": "480d6e76-8985-417e-8656-acf6a22aa18e",
   "metadata": {
    "tags": []
   },
   "outputs": [],
   "source": [
    "# Filters the dataset for years 2004 - 2008 and selects the type of crime and the neighbourhood\n",
    "crime_2018_2022 <- tidy_dataset |>\n",
    "    filter(YEAR %in% (2018:2022)) |>\n",
    "    select(TYPE)\n",
    "\n",
    "# Prints the first 6 rows of the dataset\n",
    "table_8 <- \"Table 8 - All Crimes from 2018 - 2022\"\n",
    "table_8\n",
    "head(crime_2018_2022)"
   ]
  },
  {
   "cell_type": "code",
   "execution_count": null,
   "id": "c0b5b2a2-c47b-4f46-a1e7-c46254d85850",
   "metadata": {
    "tags": []
   },
   "outputs": [],
   "source": [
    "set.seed(2)\n",
    "\n",
    "# Randomly samples the 2018-2022 crime population (size = 500)\n",
    "sample_2018_2022 <- crime_2018_2022 |>\n",
    "    rep_sample_n(size = 500, replace = FALSE) |>\n",
    "    ungroup() |>\n",
    "    select(-replicate)\n",
    "\n",
    "# Filters for \"Other Theft\" from the random sample\n",
    "other_theft_2018_2022 <- sample_2018_2022 |>\n",
    "    filter(TYPE == \"Other Theft\") \n",
    "\n",
    "# Calculates p̂ for other theft from 2018-2022\n",
    "phat_theft_2 <- nrow(other_theft_2018_2022)/nrow(sample_2018_2022)\n",
    "\n",
    "# Prints the other theft proportion estimate from 2018-2022\n",
    "print(paste0(\"The estimated proportion of other theft crimes out of all crimes in Vancouver from 2018 - 2022 is \", phat_theft_2, \".\"))\n",
    "\n",
    "# Filters for \"Break and Enter Commercial\" and \"Break and Enter Residential/Other\" from the random sample\n",
    "break_and_enter_2018_2022 <- sample_2018_2022 |>\n",
    "    filter(TYPE == \"Break and Enter Commercial\" | TYPE == \"Break and Enter Residential/Other\") \n",
    "\n",
    "# Calculates p̂ for break and enters from 2018-2022\n",
    "phat_bne_2 <- nrow(break_and_enter_2018_2022)/nrow(sample_2018_2022)\n",
    "\n",
    "# Prints the break and enter proportion estimate from 2018-2022\n",
    "print(paste0(\"The estimated proportion of break and enter crimes out of all crimes in Vancouver from 2018 - 2022 is \", phat_bne_2, \".\"))"
   ]
  },
  {
   "cell_type": "markdown",
   "id": "c3387659-3b22-4f82-9195-120fd25fba8b",
   "metadata": {},
   "source": [
    "Finally, we will calculate the difference in sample proportions—our sample statistic of interest."
   ]
  },
  {
   "cell_type": "code",
   "execution_count": null,
   "id": "e386a968-a20e-46d1-906e-687be32d6289",
   "metadata": {
    "tags": []
   },
   "outputs": [],
   "source": [
    "# Calculates the difference in sample proportions for other theft\n",
    "phat_theft = phat_theft_2 - phat_theft_1\n",
    "print(paste0(\"The estimated difference in proportion of other theft crimes from 2018 - 2022 and 2004 - 2008 out of all crimes in Vancouver is \", phat_theft, \".\"))\n",
    "\n",
    "\n",
    "# Calculates the difference in sample proportions for break and enters\n",
    "phat_bne = phat_bne_2 - phat_bne_1\n",
    "print(paste0(\"The estimated difference in proportion of break and enters from 2018 - 2022 and 2004 - 2008 out of all crimes in Vancouver is \", phat_bne, \".\"))"
   ]
  },
  {
   "cell_type": "markdown",
   "id": "8293a062-1689-4019-bc95-b87dd4eb8aac",
   "metadata": {},
   "source": [
    "Now, we will visualize our statistic of interest in a table."
   ]
  },
  {
   "cell_type": "code",
   "execution_count": null,
   "id": "9f8f4bcb-eff4-4c61-966e-391806eb535c",
   "metadata": {
    "tags": []
   },
   "outputs": [],
   "source": [
    "# Creates the vectors in the tbale\n",
    "crime <- c(\"Other Theft\", \"Break and Enters\")\n",
    "p_hat <- c(phat_theft, phat_bne) \n",
    "\n",
    "# Creates the table\n",
    "p_hat_table <- tibble(crime, p_hat)\n",
    "\n",
    "comment(p_hat_table) <- \"Table 9 - Difference in Estimated Proportion of Crimes from 2018 - 2022 and 2004 - 2008\"\n",
    "\n",
    "comment(p_hat_table)\n",
    "p_hat_table "
   ]
  },
  {
   "cell_type": "markdown",
   "id": "5dc544fb-ca7f-475d-9821-2dfd4ec3a65c",
   "metadata": {},
   "source": [
    "## Results"
   ]
  },
  {
   "cell_type": "markdown",
   "id": "67de687e-5d7f-40d9-99c3-19feb5ff820a",
   "metadata": {
    "tags": []
   },
   "source": [
    "#### Other Thefts Hypothesis Testing"
   ]
  },
  {
   "cell_type": "markdown",
   "id": "fe232acc-46e8-4547-bd34-8c1c82babe64",
   "metadata": {},
   "source": [
    "First, we will conduct a **permutation hypothesis test** for the difference of proportions of other thefts in our time interval of 2018-2022 versus 2004-2008. Then, we will conduct an **asymptotics test** through the **two sample z-test** for the difference of proportions of thefts in our time interval of 2018-2022 versus 2004-2008. We will be continuing to use `sample_2004_2008` and `sample_2018_2022` as our samples from the population dataset, where `n = 500` in each sample.\n",
    "\n",
    "Our null hypothesis for the difference in proportion of other thefts is $H_0: p_{2018-2022} = p_{2004-2008}$\n",
    "\n",
    "Our alternative hypothesis for the difference in proportion of other thefts is $H_A: p_{2018-2022} < p_{2004-2008}$"
   ]
  },
  {
   "cell_type": "markdown",
   "id": "2da0342d-86a0-4ce0-b288-dff3ebb2c3fe",
   "metadata": {},
   "source": [
    "##### Permutation Hypothesis Test"
   ]
  },
  {
   "cell_type": "code",
   "execution_count": null,
   "id": "a9285224-1876-46eb-8942-92c6fe1ec362",
   "metadata": {
    "tags": []
   },
   "outputs": [],
   "source": [
    "# Creates the 2004-2008 sample dataframe with \"year_range\" and \"theft\" as columns\n",
    "year <- data.frame(year_range = rep(\"2004-2008\", times = 500))\n",
    "theft <-ifelse(sample_2004_2008$TYPE == \"Other Theft\", \"yes\", \"no\")  \n",
    "table_2004_2008 <- cbind(year, theft)\n",
    "\n",
    "# Creates the 2018-2022 sample with \"year_range\" and \"theft\" as columns\n",
    "year <- data.frame(year_range = rep(\"2018-2022\", times = 500))\n",
    "theft <-ifelse(sample_2018_2022$TYPE == \"Other Theft\", \"yes\", \"no\")\n",
    "table_2018_2022 <- cbind(year, theft)\n",
    "\n",
    "# Combines the 2004-2008 and 2018-2022 datasets \n",
    "thefts_table <- rbind(table_2004_2008, table_2018_2022) \n",
    "\n",
    "table_10 <- \"Table 10 - Thefts in Both Samples (yes = theft)\"\n",
    "\n",
    "# Print the transformed table\n",
    "table_10\n",
    "head(thefts_table)"
   ]
  },
  {
   "cell_type": "code",
   "execution_count": null,
   "id": "7f4b3134-98e9-4c3a-a8f6-2868acf56de5",
   "metadata": {},
   "outputs": [],
   "source": [
    "# Calculates the null distribution using the infer package workflow\n",
    "thefts_null_distribution <- thefts_table |>\n",
    "    specify(formula = theft ~ year_range, success = \"yes\") |>\n",
    "    hypothesize(null = \"independence\") |>\n",
    "    generate(reps = 1000, type = \"permute\") |>\n",
    "    calculate(stat = \"diff in props\", order = c(\"2018-2022\",\"2004-2008\"))\n",
    "\n",
    "table_11 <- \"Table 11 - Null Distribution of the Difference in Proportion of Thefts (2018-2022 – 2004-2008)\"\n",
    "\n",
    "# Prints the null distribution\n",
    "table_11\n",
    "head(thefts_null_distribution)"
   ]
  },
  {
   "cell_type": "markdown",
   "id": "6707dc6c-6abf-47c2-a119-dc5f3c8b3463",
   "metadata": {},
   "source": [
    "Now, we will visualize our sample statistic of the difference of proportions $\\hat{p}_{theft} = 0.054$ in respect to the null distribution."
   ]
  },
  {
   "cell_type": "code",
   "execution_count": null,
   "id": "789b2a9a-4a62-4501-a5aa-a5326e669307",
   "metadata": {},
   "outputs": [],
   "source": [
    "# Plots the null distribution\n",
    "thefts_result_plot <- thefts_null_distribution |>\n",
    "    visualize(bins = 10) +\n",
    "    shade_p_value(obs_stat = phat_theft, direction = \"left\") +\n",
    "    labs(x = \"Proportion\", title = \"Difference in Proportion of Thefts Null Distribution (2018-2022 – 2004-2008)\") \n",
    "    \n",
    "\n",
    "thefts_result_plot"
   ]
  },
  {
   "cell_type": "code",
   "execution_count": null,
   "id": "0e23e7a5-ff7b-4d38-a49c-6cbc0fbfa4df",
   "metadata": {
    "tags": []
   },
   "outputs": [],
   "source": [
    "# Gets the p-value for the difference of proportions (2018-2022 - 2008-2004) in thefts\n",
    "thefts_p_value <- thefts_null_distribution |>\n",
    "    get_p_value(obs_stat = phat_theft, direction = \"left\") |>\n",
    "    pull() \n",
    "\n",
    "cat(\"The p-value is for the permutation test is:\", thefts_p_value)"
   ]
  },
  {
   "cell_type": "markdown",
   "id": "417ea9f8-c4c1-410a-a8b2-bc86a38951e6",
   "metadata": {
    "tags": []
   },
   "source": [
    "Given a p-value of $0.982$, we fail to reject the null hypothesis at the $5\\%$ significance level for the permutation test."
   ]
  },
  {
   "cell_type": "markdown",
   "id": "5b13d001-9d15-4b5f-bdf2-7c2a5c9d89bc",
   "metadata": {},
   "source": [
    "##### Two Sample Z-test "
   ]
  },
  {
   "cell_type": "code",
   "execution_count": null,
   "id": "e338dd00-2f1e-4a10-9b0e-fb571946aa8a",
   "metadata": {
    "tags": []
   },
   "outputs": [],
   "source": [
    "# Makes a new table that can be used by the prop.test function\n",
    "new_table_thefts <- table(thefts_table$year_range, thefts_table$theft)\n",
    "\n",
    "# Perform the two-sample z-test\n",
    "result_thefts <- prop.test(new_table_thefts, alternative = \"less\")\n",
    "\n",
    "# Gets the two_sample z-test p_value\n",
    "p_value_thefts_ztest <- result_thefts$p.value\n",
    "\n",
    "# Print the result\n",
    "cat(\"The p_value for the two_sample z-test is:\", p_value_thefts_ztest)"
   ]
  },
  {
   "cell_type": "markdown",
   "id": "b7780809-86fd-4216-98b4-e4e59f8d0e55",
   "metadata": {},
   "source": [
    "Given a p-value $\\approx 0.973$, we fail to reject the null hypothesis at the $5\\%$ significance level for the two-sample z test."
   ]
  },
  {
   "cell_type": "markdown",
   "id": "9bdf7c83-4b42-45bc-8737-0759b893c639",
   "metadata": {},
   "source": [
    "#### Thefts Confidence Interval"
   ]
  },
  {
   "cell_type": "markdown",
   "id": "4fdc7706-1dec-41a3-8be6-152d4d5a1f85",
   "metadata": {},
   "source": [
    "First, we will create a bootstrap distribution confidence interval for the difference of proportions of thefts in our time interval of 2018-2022 versus 2004-2008. Then, we will create a theory-based standard error confidence interval for the difference of proportions of thefts in our time interval of 2018-2022 versus 2004-2008."
   ]
  },
  {
   "cell_type": "markdown",
   "id": "88ffd0cf-76b4-4ab4-918d-b7b90422e2d3",
   "metadata": {},
   "source": [
    "##### Bootstrap Distribution Confidence Interval"
   ]
  },
  {
   "cell_type": "code",
   "execution_count": null,
   "id": "f663e5af-6dbf-4262-b211-22669473cbc4",
   "metadata": {
    "tags": []
   },
   "outputs": [],
   "source": [
    "#Bootstrap distribution of the difference in the proportion of 'Other Thefts' between 2018-2022 and 2004-2008 \n",
    "\n",
    "bootstrap_distribution <- thefts_table %>% \n",
    "  specify(formula = theft ~ year_range, success = \"yes\") %>% \n",
    "  generate(reps = 1000, type = \"bootstrap\") %>% \n",
    "  calculate(stat = \"diff in props\", order = c(\"2018-2022\", \"2004-2008\"))\n",
    "\n",
    "table_12 <- \"Table 12 - Difference in proportion of Other Thefts in each bootstrap sample\"\n",
    "\n",
    "head(table_12)\n",
    "head(bootstrap_distribution)"
   ]
  },
  {
   "cell_type": "code",
   "execution_count": null,
   "id": "d7f63dda-e203-4be0-8760-522b5340adba",
   "metadata": {
    "tags": []
   },
   "outputs": [],
   "source": [
    "# Bootstrap distribution of the difference in the proportion of 'Other Thefts' between 2018-2022 and 2004-2008 \n",
    "\n",
    "bootstrap_distribution <- thefts_table %>% \n",
    "  specify(formula = theft ~ year_range, success = \"yes\") %>% \n",
    "  generate(reps = 1000, type = \"bootstrap\") %>% \n",
    "  calculate(stat = \"diff in props\", order = c(\"2018-2022\", \"2004-2008\"))\n",
    "\n",
    "table_13 <- \"Table 13 - Difference in Proportion of Other Thefts in each Bootstrap Sample\"\n",
    "\n",
    "head(table_13)\n",
    "head(bootstrap_distribution)"
   ]
  },
  {
   "cell_type": "markdown",
   "id": "da93e590-4b29-4fb1-bf6b-36dee50b47a2",
   "metadata": {},
   "source": [
    "Now that we have generated our bootstrap samples and calculated the difference in proportion statistic, we will create the 95% Confidence Interval for the difference in proportion of Other Thefts."
   ]
  },
  {
   "cell_type": "code",
   "execution_count": null,
   "id": "db3531d9-cdc4-4816-a82c-807d005c0d12",
   "metadata": {
    "tags": []
   },
   "outputs": [],
   "source": [
    "# Constructs a 95% confidence interval based on percentile-method over the bootstrap distribution \n",
    "percentile_ci <- bootstrap_distribution %>% \n",
    "  get_confidence_interval(level = 0.95, type = \"percentile\")\n",
    "\n",
    "table_14 <- \"Table 14 - 95% Confidence Interval for Difference in Other Thefts using Bootstrap Percentile Method\"\n",
    "\n",
    "head(table_14)\n",
    "percentile_ci"
   ]
  },
  {
   "cell_type": "markdown",
   "id": "7d126a61-b1bd-40a9-a009-e7fcd3919163",
   "metadata": {},
   "source": [
    "Finally, we can visualize the 95% confidence interval."
   ]
  },
  {
   "cell_type": "code",
   "execution_count": null,
   "id": "bd83174c-8c40-404f-bb25-73d223877c9b",
   "metadata": {
    "tags": []
   },
   "outputs": [],
   "source": [
    "# Visualizes the 95% confidence interval constructed above\n",
    "visualize(bootstrap_distribution) + \n",
    "    shade_confidence_interval(endpoints = percentile_ci) +\n",
    "    labs(title = \"95% CI using Bootstrap Percentile Method (2018-2022 – 2004-2008)\")"
   ]
  },
  {
   "cell_type": "markdown",
   "id": "ea06677f-9256-4548-a3d1-fa10efac7ec7",
   "metadata": {},
   "source": [
    "As a reminder, our alternative hypothesis stated that $p_{2018-2022} < p_{2004-2008}$. As we can see, the $2004-2008$ proportion of Other Thefts is quite a bit bigger than the $2018-2022$ proportion of other thefts. In other words, we **fail to reject the null hypothesis**, since the confidence interval captures values greater than what we had expected. "
   ]
  },
  {
   "cell_type": "markdown",
   "id": "667e1a25-5df5-4cdb-bdc7-f8b331ead27e",
   "metadata": {},
   "source": [
    "##### Theory-Based Standard Error Confidence Interval"
   ]
  },
  {
   "cell_type": "markdown",
   "id": "c1cb6647-defb-45d6-b5be-f11cef993468",
   "metadata": {},
   "source": [
    "Since our sample size is greater than 30, wherein our sample distribution is approximately normal and each observation is independent, we can use theory based methods for generating a confidence interval."
   ]
  },
  {
   "cell_type": "code",
   "execution_count": null,
   "id": "e81b209c-8400-428b-8552-b13377300b9b",
   "metadata": {
    "tags": []
   },
   "outputs": [],
   "source": [
    "# Constructs a 95% confidence interval using the theory-based standard error method around the observed sample statistic of 'Other Thefts'\n",
    "percentile_ci_theory <- bootstrap_distribution %>% \n",
    "  get_confidence_interval(level = 0.95, type = \"se\", point_estimate = 0.054)\n",
    "\n",
    "table_15 <- \"Table 15 - Confidence Interval for Difference in Proportion of Other Thefts using Standard Error Method\"\n",
    "\n",
    "head(table_15)\n",
    "percentile_ci_theory\n",
    "\n",
    "# Visualizes the 95% confidence interval constructed above \n",
    "visualize(bootstrap_distribution) + \n",
    "    shade_confidence_interval(endpoints = percentile_ci_theory) +\n",
    "    labs(title = \"95% CI using Standard Error Method (2018-2022 – 2004-2008)\")"
   ]
  },
  {
   "cell_type": "markdown",
   "id": "7c9e5ad4-89a0-4b98-9e71-59e54e734857",
   "metadata": {},
   "source": [
    "Similarly to the bootstrapping confidence interval, we **fail to reject the null hypothesis**, since the confidence interval captures values greater than what we had expected. "
   ]
  },
  {
   "cell_type": "markdown",
   "id": "7e808d73-e635-4df9-836e-ae9ef8cd277e",
   "metadata": {},
   "source": [
    "#### Break and Enters Hypothesis Testing"
   ]
  },
  {
   "cell_type": "markdown",
   "id": "6345e776-8de8-4361-bb0a-eb2c5c931dfc",
   "metadata": {
    "tags": []
   },
   "source": [
    "We will first conduct a **permutation hypothesis test** for the difference of proportions of break and enters in our time interval of 2018-2022 versus 2004-2008. Then, we will conduct an **asymptotics test** through the **two sample z-test** for the difference of proportions of break and enters in our time interval of 2018-2022 versus 2004-2008. We will be continuing to use `sample_2004_2008` and `sample_2018_2022` as our samples from the population dataset, where `n = 500` in each sample.\n",
    "\n",
    "Our null hypothesis for the difference in proportion of break and enters is $H_0: p_{2018-2022} = p_{2004-2008}$\n",
    "\n",
    "Our alternative hypothesis for the difference in proportion of break and enters is $H_A: p_{2018-2022} < p_{2004-2008}$"
   ]
  },
  {
   "cell_type": "code",
   "execution_count": null,
   "id": "53f6acb0-968c-4880-be9a-09954b606cea",
   "metadata": {
    "tags": []
   },
   "outputs": [],
   "source": [
    "# Prints a table that displays how many crimes in the sample were thefts\n",
    "\n",
    "year <- data.frame(year_range = rep(\"2004-2008\", times = 500))\n",
    "theft <-ifelse(sample_2004_2008$TYPE == \"Break and Enter Commercial\" |\n",
    "               sample_2004_2008$TYPE == \"Break and Enter Residential/Other\", \"yes\", \"no\")  \n",
    "table_2004_2008_bne <- cbind(year, theft)\n",
    "\n",
    "year <- data.frame(year_range = rep(\"2018-2022\", times = 500))\n",
    "theft <-ifelse(sample_2018_2022$TYPE == \"Break and Enter Commercial\" |\n",
    "               sample_2018_2022$TYPE == \"Break and Enter Residential/Other\", \"yes\", \"no\")\n",
    "table_2018_2022_bne <- cbind(year, theft)\n",
    "\n",
    "bne_table <- rbind(table_2004_2008_bne, table_2018_2022_bne) \n",
    "\n",
    "table_16 <- \"Table 16 - Break and Enters in Both Samples (yes = theft)\"\n",
    "\n",
    "# Print the transformed table\n",
    "table_16\n",
    "head(bne_table)"
   ]
  },
  {
   "cell_type": "code",
   "execution_count": null,
   "id": "176982bf-0cb5-487a-bf63-7b2dddb961ae",
   "metadata": {
    "tags": []
   },
   "outputs": [],
   "source": [
    "# Calculates the null distribution using the infer package workflow\n",
    "bne_null_distribution <- bne_table |>\n",
    "    specify(formula = theft ~ year_range, success = \"yes\") |>\n",
    "    hypothesize(null = \"independence\") |>\n",
    "    generate(reps = 1000, type = \"permute\") |>\n",
    "    calculate(stat = \"diff in props\", order = c(\"2018-2022\",\"2004-2008\"))\n",
    "\n",
    "table_17 <- \"Table 17 - Null Distribution of the Difference in Proportion of Break and Enters (2018-2022 – 2004-2008)\"\n",
    "\n",
    "# Prints the null distribution\n",
    "table_17\n",
    "head(bne_null_distribution)"
   ]
  },
  {
   "cell_type": "markdown",
   "id": "a9b0c5e0-37c1-4f3d-a685-b6bc8d5461cd",
   "metadata": {},
   "source": [
    "Now, we will visualize our sample statistic of the difference of proportions $\\hat{p}_{bne} = \t-0.048$ in respect to the null distribution."
   ]
  },
  {
   "cell_type": "code",
   "execution_count": null,
   "id": "3d46d112-457f-4a62-97d8-331fa32b55c9",
   "metadata": {
    "tags": []
   },
   "outputs": [],
   "source": [
    "# Plots the null distribution\n",
    "bne_result_plot <- bne_null_distribution |>\n",
    "    visualize(bins = 10) +\n",
    "    shade_p_value(obs_stat = phat_bne, direction = \"left\") +\n",
    "    labs(x = \"Proportion\", title = \"Difference in Proportion of Break and Enters Null Distribution (2018-2022 – 2004-2008)\") \n",
    "    options(repr.plot.width=10, repr.plot.height=8)\n",
    "    \n",
    "\n",
    "bne_result_plot"
   ]
  },
  {
   "cell_type": "code",
   "execution_count": null,
   "id": "7f6a1165-a97d-4dc2-b687-0a92d020e39d",
   "metadata": {
    "tags": []
   },
   "outputs": [],
   "source": [
    "# Gets the p-value for the difference of proportions (2018-2022 - 2008-2004) in break and enters\n",
    "bne_p_value <- thefts_null_distribution |>\n",
    "    get_p_value(obs_stat = phat_bne, direction = \"left\") |>\n",
    "    pull() \n",
    "\n",
    "cat(\"The p-value is for the permutation test is:\", bne_p_value)"
   ]
  },
  {
   "cell_type": "markdown",
   "id": "e5263e9d-63a6-42ec-b808-118ae1035a05",
   "metadata": {},
   "source": [
    "Given a p-value of $0.031$, we reject the null hypothesis at the $5\\%$ significance level for the permutation test."
   ]
  },
  {
   "cell_type": "markdown",
   "id": "42f2118d-6567-4437-b64f-a8ee27c79e60",
   "metadata": {},
   "source": [
    "##### Two Sample Z-test "
   ]
  },
  {
   "cell_type": "code",
   "execution_count": null,
   "id": "9b9b6340-536d-4886-b836-7ed83b3beb95",
   "metadata": {
    "tags": []
   },
   "outputs": [],
   "source": [
    "# Makes a new table that can be used by the prop.test function\n",
    "new_bne_table <- table(bne_table$year_range, bne_table$theft)\n",
    "\n",
    "# Perform the two-sample z-test\n",
    "result_bne <- prop.test(new_bne_table, alternative = \"less\")\n",
    "\n",
    "# Gets the two_sample z-test p_value\n",
    "p_value_bne_ztest <- result_bne$p.value\n",
    "\n",
    "# Print the result\n",
    "cat(\"The p_value for the two_sample z-test is:\", p_value_bne_ztest)"
   ]
  },
  {
   "cell_type": "markdown",
   "id": "a24b9df8-73ae-4507-bc94-0f67b9723dcc",
   "metadata": {},
   "source": [
    "Given a p-value $\\approx 0.027$, we reject the null hypothesis at the $5\\%$ significance level for the two-sample z test."
   ]
  },
  {
   "cell_type": "markdown",
   "id": "c91ef26e-c1f1-4175-bc4d-2e39d843a6d0",
   "metadata": {},
   "source": [
    "#### Break and Enters Confidence Interval"
   ]
  },
  {
   "cell_type": "markdown",
   "id": "38aca45b-e85d-435f-9fa6-d8de7c8f9902",
   "metadata": {},
   "source": [
    "##### Bootstrap Distribution Confidence Interval"
   ]
  },
  {
   "cell_type": "markdown",
   "id": "9580773d-861d-49f0-9b30-c46dd5221a36",
   "metadata": {},
   "source": [
    "First, we will create a bootstrap distribution confidence interval for the difference of proportions of thefts in our time interval of 2018-2022 versus 2004-2008. Then, we will create a theory-based standard error confidence interval for the difference of proportions of thefts in our time interval of 2018-2022 versus 2004-2008."
   ]
  },
  {
   "cell_type": "code",
   "execution_count": null,
   "id": "5e2b7c84-1d07-4d4c-8147-dd83705a24d9",
   "metadata": {
    "tags": []
   },
   "outputs": [],
   "source": [
    "# Bootstrap distribution of the difference in the proportion of 'Break and Enters' between 2018-2022 and 2004-2008\n",
    "bootstrap_distribution_bne <- bne_table %>% \n",
    "  specify(formula = theft ~ year_range, success = \"yes\") %>% \n",
    "  generate(reps = 1000, type = \"bootstrap\") %>% \n",
    "  calculate(stat = \"diff in props\", order = c(\"2018-2022\", \"2004-2008\"))\n",
    "\n",
    "\n",
    "table_18 <- \"Table 18 - Difference in Proportion of Break and Enters in each Bootstrap Sample\"\n",
    "\n",
    "head(table_18)\n",
    "head(bootstrap_distribution_bne)"
   ]
  },
  {
   "cell_type": "code",
   "execution_count": null,
   "id": "6f46926a-2654-40b2-9eac-162b11d79a59",
   "metadata": {
    "tags": []
   },
   "outputs": [],
   "source": [
    "# Bootstrap distribution of the difference in the proportion of 'Break and Enters' between 2018-2022 and 2004-2008\n",
    "bootstrap_distribution_bne <- bne_table %>% \n",
    "  specify(formula = theft ~ year_range, success = \"yes\") %>% \n",
    "  generate(reps = 1000, type = \"bootstrap\") %>% \n",
    "  calculate(stat = \"diff in props\", order = c(\"2018-2022\", \"2004-2008\"))\n",
    "\n",
    "table_19 <- \"Table 19 - Difference in proportion of Break and Enters in each Bootstrap Sample\"\n",
    "\n",
    "head(table_19)\n",
    "head(bootstrap_distribution_bne)"
   ]
  },
  {
   "cell_type": "markdown",
   "id": "d7fe5af9-8953-44ee-872b-447f902f159f",
   "metadata": {},
   "source": [
    "Now that we have generated our bootstrap samples and calculated the difference in proportion statistic, we will create the 95% Confidence Interval for the difference in proportion of Break and Enters."
   ]
  },
  {
   "cell_type": "code",
   "execution_count": null,
   "id": "a960eaf5-3e46-4212-b82b-11354b0f3cc2",
   "metadata": {
    "tags": []
   },
   "outputs": [],
   "source": [
    "#Constructs a 95% confidence interval based on percentile-method over the bootstrap distribution\n",
    "percentile_ci <- bootstrap_distribution_bne %>% \n",
    "  get_confidence_interval(level = 0.95, type = \"percentile\")\n",
    "\n",
    "table_20 <- \"Table 20 - Confidence Interval for Difference in Break and Enters using Bootstrap Percentile Method\"\n",
    "\n",
    "head(table_20) \n",
    "percentile_ci"
   ]
  },
  {
   "cell_type": "code",
   "execution_count": null,
   "id": "2320df03-98eb-4aed-a00c-713d3843c366",
   "metadata": {
    "tags": []
   },
   "outputs": [],
   "source": [
    "#Visualizes the 95% confidence interval constructed above\n",
    "visualize(bootstrap_distribution_bne) + \n",
    "     shade_confidence_interval(endpoints = percentile_ci) +\n",
    "     labs(title = \"95% CI using Bootstrap Percentile Method (2018-2022 – 2004-2008)\")"
   ]
  },
  {
   "cell_type": "markdown",
   "id": "f60b7228-9b09-4ded-b619-4b2ef893e739",
   "metadata": {},
   "source": [
    "As a reminder, our alternative hypothesis stated that $p_{2018-2022} < p_{2004-2008}$. As we can see, the interval captures values less than zero, and we have significant evidence that the proportion of break and enters in $2018-2022$ is less than the proportion of break and enters in $2004-2008$. In other words, we **reject the null hypothesis**, since the confidence interval captures values $< 0$."
   ]
  },
  {
   "cell_type": "markdown",
   "id": "1a573341-941c-4569-a4e7-37b8d51d8444",
   "metadata": {},
   "source": [
    "##### Theory-Based Standard Error Confidence Interval"
   ]
  },
  {
   "cell_type": "markdown",
   "id": "039262c1-2a0d-46ff-870a-6cad5ab8a82b",
   "metadata": {},
   "source": [
    "Since our sample size is greater than 30, wherein our sample distribution is approximately normal and each observation is independent, we can use theory based methods for generating a confidence interval."
   ]
  },
  {
   "cell_type": "code",
   "execution_count": null,
   "id": "dffb4a06-90ad-4275-b096-f62fac85b69f",
   "metadata": {
    "tags": []
   },
   "outputs": [],
   "source": [
    "#Constructs a 95% confidence interval using the theory-based standard error method around the observed sample statistic of 'Break and Enters'\n",
    "percentile_ci_theory_bne <- bootstrap_distribution_bne %>% \n",
    "  get_confidence_interval(level = 0.95, type = \"se\", point_estimate = -0.048)\n",
    "\n",
    "table_21 <- \"Table 21 - Confidence interval for difference in proportion of Break and Enters using theory-based standard error method\"\n",
    "\n",
    "head(table_21)\n",
    "percentile_ci_theory_bne\n",
    "\n",
    "#Visualizes the 95% confidence interval constructed above\n",
    "visualize(bootstrap_distribution_bne) + \n",
    "    shade_confidence_interval(endpoints = percentile_ci_theory_bne) +\n",
    "    labs(title = \"95% CI using Standard Error Method (2018-2022 – 2004-2008)\")"
   ]
  },
  {
   "cell_type": "markdown",
   "id": "9f9d1969-29d2-456f-83bf-f6a80b793f0d",
   "metadata": {},
   "source": [
    "Similarly to the bootstrapping confidence interval, we **reject the null hypothesis**, since the confidence interval captures values less than no difference in proportions."
   ]
  },
  {
   "cell_type": "markdown",
   "id": "c679fed5-2720-477d-bad1-4e1aa5cf3609",
   "metadata": {},
   "source": [
    "## Discussion"
   ]
  },
  {
   "cell_type": "markdown",
   "id": "3c831f61-802d-488e-a728-f44a12770845",
   "metadata": {},
   "source": [
    "### Summarize what you found, and the implications/impact of your findings.\n",
    "In manipulating the raw data, we were initially able to visualize the number of “Other Thefts” and “Break and Enters” as seen in Plot 1. The population parameters were calculated from the raw data, specifically the difference in proportions of each crime type among all crimes, for the periods of $2004-2008$ and $2018-2022$. The proportion parameter in the most recent timeframe subtracted by the previous timeframe’s proportion parameter  for Break and Enters is $p_{bne} = -0.058$, while the difference in Other Thefts obtained a parameter value of $p_{thefts} = 0.051$. \n",
    "\n",
    "Random samples of size `n = 500` from the $2004-2008$ and $2018-2022$ crime population were taken without replacement, to estimate the proportion of crimes within the time interval. For Other Thefts, this is done by calculating the sample proportion of in the time range of $2004-2008$, and from $2018-2022$; this identical process was conducted for Break and Enters. From the sample, it was found that the estimated proportion of Other Theft crimes in Vancouver from $2004-2008$ is $0.21$, while the proportion in $2018-2022$ was $0.264$. On the other hand, the estimated proportion of Break and Enters was $0.196$ and $0.148$, respectively. \n",
    "\n",
    "By taking the difference in these proportions, we were able to obtain the sample difference in proportions within these timestamps, with a value of $\\hat{p}_{thefts} = 0.054$ for Other Thefts and $\\hat{p}_{bne} =  -0.048$ for Break and Enters. \n",
    "\n",
    "Through hypothesis testing via the `infer()` package using a <u>bootstrapping distribution</u>, we obtained the p-value for the difference in proportions of Other Thefts and Break and Enters. \n",
    "Additionally, we conducted hypothesis testing through asymptotic measures via a <u>two sample z-test</u> for the difference of proportions in the previously two stated crimes between the $2018-2022$ and $2004-2008$ time intervals. \n",
    "\n",
    "To reiterate, our **null hypothesis** states that there would be no change in the difference in proportions from $2018-2022$ and $2004-2008$ for theft and break and enters. Our **alternative hypothesis** conveys that we would expect to observe a decrease in the difference in proportions from $2018-2022$ and $2004-2008$ for theft and break and enters.\n",
    "\n",
    "#### Data Analysis of Break and Enters\n",
    "By a <u>permutation hypothesis test</u>, we gathered a p-value of $0.031$; we are able to reject the null hypothesis regarding Break and Enter crime rates in Vancouver at a significance level of $\\alpha = 0.05$. Since the p-value is less than $\\alpha$, we reject the null hypothesis in favor of the alternative hypothesis, suggesting that our observed data is statistically significant and that there has been a decrease in Break and Enter crimes in Vancouver (additionally supporting to the statement made by Anderson et al., (2017)). Moreover, the p-value generated from a <u>two-sample t-test</u> was $0.027$, similarly rejecting the null hypothesis at a $5\\%$ significance level. \n",
    "\n",
    "The $95\\%$ confidence interval values for the proportional difference in Break and Enters calculated through a <u>bootstrap distribution</u> were $[-0.09081, -0.00379]$. Furthermore, confidence interval testings were conducted through <u>theory-based standard error estimates</u> at a $95\\%$ confidence interval for the proportional difference in the stated crimes as well; the confidence interval is $[-0.9237, -0.00363]$. As both the intervals are less than $0$, we **reject the null hypothesis**. \n",
    "\n",
    "#### Comparison of the Confidence Intervals for Other Thefts and Break and Enters ####\n",
    "By comparing the two intervals acquired for the two examined types of crime, we are able to note the differences in width in using the estimates or bootstrapping methods. As seen above, the confidence intervals obtained from the bootstrapping distribution was more narrow in comparison to that acquired from a standard error estimate; this may be due to how standard errors often rely on assumptions based on the distribution of the data, and if these assumptions are not entirely satisfied, the resulting interval may be wider to account for any variability. \n",
    "\n",
    "Both the bootstrapping and theory based confidence intervals suggest that theft has not decreased between the two time frames, while Break and Enters have reduced. This is because the theft confidence intervals are above or include 0, while the Break and Enters are below 0. This conclusion can be reached as we are $95\\%$ confident that the difference in proportion of Break and Enter crime rates in Vancouver between the two time frames falls between $[-0.9237, -0.00363]$. Additionally, we are _unable_ to conclude that there is a decrease in the proportion of Other Theft crime rates in Vancouver between the two time frames, since we are $95\\%$ confident that the true proportion difference has a value between $[0.001106047, 0.106894]$.\n",
    "\n",
    "#### Implications \n",
    "Given the observed data stated above, we are able to compare the findings from Phillips et al. (2012) and Anderson et al. (2017). We anticipated that the crime rates in Vancouver would decrease over time in alignment with Anderson et al. (2017). In our analysis, we were unable to reject the null hypothesis regarding Other Thefts, but we were able to conclude that the Break and Enter crime rates have decreased in the span of 20 years in Vancouver. This draws implications towards the development of technology, such as Geospatial technology that refers to the ability to assess crime based on its location and prediction with a high accuracy (Azmy et al., 2020). As the future approaches and technology begins to advance, many households and workplaces will be equipped with more protective security systems such as CCTV cameras in hopes of deterring crime and providing faster crime resolution. Additionally, geospatial technology is quickly advancing as the forms in which crime data is analyzed is enhanced over time to help law enforcement predict and prevent crimes from occurring by identifying patterns and trends in criminal behavior within a location. This supports the trend that was hypothesized by Anderson et al. (2017), stating that there are decreases in certain crime types in particular areas in Vancouver; the reason we would expect that crime rates (such as Break and Enter) decrease could be due to the fact that technology is enhancing by the minute with a growing technological field. All in all, although we were unable to portray statistically significant data for Other Thefts, we have significant evidence to conclude that there has been a decrease in Break and Enter crime rates from $2018-2022$ and $2004-2008$. \n",
    "\n",
    "### If relevant, discuss whether your results were what you expected to find.\n",
    "As mentioned above in the report we found contradicting sources, therefore we needed to choose which theory we wanted to test. We decided to test whether what Anderson et al. hypothesized was depicted by the data. This was evident in our alternate hypothesis for both Thefts and Break and enters. We were very surprised to find that thefts actually increased over time, and therefore the p-value was $0.982$. This is an extremely high p-value, and this was very unexpected. However, break and enter did have a p-value lower than $\\alpha = 0.05$, which was what Anderson et al. predicted and what we expected to find. The confidence intervals further support the hypothesis test and give us a range for what the population could be. However, we were surprised at how narrow the intervals were, although we had a very large sample size. Lastly, since our sample sizes were large, we expected both the theory based and bootstrapping confidence intervals to be similar. There were some differences due to the difference in methods and simplicity of the theory based estimation, however they were minor differences as expected. \n",
    "\n",
    "### Discuss future questions/research this study could lead to.\n",
    "This analysis raises future questions about the arguments by Phillip et al., and  Anderson et al. The relationship between unemployment and crime rates needs to be studied further with emphasis on the type of crime. Our study showed one type of crime that did increase with unemployment, however one also decreased. Additionally, further research can be done on types other than just Break and Enters and theft. This study also leads to the question of if there is a predictor of crime rates other than unemployment. Lastly, there are unexplored avenues between neighbors in vancouver and crimes that this study did not address which can serve as a basis for future research.\n"
   ]
  },
  {
   "cell_type": "markdown",
   "id": "e5fa6502-0c93-4d7a-b650-84ab7cc2945a",
   "metadata": {},
   "source": [
    "## References"
   ]
  },
  {
   "cell_type": "markdown",
   "id": "eccbdbba-9659-4c51-8d77-4117d3f85546",
   "metadata": {},
   "source": [
    "Anderson, M. A., Curman, A. S., & Lining, S. J. (2017). The Trajectories of Crime at Places: \n",
    "    Understanding the Patterns of Disaggregated Crime Types. Journal of Quantitative \n",
    "    Criminology, 33, 427-449. https://doi.org/10.1007/s10940-016-9301-1 \n",
    "    \n",
    "Azmy, S. N., Asmadi, M. A., Rahman, M. Z. A., Amerudin, S., & Zainon, O. (2020). Burglary \n",
    "    crime susceptibility assessment using bivariate statistics approach of information value \n",
    "    model. IOP Conference Series: Earth and Environmental Science, 540(1) \n",
    "    https://doi.org/10.1088/1755-1315/540/1/012043 \n",
    "\n",
    "Phillips, J., & Land, K. C. (2012). The link between unemployment and crime rate fluctuations: \n",
    "    An analysis at the county, state, and national levels. Social Science Research, 41(3), \n",
    "    681-694. https://doi.org/10.1016/j.ssresearch.2012.01.001 \n",
    "\n",
    "StatCan. (2023). Rate of unemployment in British Columbia, Canada from 2000 to 2022 \n",
    "    [Graph]. In Statista. https://www.statista.com/statistics/569373/unemployment-rate-british-columbia-canada/ "
   ]
  }
 ],
 "metadata": {
  "kernelspec": {
   "display_name": "R",
   "language": "R",
   "name": "ir"
  },
  "language_info": {
   "codemirror_mode": "r",
   "file_extension": ".r",
   "mimetype": "text/x-r-source",
   "name": "R",
   "pygments_lexer": "r",
   "version": "4.3.1"
  }
 },
 "nbformat": 4,
 "nbformat_minor": 5
}
