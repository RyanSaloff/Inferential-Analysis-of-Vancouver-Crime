{
 "cells": [
  {
   "cell_type": "markdown",
   "id": "a1f51431-0403-487e-a030-ca100a8185a9",
   "metadata": {},
   "source": []
  },
  {
   "cell_type": "code",
   "execution_count": null,
   "id": "ff57d85e-7b19-4aba-9e30-3c53e33767d7",
   "metadata": {},
   "outputs": [],
   "source": []
  },
  {
   "cell_type": "code",
   "execution_count": null,
   "id": "d26ffaa9-ffe1-4cfb-8d1f-0ecd5d4a88a4",
   "metadata": {},
   "outputs": [],
   "source": []
  },
  {
   "cell_type": "code",
   "execution_count": null,
   "id": "562e2b55-29d1-4e56-a4f7-168ff82cba09",
   "metadata": {},
   "outputs": [],
   "source": []
  },
  {
   "cell_type": "markdown",
   "id": "9a714527-085b-4365-8651-d57920e78351",
   "metadata": {},
   "source": [
    "## Preliminary Results"
   ]
  },
  {
   "cell_type": "markdown",
   "id": "a6ddce53-b13d-486b-a85e-19ccd0ec4854",
   "metadata": {},
   "source": [
    "#### Read Data from the Web"
   ]
  },
  {
   "cell_type": "code",
   "execution_count": 11,
   "id": "8a42797e-21ca-469f-a808-ab51714ad337",
   "metadata": {
    "tags": []
   },
   "outputs": [],
   "source": [
    "# Installs and loads the packages used in the data analysis\n",
    "library(cowplot)\n",
    "library(digest)\n",
    "library(gridExtra)\n",
    "library(infer)\n",
    "library(repr)\n",
    "library(tidyverse)\n",
    "library(datateachr)"
   ]
  },
  {
   "cell_type": "code",
   "execution_count": 12,
   "id": "f1a680b7-6e56-46d1-bc6b-7344724d3400",
   "metadata": {
    "tags": []
   },
   "outputs": [
    {
     "data": {
      "text/html": [
       "<table class=\"dataframe\">\n",
       "<caption>A data.frame: 6 × 10</caption>\n",
       "<thead>\n",
       "\t<tr><th></th><th scope=col>TYPE</th><th scope=col>YEAR</th><th scope=col>MONTH</th><th scope=col>DAY</th><th scope=col>HOUR</th><th scope=col>MINUTE</th><th scope=col>HUNDRED_BLOCK</th><th scope=col>NEIGHBOURHOOD</th><th scope=col>X</th><th scope=col>Y</th></tr>\n",
       "\t<tr><th></th><th scope=col>&lt;chr&gt;</th><th scope=col>&lt;int&gt;</th><th scope=col>&lt;int&gt;</th><th scope=col>&lt;int&gt;</th><th scope=col>&lt;int&gt;</th><th scope=col>&lt;int&gt;</th><th scope=col>&lt;chr&gt;</th><th scope=col>&lt;chr&gt;</th><th scope=col>&lt;dbl&gt;</th><th scope=col>&lt;dbl&gt;</th></tr>\n",
       "</thead>\n",
       "<tbody>\n",
       "\t<tr><th scope=row>1</th><td>Break and Enter Commercial</td><td>2012</td><td>12</td><td>14</td><td> 8</td><td>52</td><td>               </td><td>Oakridge</td><td>491285.0</td><td>5453433</td></tr>\n",
       "\t<tr><th scope=row>2</th><td>Break and Enter Commercial</td><td>2019</td><td> 3</td><td> 7</td><td> 2</td><td> 6</td><td>10XX SITKA SQ  </td><td>Fairview</td><td>490613.0</td><td>5457110</td></tr>\n",
       "\t<tr><th scope=row>3</th><td>Break and Enter Commercial</td><td>2019</td><td> 8</td><td>27</td><td> 4</td><td>12</td><td>10XX ALBERNI ST</td><td>West End</td><td>491007.8</td><td>5459174</td></tr>\n",
       "\t<tr><th scope=row>4</th><td>Break and Enter Commercial</td><td>2021</td><td> 4</td><td>26</td><td> 4</td><td>44</td><td>10XX ALBERNI ST</td><td>West End</td><td>491007.8</td><td>5459174</td></tr>\n",
       "\t<tr><th scope=row>5</th><td>Break and Enter Commercial</td><td>2014</td><td> 8</td><td> 8</td><td> 5</td><td>13</td><td>10XX ALBERNI ST</td><td>West End</td><td>491015.9</td><td>5459166</td></tr>\n",
       "\t<tr><th scope=row>6</th><td>Break and Enter Commercial</td><td>2020</td><td> 7</td><td>28</td><td>19</td><td>12</td><td>10XX ALBERNI ST</td><td>West End</td><td>491015.9</td><td>5459166</td></tr>\n",
       "</tbody>\n",
       "</table>\n"
      ],
      "text/latex": [
       "A data.frame: 6 × 10\n",
       "\\begin{tabular}{r|llllllllll}\n",
       "  & TYPE & YEAR & MONTH & DAY & HOUR & MINUTE & HUNDRED\\_BLOCK & NEIGHBOURHOOD & X & Y\\\\\n",
       "  & <chr> & <int> & <int> & <int> & <int> & <int> & <chr> & <chr> & <dbl> & <dbl>\\\\\n",
       "\\hline\n",
       "\t1 & Break and Enter Commercial & 2012 & 12 & 14 &  8 & 52 &                 & Oakridge & 491285.0 & 5453433\\\\\n",
       "\t2 & Break and Enter Commercial & 2019 &  3 &  7 &  2 &  6 & 10XX SITKA SQ   & Fairview & 490613.0 & 5457110\\\\\n",
       "\t3 & Break and Enter Commercial & 2019 &  8 & 27 &  4 & 12 & 10XX ALBERNI ST & West End & 491007.8 & 5459174\\\\\n",
       "\t4 & Break and Enter Commercial & 2021 &  4 & 26 &  4 & 44 & 10XX ALBERNI ST & West End & 491007.8 & 5459174\\\\\n",
       "\t5 & Break and Enter Commercial & 2014 &  8 &  8 &  5 & 13 & 10XX ALBERNI ST & West End & 491015.9 & 5459166\\\\\n",
       "\t6 & Break and Enter Commercial & 2020 &  7 & 28 & 19 & 12 & 10XX ALBERNI ST & West End & 491015.9 & 5459166\\\\\n",
       "\\end{tabular}\n"
      ],
      "text/markdown": [
       "\n",
       "A data.frame: 6 × 10\n",
       "\n",
       "| <!--/--> | TYPE &lt;chr&gt; | YEAR &lt;int&gt; | MONTH &lt;int&gt; | DAY &lt;int&gt; | HOUR &lt;int&gt; | MINUTE &lt;int&gt; | HUNDRED_BLOCK &lt;chr&gt; | NEIGHBOURHOOD &lt;chr&gt; | X &lt;dbl&gt; | Y &lt;dbl&gt; |\n",
       "|---|---|---|---|---|---|---|---|---|---|---|\n",
       "| 1 | Break and Enter Commercial | 2012 | 12 | 14 |  8 | 52 | <!----> | Oakridge | 491285.0 | 5453433 |\n",
       "| 2 | Break and Enter Commercial | 2019 |  3 |  7 |  2 |  6 | 10XX SITKA SQ   | Fairview | 490613.0 | 5457110 |\n",
       "| 3 | Break and Enter Commercial | 2019 |  8 | 27 |  4 | 12 | 10XX ALBERNI ST | West End | 491007.8 | 5459174 |\n",
       "| 4 | Break and Enter Commercial | 2021 |  4 | 26 |  4 | 44 | 10XX ALBERNI ST | West End | 491007.8 | 5459174 |\n",
       "| 5 | Break and Enter Commercial | 2014 |  8 |  8 |  5 | 13 | 10XX ALBERNI ST | West End | 491015.9 | 5459166 |\n",
       "| 6 | Break and Enter Commercial | 2020 |  7 | 28 | 19 | 12 | 10XX ALBERNI ST | West End | 491015.9 | 5459166 |\n",
       "\n"
      ],
      "text/plain": [
       "  TYPE                       YEAR MONTH DAY HOUR MINUTE HUNDRED_BLOCK  \n",
       "1 Break and Enter Commercial 2012 12    14   8   52                    \n",
       "2 Break and Enter Commercial 2019  3     7   2    6     10XX SITKA SQ  \n",
       "3 Break and Enter Commercial 2019  8    27   4   12     10XX ALBERNI ST\n",
       "4 Break and Enter Commercial 2021  4    26   4   44     10XX ALBERNI ST\n",
       "5 Break and Enter Commercial 2014  8     8   5   13     10XX ALBERNI ST\n",
       "6 Break and Enter Commercial 2020  7    28  19   12     10XX ALBERNI ST\n",
       "  NEIGHBOURHOOD X        Y      \n",
       "1 Oakridge      491285.0 5453433\n",
       "2 Fairview      490613.0 5457110\n",
       "3 West End      491007.8 5459174\n",
       "4 West End      491007.8 5459174\n",
       "5 West End      491015.9 5459166\n",
       "6 West End      491015.9 5459166"
      ]
     },
     "metadata": {},
     "output_type": "display_data"
    },
    {
     "data": {
      "text/html": [
       "<table class=\"dataframe\">\n",
       "<caption>A data.frame: 6 × 10</caption>\n",
       "<thead>\n",
       "\t<tr><th></th><th scope=col>TYPE</th><th scope=col>YEAR</th><th scope=col>MONTH</th><th scope=col>DAY</th><th scope=col>HOUR</th><th scope=col>MINUTE</th><th scope=col>HUNDRED_BLOCK</th><th scope=col>NEIGHBOURHOOD</th><th scope=col>X</th><th scope=col>Y</th></tr>\n",
       "\t<tr><th></th><th scope=col>&lt;chr&gt;</th><th scope=col>&lt;int&gt;</th><th scope=col>&lt;int&gt;</th><th scope=col>&lt;int&gt;</th><th scope=col>&lt;int&gt;</th><th scope=col>&lt;int&gt;</th><th scope=col>&lt;chr&gt;</th><th scope=col>&lt;chr&gt;</th><th scope=col>&lt;dbl&gt;</th><th scope=col>&lt;dbl&gt;</th></tr>\n",
       "</thead>\n",
       "<tbody>\n",
       "\t<tr><th scope=row>877874</th><td>Vehicle Collision or Pedestrian Struck (with Injury)</td><td>2023</td><td> 2</td><td>22</td><td>12</td><td>12</td><td>YUKON ST / W BROADWAY AVE   </td><td>Mount Pleasant</td><td>491786</td><td>5456719</td></tr>\n",
       "\t<tr><th scope=row>877875</th><td>Vehicle Collision or Pedestrian Struck (with Injury)</td><td>2003</td><td> 9</td><td> 1</td><td>20</td><td>45</td><td>YUKON ST / W KING EDWARD AVE</td><td>Riley Park    </td><td>491786</td><td>5455143</td></tr>\n",
       "\t<tr><th scope=row>877876</th><td>Vehicle Collision or Pedestrian Struck (with Injury)</td><td>2005</td><td> 7</td><td>20</td><td>18</td><td>57</td><td>YUKON ST / W KING EDWARD AVE</td><td>Riley Park    </td><td>491786</td><td>5455143</td></tr>\n",
       "\t<tr><th scope=row>877877</th><td>Vehicle Collision or Pedestrian Struck (with Injury)</td><td>2016</td><td> 6</td><td>20</td><td>18</td><td>11</td><td>YUKON ST / W KING EDWARD AVE</td><td>Riley Park    </td><td>491786</td><td>5455143</td></tr>\n",
       "\t<tr><th scope=row>877878</th><td>Vehicle Collision or Pedestrian Struck (with Injury)</td><td>2013</td><td>12</td><td> 3</td><td> 9</td><td>49</td><td>YUKON ST / W KING EDWARD AVE</td><td>Riley Park    </td><td>491835</td><td>5455126</td></tr>\n",
       "\t<tr><th scope=row>877879</th><td>Vehicle Collision or Pedestrian Struck (with Injury)</td><td>2013</td><td>12</td><td>27</td><td>14</td><td>40</td><td>YUKON ST / W KING EDWARD AVE</td><td>Riley Park    </td><td>491835</td><td>5455126</td></tr>\n",
       "</tbody>\n",
       "</table>\n"
      ],
      "text/latex": [
       "A data.frame: 6 × 10\n",
       "\\begin{tabular}{r|llllllllll}\n",
       "  & TYPE & YEAR & MONTH & DAY & HOUR & MINUTE & HUNDRED\\_BLOCK & NEIGHBOURHOOD & X & Y\\\\\n",
       "  & <chr> & <int> & <int> & <int> & <int> & <int> & <chr> & <chr> & <dbl> & <dbl>\\\\\n",
       "\\hline\n",
       "\t877874 & Vehicle Collision or Pedestrian Struck (with Injury) & 2023 &  2 & 22 & 12 & 12 & YUKON ST / W BROADWAY AVE    & Mount Pleasant & 491786 & 5456719\\\\\n",
       "\t877875 & Vehicle Collision or Pedestrian Struck (with Injury) & 2003 &  9 &  1 & 20 & 45 & YUKON ST / W KING EDWARD AVE & Riley Park     & 491786 & 5455143\\\\\n",
       "\t877876 & Vehicle Collision or Pedestrian Struck (with Injury) & 2005 &  7 & 20 & 18 & 57 & YUKON ST / W KING EDWARD AVE & Riley Park     & 491786 & 5455143\\\\\n",
       "\t877877 & Vehicle Collision or Pedestrian Struck (with Injury) & 2016 &  6 & 20 & 18 & 11 & YUKON ST / W KING EDWARD AVE & Riley Park     & 491786 & 5455143\\\\\n",
       "\t877878 & Vehicle Collision or Pedestrian Struck (with Injury) & 2013 & 12 &  3 &  9 & 49 & YUKON ST / W KING EDWARD AVE & Riley Park     & 491835 & 5455126\\\\\n",
       "\t877879 & Vehicle Collision or Pedestrian Struck (with Injury) & 2013 & 12 & 27 & 14 & 40 & YUKON ST / W KING EDWARD AVE & Riley Park     & 491835 & 5455126\\\\\n",
       "\\end{tabular}\n"
      ],
      "text/markdown": [
       "\n",
       "A data.frame: 6 × 10\n",
       "\n",
       "| <!--/--> | TYPE &lt;chr&gt; | YEAR &lt;int&gt; | MONTH &lt;int&gt; | DAY &lt;int&gt; | HOUR &lt;int&gt; | MINUTE &lt;int&gt; | HUNDRED_BLOCK &lt;chr&gt; | NEIGHBOURHOOD &lt;chr&gt; | X &lt;dbl&gt; | Y &lt;dbl&gt; |\n",
       "|---|---|---|---|---|---|---|---|---|---|---|\n",
       "| 877874 | Vehicle Collision or Pedestrian Struck (with Injury) | 2023 |  2 | 22 | 12 | 12 | YUKON ST / W BROADWAY AVE    | Mount Pleasant | 491786 | 5456719 |\n",
       "| 877875 | Vehicle Collision or Pedestrian Struck (with Injury) | 2003 |  9 |  1 | 20 | 45 | YUKON ST / W KING EDWARD AVE | Riley Park     | 491786 | 5455143 |\n",
       "| 877876 | Vehicle Collision or Pedestrian Struck (with Injury) | 2005 |  7 | 20 | 18 | 57 | YUKON ST / W KING EDWARD AVE | Riley Park     | 491786 | 5455143 |\n",
       "| 877877 | Vehicle Collision or Pedestrian Struck (with Injury) | 2016 |  6 | 20 | 18 | 11 | YUKON ST / W KING EDWARD AVE | Riley Park     | 491786 | 5455143 |\n",
       "| 877878 | Vehicle Collision or Pedestrian Struck (with Injury) | 2013 | 12 |  3 |  9 | 49 | YUKON ST / W KING EDWARD AVE | Riley Park     | 491835 | 5455126 |\n",
       "| 877879 | Vehicle Collision or Pedestrian Struck (with Injury) | 2013 | 12 | 27 | 14 | 40 | YUKON ST / W KING EDWARD AVE | Riley Park     | 491835 | 5455126 |\n",
       "\n"
      ],
      "text/plain": [
       "       TYPE                                                 YEAR MONTH DAY HOUR\n",
       "877874 Vehicle Collision or Pedestrian Struck (with Injury) 2023  2    22  12  \n",
       "877875 Vehicle Collision or Pedestrian Struck (with Injury) 2003  9     1  20  \n",
       "877876 Vehicle Collision or Pedestrian Struck (with Injury) 2005  7    20  18  \n",
       "877877 Vehicle Collision or Pedestrian Struck (with Injury) 2016  6    20  18  \n",
       "877878 Vehicle Collision or Pedestrian Struck (with Injury) 2013 12     3   9  \n",
       "877879 Vehicle Collision or Pedestrian Struck (with Injury) 2013 12    27  14  \n",
       "       MINUTE HUNDRED_BLOCK                NEIGHBOURHOOD  X      Y      \n",
       "877874 12     YUKON ST / W BROADWAY AVE    Mount Pleasant 491786 5456719\n",
       "877875 45     YUKON ST / W KING EDWARD AVE Riley Park     491786 5455143\n",
       "877876 57     YUKON ST / W KING EDWARD AVE Riley Park     491786 5455143\n",
       "877877 11     YUKON ST / W KING EDWARD AVE Riley Park     491786 5455143\n",
       "877878 49     YUKON ST / W KING EDWARD AVE Riley Park     491835 5455126\n",
       "877879 40     YUKON ST / W KING EDWARD AVE Riley Park     491835 5455126"
      ]
     },
     "metadata": {},
     "output_type": "display_data"
    }
   ],
   "source": [
    "# Loads the dataset from the web\n",
    "dataset <- read.csv(url(\"https://docs.google.com/spreadsheets/d/1SXkE_T-CmZzd1kPAIArQOLg9GQa_ftnmVMAI30sVDqo/export?gid=277724310&format=csv\")) \n",
    "\n",
    "# Prints the first 6 rows of the dataset\n",
    "head(dataset)\n",
    "\n",
    "# Prints the last 6 rows of the dataset\n",
    "tail(dataset)"
   ]
  },
  {
   "cell_type": "markdown",
   "id": "0c0527fa-9789-4651-8ccf-6b6c9e7708f9",
   "metadata": {},
   "source": [
    "#### Cleaning and Wrangling"
   ]
  },
  {
   "cell_type": "code",
   "execution_count": 13,
   "id": "d2ae8edf-529c-4546-a27c-907554567e38",
   "metadata": {
    "tags": []
   },
   "outputs": [
    {
     "data": {
      "text/html": [
       "<table class=\"dataframe\">\n",
       "<caption>A data.frame: 6 × 8</caption>\n",
       "<thead>\n",
       "\t<tr><th></th><th scope=col>TYPE</th><th scope=col>YEAR</th><th scope=col>MONTH</th><th scope=col>DAY</th><th scope=col>HOUR</th><th scope=col>MINUTE</th><th scope=col>HUNDRED_BLOCK</th><th scope=col>NEIGHBOURHOOD</th></tr>\n",
       "\t<tr><th></th><th scope=col>&lt;chr&gt;</th><th scope=col>&lt;int&gt;</th><th scope=col>&lt;int&gt;</th><th scope=col>&lt;int&gt;</th><th scope=col>&lt;int&gt;</th><th scope=col>&lt;int&gt;</th><th scope=col>&lt;chr&gt;</th><th scope=col>&lt;chr&gt;</th></tr>\n",
       "</thead>\n",
       "<tbody>\n",
       "\t<tr><th scope=row>1</th><td>Break and Enter Commercial</td><td>2012</td><td>12</td><td>14</td><td> 8</td><td>52</td><td>               </td><td>Oakridge</td></tr>\n",
       "\t<tr><th scope=row>2</th><td>Break and Enter Commercial</td><td>2019</td><td> 3</td><td> 7</td><td> 2</td><td> 6</td><td>10XX SITKA SQ  </td><td>Fairview</td></tr>\n",
       "\t<tr><th scope=row>3</th><td>Break and Enter Commercial</td><td>2019</td><td> 8</td><td>27</td><td> 4</td><td>12</td><td>10XX ALBERNI ST</td><td>West End</td></tr>\n",
       "\t<tr><th scope=row>4</th><td>Break and Enter Commercial</td><td>2021</td><td> 4</td><td>26</td><td> 4</td><td>44</td><td>10XX ALBERNI ST</td><td>West End</td></tr>\n",
       "\t<tr><th scope=row>5</th><td>Break and Enter Commercial</td><td>2014</td><td> 8</td><td> 8</td><td> 5</td><td>13</td><td>10XX ALBERNI ST</td><td>West End</td></tr>\n",
       "\t<tr><th scope=row>6</th><td>Break and Enter Commercial</td><td>2020</td><td> 7</td><td>28</td><td>19</td><td>12</td><td>10XX ALBERNI ST</td><td>West End</td></tr>\n",
       "</tbody>\n",
       "</table>\n"
      ],
      "text/latex": [
       "A data.frame: 6 × 8\n",
       "\\begin{tabular}{r|llllllll}\n",
       "  & TYPE & YEAR & MONTH & DAY & HOUR & MINUTE & HUNDRED\\_BLOCK & NEIGHBOURHOOD\\\\\n",
       "  & <chr> & <int> & <int> & <int> & <int> & <int> & <chr> & <chr>\\\\\n",
       "\\hline\n",
       "\t1 & Break and Enter Commercial & 2012 & 12 & 14 &  8 & 52 &                 & Oakridge\\\\\n",
       "\t2 & Break and Enter Commercial & 2019 &  3 &  7 &  2 &  6 & 10XX SITKA SQ   & Fairview\\\\\n",
       "\t3 & Break and Enter Commercial & 2019 &  8 & 27 &  4 & 12 & 10XX ALBERNI ST & West End\\\\\n",
       "\t4 & Break and Enter Commercial & 2021 &  4 & 26 &  4 & 44 & 10XX ALBERNI ST & West End\\\\\n",
       "\t5 & Break and Enter Commercial & 2014 &  8 &  8 &  5 & 13 & 10XX ALBERNI ST & West End\\\\\n",
       "\t6 & Break and Enter Commercial & 2020 &  7 & 28 & 19 & 12 & 10XX ALBERNI ST & West End\\\\\n",
       "\\end{tabular}\n"
      ],
      "text/markdown": [
       "\n",
       "A data.frame: 6 × 8\n",
       "\n",
       "| <!--/--> | TYPE &lt;chr&gt; | YEAR &lt;int&gt; | MONTH &lt;int&gt; | DAY &lt;int&gt; | HOUR &lt;int&gt; | MINUTE &lt;int&gt; | HUNDRED_BLOCK &lt;chr&gt; | NEIGHBOURHOOD &lt;chr&gt; |\n",
       "|---|---|---|---|---|---|---|---|---|\n",
       "| 1 | Break and Enter Commercial | 2012 | 12 | 14 |  8 | 52 | <!----> | Oakridge |\n",
       "| 2 | Break and Enter Commercial | 2019 |  3 |  7 |  2 |  6 | 10XX SITKA SQ   | Fairview |\n",
       "| 3 | Break and Enter Commercial | 2019 |  8 | 27 |  4 | 12 | 10XX ALBERNI ST | West End |\n",
       "| 4 | Break and Enter Commercial | 2021 |  4 | 26 |  4 | 44 | 10XX ALBERNI ST | West End |\n",
       "| 5 | Break and Enter Commercial | 2014 |  8 |  8 |  5 | 13 | 10XX ALBERNI ST | West End |\n",
       "| 6 | Break and Enter Commercial | 2020 |  7 | 28 | 19 | 12 | 10XX ALBERNI ST | West End |\n",
       "\n"
      ],
      "text/plain": [
       "  TYPE                       YEAR MONTH DAY HOUR MINUTE HUNDRED_BLOCK  \n",
       "1 Break and Enter Commercial 2012 12    14   8   52                    \n",
       "2 Break and Enter Commercial 2019  3     7   2    6     10XX SITKA SQ  \n",
       "3 Break and Enter Commercial 2019  8    27   4   12     10XX ALBERNI ST\n",
       "4 Break and Enter Commercial 2021  4    26   4   44     10XX ALBERNI ST\n",
       "5 Break and Enter Commercial 2014  8     8   5   13     10XX ALBERNI ST\n",
       "6 Break and Enter Commercial 2020  7    28  19   12     10XX ALBERNI ST\n",
       "  NEIGHBOURHOOD\n",
       "1 Oakridge     \n",
       "2 Fairview     \n",
       "3 West End     \n",
       "4 West End     \n",
       "5 West End     \n",
       "6 West End     "
      ]
     },
     "metadata": {},
     "output_type": "display_data"
    },
    {
     "data": {
      "text/html": [
       "<table class=\"dataframe\">\n",
       "<caption>A data.frame: 6 × 8</caption>\n",
       "<thead>\n",
       "\t<tr><th></th><th scope=col>TYPE</th><th scope=col>YEAR</th><th scope=col>MONTH</th><th scope=col>DAY</th><th scope=col>HOUR</th><th scope=col>MINUTE</th><th scope=col>HUNDRED_BLOCK</th><th scope=col>NEIGHBOURHOOD</th></tr>\n",
       "\t<tr><th></th><th scope=col>&lt;chr&gt;</th><th scope=col>&lt;int&gt;</th><th scope=col>&lt;int&gt;</th><th scope=col>&lt;int&gt;</th><th scope=col>&lt;int&gt;</th><th scope=col>&lt;int&gt;</th><th scope=col>&lt;chr&gt;</th><th scope=col>&lt;chr&gt;</th></tr>\n",
       "</thead>\n",
       "<tbody>\n",
       "\t<tr><th scope=row>877874</th><td>Vehicle Collision or Pedestrian Struck (with Injury)</td><td>2023</td><td> 2</td><td>22</td><td>12</td><td>12</td><td>YUKON ST / W BROADWAY AVE   </td><td>Mount Pleasant</td></tr>\n",
       "\t<tr><th scope=row>877875</th><td>Vehicle Collision or Pedestrian Struck (with Injury)</td><td>2003</td><td> 9</td><td> 1</td><td>20</td><td>45</td><td>YUKON ST / W KING EDWARD AVE</td><td>Riley Park    </td></tr>\n",
       "\t<tr><th scope=row>877876</th><td>Vehicle Collision or Pedestrian Struck (with Injury)</td><td>2005</td><td> 7</td><td>20</td><td>18</td><td>57</td><td>YUKON ST / W KING EDWARD AVE</td><td>Riley Park    </td></tr>\n",
       "\t<tr><th scope=row>877877</th><td>Vehicle Collision or Pedestrian Struck (with Injury)</td><td>2016</td><td> 6</td><td>20</td><td>18</td><td>11</td><td>YUKON ST / W KING EDWARD AVE</td><td>Riley Park    </td></tr>\n",
       "\t<tr><th scope=row>877878</th><td>Vehicle Collision or Pedestrian Struck (with Injury)</td><td>2013</td><td>12</td><td> 3</td><td> 9</td><td>49</td><td>YUKON ST / W KING EDWARD AVE</td><td>Riley Park    </td></tr>\n",
       "\t<tr><th scope=row>877879</th><td>Vehicle Collision or Pedestrian Struck (with Injury)</td><td>2013</td><td>12</td><td>27</td><td>14</td><td>40</td><td>YUKON ST / W KING EDWARD AVE</td><td>Riley Park    </td></tr>\n",
       "</tbody>\n",
       "</table>\n"
      ],
      "text/latex": [
       "A data.frame: 6 × 8\n",
       "\\begin{tabular}{r|llllllll}\n",
       "  & TYPE & YEAR & MONTH & DAY & HOUR & MINUTE & HUNDRED\\_BLOCK & NEIGHBOURHOOD\\\\\n",
       "  & <chr> & <int> & <int> & <int> & <int> & <int> & <chr> & <chr>\\\\\n",
       "\\hline\n",
       "\t877874 & Vehicle Collision or Pedestrian Struck (with Injury) & 2023 &  2 & 22 & 12 & 12 & YUKON ST / W BROADWAY AVE    & Mount Pleasant\\\\\n",
       "\t877875 & Vehicle Collision or Pedestrian Struck (with Injury) & 2003 &  9 &  1 & 20 & 45 & YUKON ST / W KING EDWARD AVE & Riley Park    \\\\\n",
       "\t877876 & Vehicle Collision or Pedestrian Struck (with Injury) & 2005 &  7 & 20 & 18 & 57 & YUKON ST / W KING EDWARD AVE & Riley Park    \\\\\n",
       "\t877877 & Vehicle Collision or Pedestrian Struck (with Injury) & 2016 &  6 & 20 & 18 & 11 & YUKON ST / W KING EDWARD AVE & Riley Park    \\\\\n",
       "\t877878 & Vehicle Collision or Pedestrian Struck (with Injury) & 2013 & 12 &  3 &  9 & 49 & YUKON ST / W KING EDWARD AVE & Riley Park    \\\\\n",
       "\t877879 & Vehicle Collision or Pedestrian Struck (with Injury) & 2013 & 12 & 27 & 14 & 40 & YUKON ST / W KING EDWARD AVE & Riley Park    \\\\\n",
       "\\end{tabular}\n"
      ],
      "text/markdown": [
       "\n",
       "A data.frame: 6 × 8\n",
       "\n",
       "| <!--/--> | TYPE &lt;chr&gt; | YEAR &lt;int&gt; | MONTH &lt;int&gt; | DAY &lt;int&gt; | HOUR &lt;int&gt; | MINUTE &lt;int&gt; | HUNDRED_BLOCK &lt;chr&gt; | NEIGHBOURHOOD &lt;chr&gt; |\n",
       "|---|---|---|---|---|---|---|---|---|\n",
       "| 877874 | Vehicle Collision or Pedestrian Struck (with Injury) | 2023 |  2 | 22 | 12 | 12 | YUKON ST / W BROADWAY AVE    | Mount Pleasant |\n",
       "| 877875 | Vehicle Collision or Pedestrian Struck (with Injury) | 2003 |  9 |  1 | 20 | 45 | YUKON ST / W KING EDWARD AVE | Riley Park     |\n",
       "| 877876 | Vehicle Collision or Pedestrian Struck (with Injury) | 2005 |  7 | 20 | 18 | 57 | YUKON ST / W KING EDWARD AVE | Riley Park     |\n",
       "| 877877 | Vehicle Collision or Pedestrian Struck (with Injury) | 2016 |  6 | 20 | 18 | 11 | YUKON ST / W KING EDWARD AVE | Riley Park     |\n",
       "| 877878 | Vehicle Collision or Pedestrian Struck (with Injury) | 2013 | 12 |  3 |  9 | 49 | YUKON ST / W KING EDWARD AVE | Riley Park     |\n",
       "| 877879 | Vehicle Collision or Pedestrian Struck (with Injury) | 2013 | 12 | 27 | 14 | 40 | YUKON ST / W KING EDWARD AVE | Riley Park     |\n",
       "\n"
      ],
      "text/plain": [
       "       TYPE                                                 YEAR MONTH DAY HOUR\n",
       "877874 Vehicle Collision or Pedestrian Struck (with Injury) 2023  2    22  12  \n",
       "877875 Vehicle Collision or Pedestrian Struck (with Injury) 2003  9     1  20  \n",
       "877876 Vehicle Collision or Pedestrian Struck (with Injury) 2005  7    20  18  \n",
       "877877 Vehicle Collision or Pedestrian Struck (with Injury) 2016  6    20  18  \n",
       "877878 Vehicle Collision or Pedestrian Struck (with Injury) 2013 12     3   9  \n",
       "877879 Vehicle Collision or Pedestrian Struck (with Injury) 2013 12    27  14  \n",
       "       MINUTE HUNDRED_BLOCK                NEIGHBOURHOOD \n",
       "877874 12     YUKON ST / W BROADWAY AVE    Mount Pleasant\n",
       "877875 45     YUKON ST / W KING EDWARD AVE Riley Park    \n",
       "877876 57     YUKON ST / W KING EDWARD AVE Riley Park    \n",
       "877877 11     YUKON ST / W KING EDWARD AVE Riley Park    \n",
       "877878 49     YUKON ST / W KING EDWARD AVE Riley Park    \n",
       "877879 40     YUKON ST / W KING EDWARD AVE Riley Park    "
      ]
     },
     "metadata": {},
     "output_type": "display_data"
    }
   ],
   "source": [
    "# Remove X and Y columns as well as inaccurate data\n",
    "tidy_dataset <- dataset |>\n",
    "    select(-X, -Y) |>\n",
    "    na.omit()\n",
    "\n",
    "# Prints the first 6 rows of the dataset\n",
    "head(tidy_dataset)\n",
    "\n",
    "# Prints the last 6 rows of the dataset\n",
    "tail(tidy_dataset)"
   ]
  },
  {
   "cell_type": "markdown",
   "id": "7353ce99-61f5-43c8-9af1-8c77985f0e4c",
   "metadata": {},
   "source": [
    "#### Plotting the Raw Data"
   ]
  },
  {
   "cell_type": "markdown",
   "id": "003d9a99-4737-4464-b1c7-772c57ed6d06",
   "metadata": {},
   "source": [
    "#### Estimating the Parameter ####"
   ]
  },
  {
   "cell_type": "code",
   "execution_count": 33,
   "id": "314aa117-9cad-43c0-b733-64c98753b9d1",
   "metadata": {
    "tags": []
   },
   "outputs": [
    {
     "data": {
      "text/html": [
       "<table class=\"dataframe\">\n",
       "<caption>A data.frame: 6 × 2</caption>\n",
       "<thead>\n",
       "\t<tr><th></th><th scope=col>TYPE</th><th scope=col>NEIGHBOURHOOD</th></tr>\n",
       "\t<tr><th></th><th scope=col>&lt;chr&gt;</th><th scope=col>&lt;chr&gt;</th></tr>\n",
       "</thead>\n",
       "<tbody>\n",
       "\t<tr><th scope=row>1</th><td>Break and Enter Commercial</td><td>West End</td></tr>\n",
       "\t<tr><th scope=row>2</th><td>Break and Enter Commercial</td><td>West End</td></tr>\n",
       "\t<tr><th scope=row>3</th><td>Break and Enter Commercial</td><td>West End</td></tr>\n",
       "\t<tr><th scope=row>4</th><td>Break and Enter Commercial</td><td>West End</td></tr>\n",
       "\t<tr><th scope=row>5</th><td>Break and Enter Commercial</td><td>West End</td></tr>\n",
       "\t<tr><th scope=row>6</th><td>Break and Enter Commercial</td><td>West End</td></tr>\n",
       "</tbody>\n",
       "</table>\n"
      ],
      "text/latex": [
       "A data.frame: 6 × 2\n",
       "\\begin{tabular}{r|ll}\n",
       "  & TYPE & NEIGHBOURHOOD\\\\\n",
       "  & <chr> & <chr>\\\\\n",
       "\\hline\n",
       "\t1 & Break and Enter Commercial & West End\\\\\n",
       "\t2 & Break and Enter Commercial & West End\\\\\n",
       "\t3 & Break and Enter Commercial & West End\\\\\n",
       "\t4 & Break and Enter Commercial & West End\\\\\n",
       "\t5 & Break and Enter Commercial & West End\\\\\n",
       "\t6 & Break and Enter Commercial & West End\\\\\n",
       "\\end{tabular}\n"
      ],
      "text/markdown": [
       "\n",
       "A data.frame: 6 × 2\n",
       "\n",
       "| <!--/--> | TYPE &lt;chr&gt; | NEIGHBOURHOOD &lt;chr&gt; |\n",
       "|---|---|---|\n",
       "| 1 | Break and Enter Commercial | West End |\n",
       "| 2 | Break and Enter Commercial | West End |\n",
       "| 3 | Break and Enter Commercial | West End |\n",
       "| 4 | Break and Enter Commercial | West End |\n",
       "| 5 | Break and Enter Commercial | West End |\n",
       "| 6 | Break and Enter Commercial | West End |\n",
       "\n"
      ],
      "text/plain": [
       "  TYPE                       NEIGHBOURHOOD\n",
       "1 Break and Enter Commercial West End     \n",
       "2 Break and Enter Commercial West End     \n",
       "3 Break and Enter Commercial West End     \n",
       "4 Break and Enter Commercial West End     \n",
       "5 Break and Enter Commercial West End     \n",
       "6 Break and Enter Commercial West End     "
      ]
     },
     "metadata": {},
     "output_type": "display_data"
    }
   ],
   "source": [
    "# Filters the dataset for years 2004 - 2008 and selects the type of crime and the neighbourhood\n",
    "crime_2004_2008 <- tidy_dataset |>\n",
    "    filter(YEAR %in% (2004:2008)) |>\n",
    "    select(TYPE, NEIGHBOURHOOD)\n",
    "\n",
    "# Prints the first 6 rows of the dataset\n",
    "head(crime_2004_2008)"
   ]
  },
  {
   "cell_type": "code",
   "execution_count": 28,
   "id": "5f544a15-7c97-46cb-b582-8c43fbc92d85",
   "metadata": {
    "tags": []
   },
   "outputs": [
    {
     "name": "stdout",
     "output_type": "stream",
     "text": [
      "[1] \"The estimated proportion of other theft crimes out of all crimes in Vancouver from 2004 - 2008 is 0.21.\"\n",
      "[1] \"The estimated proportion of break and enter crimes out of all crimes in Vancouver from 2004 - 2008 is 0.196.\"\n"
     ]
    }
   ],
   "source": [
    "set.seed(1)\n",
    "\n",
    "# Randomly samples the 2004-2008 crime population (size = 500)\n",
    "sample_2004_2008 <- crime_2004_2008 |>\n",
    "    rep_sample_n(size = 500, replace = FALSE) |>\n",
    "    ungroup() |>\n",
    "    select(-replicate)\n",
    "\n",
    "# Filters for \"Other Theft\" from the random sample\n",
    "other_theft_2004_2008 <- sample_2004_2008 |>\n",
    "    filter(TYPE == \"Other Theft\") \n",
    "\n",
    "# Calculates p̂ for other theft from 2004-2008\n",
    "phat_theft_1 <- nrow(other_theft_2004_2008)/nrow(sample_2004_2008)\n",
    "\n",
    "# Prints the other theft proportion estimate from 2004-2008\n",
    "print(paste0(\"The estimated proportion of other theft crimes out of all crimes in Vancouver from 2004 - 2008 is \", phat_theft_1, \".\"))\n",
    "\n",
    "# Filters for \"Break and Enter Commercial\" and \"Break and Enter Residential/Other\" from the random sample\n",
    "break_and_enter_2004_2008 <- sample_2004_2008 |>\n",
    "    filter(TYPE == \"Break and Enter Commercial\" | TYPE == \"Break and Enter Residential/Other\") \n",
    "\n",
    "# Calculates p̂ for break and enters from 2004-2008\n",
    "phat_bne_1 <- nrow(break_and_enter_2004_2008)/nrow(sample_2004_2008)\n",
    "\n",
    "# Prints the break and enter proportion estimate from 2004-2008\n",
    "print(paste0(\"The estimated proportion of break and enter crimes out of all crimes in Vancouver from 2004 - 2008 is \", phat_bne_1, \".\"))"
   ]
  },
  {
   "cell_type": "markdown",
   "id": "2b130226-fa6c-4106-a960-193df476848f",
   "metadata": {},
   "source": [
    "Now, we will find the sample proportions for the crimes of interest, between 2018 and 2022."
   ]
  },
  {
   "cell_type": "code",
   "execution_count": 18,
   "id": "480d6e76-8985-417e-8656-acf6a22aa18e",
   "metadata": {
    "tags": []
   },
   "outputs": [
    {
     "data": {
      "text/html": [
       "<table class=\"dataframe\">\n",
       "<caption>A data.frame: 6 × 2</caption>\n",
       "<thead>\n",
       "\t<tr><th></th><th scope=col>TYPE</th><th scope=col>NEIGHBOURHOOD</th></tr>\n",
       "\t<tr><th></th><th scope=col>&lt;chr&gt;</th><th scope=col>&lt;chr&gt;</th></tr>\n",
       "</thead>\n",
       "<tbody>\n",
       "\t<tr><th scope=row>1</th><td>Break and Enter Commercial</td><td>Fairview</td></tr>\n",
       "\t<tr><th scope=row>2</th><td>Break and Enter Commercial</td><td>West End</td></tr>\n",
       "\t<tr><th scope=row>3</th><td>Break and Enter Commercial</td><td>West End</td></tr>\n",
       "\t<tr><th scope=row>4</th><td>Break and Enter Commercial</td><td>West End</td></tr>\n",
       "\t<tr><th scope=row>5</th><td>Break and Enter Commercial</td><td>West End</td></tr>\n",
       "\t<tr><th scope=row>6</th><td>Break and Enter Commercial</td><td>West End</td></tr>\n",
       "</tbody>\n",
       "</table>\n"
      ],
      "text/latex": [
       "A data.frame: 6 × 2\n",
       "\\begin{tabular}{r|ll}\n",
       "  & TYPE & NEIGHBOURHOOD\\\\\n",
       "  & <chr> & <chr>\\\\\n",
       "\\hline\n",
       "\t1 & Break and Enter Commercial & Fairview\\\\\n",
       "\t2 & Break and Enter Commercial & West End\\\\\n",
       "\t3 & Break and Enter Commercial & West End\\\\\n",
       "\t4 & Break and Enter Commercial & West End\\\\\n",
       "\t5 & Break and Enter Commercial & West End\\\\\n",
       "\t6 & Break and Enter Commercial & West End\\\\\n",
       "\\end{tabular}\n"
      ],
      "text/markdown": [
       "\n",
       "A data.frame: 6 × 2\n",
       "\n",
       "| <!--/--> | TYPE &lt;chr&gt; | NEIGHBOURHOOD &lt;chr&gt; |\n",
       "|---|---|---|\n",
       "| 1 | Break and Enter Commercial | Fairview |\n",
       "| 2 | Break and Enter Commercial | West End |\n",
       "| 3 | Break and Enter Commercial | West End |\n",
       "| 4 | Break and Enter Commercial | West End |\n",
       "| 5 | Break and Enter Commercial | West End |\n",
       "| 6 | Break and Enter Commercial | West End |\n",
       "\n"
      ],
      "text/plain": [
       "  TYPE                       NEIGHBOURHOOD\n",
       "1 Break and Enter Commercial Fairview     \n",
       "2 Break and Enter Commercial West End     \n",
       "3 Break and Enter Commercial West End     \n",
       "4 Break and Enter Commercial West End     \n",
       "5 Break and Enter Commercial West End     \n",
       "6 Break and Enter Commercial West End     "
      ]
     },
     "metadata": {},
     "output_type": "display_data"
    },
    {
     "data": {
      "text/html": [
       "<table class=\"dataframe\">\n",
       "<caption>A data.frame: 6 × 2</caption>\n",
       "<thead>\n",
       "\t<tr><th></th><th scope=col>TYPE</th><th scope=col>NEIGHBOURHOOD</th></tr>\n",
       "\t<tr><th></th><th scope=col>&lt;chr&gt;</th><th scope=col>&lt;chr&gt;</th></tr>\n",
       "</thead>\n",
       "<tbody>\n",
       "\t<tr><th scope=row>196371</th><td>Vehicle Collision or Pedestrian Struck (with Injury)</td><td>Riley Park    </td></tr>\n",
       "\t<tr><th scope=row>196372</th><td>Vehicle Collision or Pedestrian Struck (with Injury)</td><td>Riley Park    </td></tr>\n",
       "\t<tr><th scope=row>196373</th><td>Vehicle Collision or Pedestrian Struck (with Injury)</td><td>Mount Pleasant</td></tr>\n",
       "\t<tr><th scope=row>196374</th><td>Vehicle Collision or Pedestrian Struck (with Injury)</td><td>Mount Pleasant</td></tr>\n",
       "\t<tr><th scope=row>196375</th><td>Vehicle Collision or Pedestrian Struck (with Injury)</td><td>Mount Pleasant</td></tr>\n",
       "\t<tr><th scope=row>196376</th><td>Vehicle Collision or Pedestrian Struck (with Injury)</td><td>Mount Pleasant</td></tr>\n",
       "</tbody>\n",
       "</table>\n"
      ],
      "text/latex": [
       "A data.frame: 6 × 2\n",
       "\\begin{tabular}{r|ll}\n",
       "  & TYPE & NEIGHBOURHOOD\\\\\n",
       "  & <chr> & <chr>\\\\\n",
       "\\hline\n",
       "\t196371 & Vehicle Collision or Pedestrian Struck (with Injury) & Riley Park    \\\\\n",
       "\t196372 & Vehicle Collision or Pedestrian Struck (with Injury) & Riley Park    \\\\\n",
       "\t196373 & Vehicle Collision or Pedestrian Struck (with Injury) & Mount Pleasant\\\\\n",
       "\t196374 & Vehicle Collision or Pedestrian Struck (with Injury) & Mount Pleasant\\\\\n",
       "\t196375 & Vehicle Collision or Pedestrian Struck (with Injury) & Mount Pleasant\\\\\n",
       "\t196376 & Vehicle Collision or Pedestrian Struck (with Injury) & Mount Pleasant\\\\\n",
       "\\end{tabular}\n"
      ],
      "text/markdown": [
       "\n",
       "A data.frame: 6 × 2\n",
       "\n",
       "| <!--/--> | TYPE &lt;chr&gt; | NEIGHBOURHOOD &lt;chr&gt; |\n",
       "|---|---|---|\n",
       "| 196371 | Vehicle Collision or Pedestrian Struck (with Injury) | Riley Park     |\n",
       "| 196372 | Vehicle Collision or Pedestrian Struck (with Injury) | Riley Park     |\n",
       "| 196373 | Vehicle Collision or Pedestrian Struck (with Injury) | Mount Pleasant |\n",
       "| 196374 | Vehicle Collision or Pedestrian Struck (with Injury) | Mount Pleasant |\n",
       "| 196375 | Vehicle Collision or Pedestrian Struck (with Injury) | Mount Pleasant |\n",
       "| 196376 | Vehicle Collision or Pedestrian Struck (with Injury) | Mount Pleasant |\n",
       "\n"
      ],
      "text/plain": [
       "       TYPE                                                 NEIGHBOURHOOD \n",
       "196371 Vehicle Collision or Pedestrian Struck (with Injury) Riley Park    \n",
       "196372 Vehicle Collision or Pedestrian Struck (with Injury) Riley Park    \n",
       "196373 Vehicle Collision or Pedestrian Struck (with Injury) Mount Pleasant\n",
       "196374 Vehicle Collision or Pedestrian Struck (with Injury) Mount Pleasant\n",
       "196375 Vehicle Collision or Pedestrian Struck (with Injury) Mount Pleasant\n",
       "196376 Vehicle Collision or Pedestrian Struck (with Injury) Mount Pleasant"
      ]
     },
     "metadata": {},
     "output_type": "display_data"
    }
   ],
   "source": [
    "# Filters the dataset for years 2004 - 2008 and selects the type of crime and the neighbourhood\n",
    "crime_2018_2022 <- tidy_dataset |>\n",
    "    filter(YEAR %in% (2018:2022)) |>\n",
    "    select(TYPE, NEIGHBOURHOOD)\n",
    "\n",
    "# Prints the first 6 rows of the dataset\n",
    "head(crime_2018_2022)\n",
    "\n",
    "# Prints the last 6 rows of the dataset\n",
    "tail(crime_2018_2022)"
   ]
  },
  {
   "cell_type": "code",
   "execution_count": 30,
   "id": "c0b5b2a2-c47b-4f46-a1e7-c46254d85850",
   "metadata": {
    "tags": []
   },
   "outputs": [
    {
     "name": "stdout",
     "output_type": "stream",
     "text": [
      "[1] \"The estimated proportion of other theft crimes out of all crimes in Vancouver from 2018 - 2022 is 0.264.\"\n",
      "[1] \"The estimated proportion of break and enter crimes out of all crimes in Vancouver from 2018 - 2022 is 0.148.\"\n"
     ]
    }
   ],
   "source": [
    "set.seed(2)\n",
    "\n",
    "# Randomly samples the 2018-2022 crime population (size = 500)\n",
    "sample_2018_2022 <- crime_2018_2022 |>\n",
    "    rep_sample_n(size = 500, replace = FALSE) |>\n",
    "    ungroup() |>\n",
    "    select(-replicate)\n",
    "\n",
    "# Filters for \"Other Theft\" from the random sample\n",
    "other_theft_2018_2022 <- sample_2018_2022 |>\n",
    "    filter(TYPE == \"Other Theft\") \n",
    "\n",
    "# Calculates p̂ for other theft from 2018-2022\n",
    "phat_theft_2 <- nrow(other_theft_2018_2022)/nrow(sample_2018_2022)\n",
    "\n",
    "# Prints the other theft proportion estimate from 2018-2022\n",
    "print(paste0(\"The estimated proportion of other theft crimes out of all crimes in Vancouver from 2018 - 2022 is \", phat_theft_2, \".\"))\n",
    "\n",
    "# Filters for \"Break and Enter Commercial\" and \"Break and Enter Residential/Other\" from the random sample\n",
    "break_and_enter_2018_2022 <- sample_2018_2022 |>\n",
    "    filter(TYPE == \"Break and Enter Commercial\" | TYPE == \"Break and Enter Residential/Other\") \n",
    "\n",
    "# Calculates p̂ for break and enters from 2018-2022\n",
    "phat_bne_2 <- nrow(break_and_enter_2018_2022)/nrow(sample_2018_2022)\n",
    "\n",
    "# Prints the break and enter proportion estimate from 2018-2022\n",
    "print(paste0(\"The estimated proportion of break and enter crimes out of all crimes in Vancouver from 2018 - 2022 is \", phat_bne_2, \".\"))"
   ]
  },
  {
   "cell_type": "markdown",
   "id": "c3387659-3b22-4f82-9195-120fd25fba8b",
   "metadata": {},
   "source": [
    "Finally, we will calculate the difference in sample proportions—our sample statistic of interest."
   ]
  },
  {
   "cell_type": "code",
   "execution_count": 32,
   "id": "e386a968-a20e-46d1-906e-687be32d6289",
   "metadata": {
    "tags": []
   },
   "outputs": [
    {
     "name": "stdout",
     "output_type": "stream",
     "text": [
      "[1] \"The estimated difference in proportion of other theft crimes from 2018 - 2022 and 2004 - 2008 out of all crimes in Vancouver is 0.054.\"\n",
      "[1] \"The estimated difference in proportion of break and enters from 2018 - 2022 and 2004 - 2008 out of all crimes in Vancouver is -0.048.\"\n"
     ]
    }
   ],
   "source": [
    "# Calculates the difference in sample proportions for other theft\n",
    "phat_theft = phat_theft_2 - phat_theft_1\n",
    "print(paste0(\"The estimated difference in proportion of other theft crimes from 2018 - 2022 and 2004 - 2008 out of all crimes in Vancouver is \", phat_theft, \".\"))\n",
    "\n",
    "\n",
    "# Calculates the difference in sample proportions for break and enters\n",
    "phat_bne = phat_bne_2 - phat_bne_1\n",
    "print(paste0(\"The estimated difference in proportion of break and enters from 2018 - 2022 and 2004 - 2008 out of all crimes in Vancouver is \", phat_bne, \".\"))"
   ]
  },
  {
   "cell_type": "markdown",
   "id": "8293a062-1689-4019-bc95-b87dd4eb8aac",
   "metadata": {},
   "source": [
    "**need to add titles"
   ]
  }
 ],
 "metadata": {
  "kernelspec": {
   "display_name": "R",
   "language": "R",
   "name": "ir"
  },
  "language_info": {
   "codemirror_mode": "r",
   "file_extension": ".r",
   "mimetype": "text/x-r-source",
   "name": "R",
   "pygments_lexer": "r",
   "version": "4.2.3"
  }
 },
 "nbformat": 4,
 "nbformat_minor": 5
}
